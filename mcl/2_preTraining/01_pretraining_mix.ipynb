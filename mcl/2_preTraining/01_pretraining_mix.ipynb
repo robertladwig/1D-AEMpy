{
 "cells": [
  {
   "cell_type": "markdown",
   "id": "21298510-143b-4486-826e-76daea4b5178",
   "metadata": {},
   "source": [
    "## Chlorophyll-a forecasting using LSTM Model\n",
    "\n"
   ]
  },
  {
   "cell_type": "markdown",
   "id": "149c97d2-6b77-4cb6-8da4-b235cf32f355",
   "metadata": {},
   "source": [
    "#### Getting Started:\n",
    "1. Before running the notebook, please make sure to have the following python version and libraries are installed <br>\n",
    "- python 3.9.12\n",
    "- pytorch (https://pytorch.org/get-started/locally/)\n",
    "\n",
    "2. Create an account in Weights and Biases (WANDB) (https://wandb.ai/home). While running the notebook, you maybe prompted to enter the WANDB username\n",
    "\n",
    "<br>\n",
    "The requirements.txt file lists the basic libraries require. Running the following cell should install all of them (in case they are not already installed). \n",
    "\n",
    "In case, any library is missed here, you would be prompted with an ImportError. In such case, just install it with pip (google -> pip install library_name)"
   ]
  },
  {
   "cell_type": "code",
   "execution_count": 1,
   "id": "9647d322-fa23-46b0-a057-2b5b5b8e9b91",
   "metadata": {
    "scrolled": true,
    "tags": []
   },
   "outputs": [
    {
     "name": "stdout",
     "output_type": "stream",
     "text": [
      "Requirement already satisfied: numpy in c:\\users\\au740615\\appdata\\local\\anaconda3\\lib\\site-packages (from -r requirements.txt (line 1)) (1.24.3)\n",
      "Requirement already satisfied: pandas in c:\\users\\au740615\\appdata\\local\\anaconda3\\lib\\site-packages (from -r requirements.txt (line 2)) (2.0.3)\n",
      "Requirement already satisfied: wandb in c:\\users\\au740615\\appdata\\local\\anaconda3\\lib\\site-packages (from -r requirements.txt (line 3)) (0.16.3)\n",
      "Requirement already satisfied: matplotlib in c:\\users\\au740615\\appdata\\local\\anaconda3\\lib\\site-packages (from -r requirements.txt (line 4)) (3.7.2)\n",
      "Requirement already satisfied: python-dateutil>=2.8.2 in c:\\users\\au740615\\appdata\\local\\anaconda3\\lib\\site-packages (from pandas->-r requirements.txt (line 2)) (2.8.2)\n",
      "Requirement already satisfied: pytz>=2020.1 in c:\\users\\au740615\\appdata\\local\\anaconda3\\lib\\site-packages (from pandas->-r requirements.txt (line 2)) (2023.3.post1)\n",
      "Requirement already satisfied: tzdata>=2022.1 in c:\\users\\au740615\\appdata\\local\\anaconda3\\lib\\site-packages (from pandas->-r requirements.txt (line 2)) (2023.3)\n",
      "Requirement already satisfied: Click!=8.0.0,>=7.1 in c:\\users\\au740615\\appdata\\local\\anaconda3\\lib\\site-packages (from wandb->-r requirements.txt (line 3)) (8.0.4)\n",
      "Requirement already satisfied: GitPython!=3.1.29,>=1.0.0 in c:\\users\\au740615\\appdata\\local\\anaconda3\\lib\\site-packages (from wandb->-r requirements.txt (line 3)) (3.1.42)\n",
      "Requirement already satisfied: requests<3,>=2.0.0 in c:\\users\\au740615\\appdata\\local\\anaconda3\\lib\\site-packages (from wandb->-r requirements.txt (line 3)) (2.31.0)\n",
      "Requirement already satisfied: psutil>=5.0.0 in c:\\users\\au740615\\appdata\\local\\anaconda3\\lib\\site-packages (from wandb->-r requirements.txt (line 3)) (5.9.0)\n",
      "Requirement already satisfied: sentry-sdk>=1.0.0 in c:\\users\\au740615\\appdata\\local\\anaconda3\\lib\\site-packages (from wandb->-r requirements.txt (line 3)) (1.40.5)\n",
      "Requirement already satisfied: docker-pycreds>=0.4.0 in c:\\users\\au740615\\appdata\\local\\anaconda3\\lib\\site-packages (from wandb->-r requirements.txt (line 3)) (0.4.0)\n",
      "Requirement already satisfied: PyYAML in c:\\users\\au740615\\appdata\\local\\anaconda3\\lib\\site-packages (from wandb->-r requirements.txt (line 3)) (6.0)\n",
      "Requirement already satisfied: setproctitle in c:\\users\\au740615\\appdata\\local\\anaconda3\\lib\\site-packages (from wandb->-r requirements.txt (line 3)) (1.3.3)\n",
      "Requirement already satisfied: setuptools in c:\\users\\au740615\\appdata\\local\\anaconda3\\lib\\site-packages (from wandb->-r requirements.txt (line 3)) (68.0.0)\n",
      "Requirement already satisfied: appdirs>=1.4.3 in c:\\users\\au740615\\appdata\\local\\anaconda3\\lib\\site-packages (from wandb->-r requirements.txt (line 3)) (1.4.4)\n",
      "Requirement already satisfied: protobuf!=4.21.0,<5,>=3.19.0 in c:\\users\\au740615\\appdata\\local\\anaconda3\\lib\\site-packages (from wandb->-r requirements.txt (line 3)) (4.25.3)\n",
      "Requirement already satisfied: contourpy>=1.0.1 in c:\\users\\au740615\\appdata\\local\\anaconda3\\lib\\site-packages (from matplotlib->-r requirements.txt (line 4)) (1.0.5)\n",
      "Requirement already satisfied: cycler>=0.10 in c:\\users\\au740615\\appdata\\local\\anaconda3\\lib\\site-packages (from matplotlib->-r requirements.txt (line 4)) (0.11.0)\n",
      "Requirement already satisfied: fonttools>=4.22.0 in c:\\users\\au740615\\appdata\\local\\anaconda3\\lib\\site-packages (from matplotlib->-r requirements.txt (line 4)) (4.25.0)\n",
      "Requirement already satisfied: kiwisolver>=1.0.1 in c:\\users\\au740615\\appdata\\local\\anaconda3\\lib\\site-packages (from matplotlib->-r requirements.txt (line 4)) (1.4.4)\n",
      "Requirement already satisfied: packaging>=20.0 in c:\\users\\au740615\\appdata\\local\\anaconda3\\lib\\site-packages (from matplotlib->-r requirements.txt (line 4)) (23.1)\n",
      "Requirement already satisfied: pillow>=6.2.0 in c:\\users\\au740615\\appdata\\local\\anaconda3\\lib\\site-packages (from matplotlib->-r requirements.txt (line 4)) (10.0.1)\n",
      "Requirement already satisfied: pyparsing<3.1,>=2.3.1 in c:\\users\\au740615\\appdata\\local\\anaconda3\\lib\\site-packages (from matplotlib->-r requirements.txt (line 4)) (3.0.9)\n",
      "Requirement already satisfied: colorama in c:\\users\\au740615\\appdata\\local\\anaconda3\\lib\\site-packages (from Click!=8.0.0,>=7.1->wandb->-r requirements.txt (line 3)) (0.4.6)\n",
      "Requirement already satisfied: six>=1.4.0 in c:\\users\\au740615\\appdata\\local\\anaconda3\\lib\\site-packages (from docker-pycreds>=0.4.0->wandb->-r requirements.txt (line 3)) (1.16.0)\n",
      "Requirement already satisfied: gitdb<5,>=4.0.1 in c:\\users\\au740615\\appdata\\local\\anaconda3\\lib\\site-packages (from GitPython!=3.1.29,>=1.0.0->wandb->-r requirements.txt (line 3)) (4.0.11)\n",
      "Requirement already satisfied: charset-normalizer<4,>=2 in c:\\users\\au740615\\appdata\\local\\anaconda3\\lib\\site-packages (from requests<3,>=2.0.0->wandb->-r requirements.txt (line 3)) (2.0.4)\n",
      "Requirement already satisfied: idna<4,>=2.5 in c:\\users\\au740615\\appdata\\local\\anaconda3\\lib\\site-packages (from requests<3,>=2.0.0->wandb->-r requirements.txt (line 3)) (3.4)\n",
      "Requirement already satisfied: urllib3<3,>=1.21.1 in c:\\users\\au740615\\appdata\\local\\anaconda3\\lib\\site-packages (from requests<3,>=2.0.0->wandb->-r requirements.txt (line 3)) (1.26.16)\n",
      "Requirement already satisfied: certifi>=2017.4.17 in c:\\users\\au740615\\appdata\\local\\anaconda3\\lib\\site-packages (from requests<3,>=2.0.0->wandb->-r requirements.txt (line 3)) (2024.2.2)\n",
      "Requirement already satisfied: smmap<6,>=3.0.1 in c:\\users\\au740615\\appdata\\local\\anaconda3\\lib\\site-packages (from gitdb<5,>=4.0.1->GitPython!=3.1.29,>=1.0.0->wandb->-r requirements.txt (line 3)) (5.0.1)\n"
     ]
    }
   ],
   "source": [
    "!pip install -r requirements.txt"
   ]
  },
  {
   "cell_type": "code",
   "execution_count": 2,
   "id": "1fc72a57",
   "metadata": {},
   "outputs": [
    {
     "name": "stderr",
     "output_type": "stream",
     "text": [
      "\u001b[34m\u001b[1mwandb\u001b[0m: Currently logged in as: \u001b[33mrladwig\u001b[0m (\u001b[33mcomputational-limnology\u001b[0m). Use \u001b[1m`wandb login --relogin`\u001b[0m to force relogin\n"
     ]
    }
   ],
   "source": [
    "import random\n",
    "import pandas as pd\n",
    "import numpy as np\n",
    "from tqdm import trange\n",
    "import os\n",
    "import datetime\n",
    "import matplotlib.pyplot as plt\n",
    "import math\n",
    "\n",
    "import torch\n",
    "import torch.nn as nn\n",
    "from torch import optim\n",
    "\n",
    "from utils import Utils\n",
    "from encoder_decoder import seq2seq\n",
    "\n",
    "import warnings\n",
    "warnings.filterwarnings('ignore')"
   ]
  },
  {
   "cell_type": "markdown",
   "id": "04422e54-1a3e-484d-8073-6f8ab1157654",
   "metadata": {},
   "source": [
    "## 0. GPU Selection\n",
    "Check if GPU is available on the machine the notebook is running. If yes, then assign a GPU, else run it on CPU"
   ]
  },
  {
   "cell_type": "code",
   "execution_count": 3,
   "id": "37545ef0-b10e-4533-8709-65455aeb879c",
   "metadata": {},
   "outputs": [
    {
     "name": "stdout",
     "output_type": "stream",
     "text": [
      "cuda\n"
     ]
    }
   ],
   "source": [
    "if torch.cuda.is_available():\n",
    "    device = torch.device('cuda')\n",
    "else:\n",
    "    device = torch.device('cpu')\n",
    "\n",
    "print(device)"
   ]
  },
  {
   "cell_type": "markdown",
   "id": "98d19519-ab89-45d4-a445-cace50675429",
   "metadata": {},
   "source": [
    "## 1. Parameter setting"
   ]
  },
  {
   "cell_type": "markdown",
   "id": "4fe55ca3-ae44-4e45-a80b-76bebb2719c7",
   "metadata": {},
   "source": [
    "#### Specify the wandb project and wandb run\n",
    "wandb refers to Weights and Biases. Integrating this tool into the notebook will allow it to access the run details and generate train and test curves, among many other information"
   ]
  },
  {
   "cell_type": "code",
   "execution_count": 4,
   "id": "87960245-ad8f-458f-8cf9-48a8302075e2",
   "metadata": {},
   "outputs": [],
   "source": [
    "# wandb project name\n",
    "wandb_project = \"mcl_lstm\"\n",
    "\n",
    "# wandb run name\n",
    "wandb_run = \"mix_run_{}_{}\".format(str(datetime.datetime.now().date()), str(datetime.datetime.now().time()))\n",
    "\n",
    "# Yes if we want wandb to save our python code, else no\n",
    "save_code = True"
   ]
  },
  {
   "cell_type": "markdown",
   "id": "1ffb0fdc-998e-4fe8-bb68-4833174db28b",
   "metadata": {},
   "source": [
    "#### Specify the input path (where the dataset is stored) and dataset name\n",
    "Note: For different dataset, the processing/handling can/will be different. In this notebook, FCR (observational) data has been considered. It also has a metadata file that stores the column names and types. \n",
    "<br>\n",
    "For the purpose of the tutorial, the notebook is kept simple, hence, going with FCR data for now"
   ]
  },
  {
   "cell_type": "code",
   "execution_count": 5,
   "id": "c9452b15",
   "metadata": {},
   "outputs": [],
   "source": [
    "# Input path\n",
    "path = './'\n",
    "\n",
    "# Name of the file\n",
    "file = '../1_trainingData/all_data_lake_modeling_in_time_perRow.csv'\n",
    "\n",
    "# Name of the metadata file\n",
    "#../metadata = 'LSTM_dataset_column_key_07OCT22.csv'"
   ]
  },
  {
   "cell_type": "markdown",
   "id": "a7d6647e-bf85-450a-bdba-11b65cf7a19f",
   "metadata": {},
   "source": [
    "#### Specify the Time-series specific parameters"
   ]
  },
  {
   "cell_type": "code",
   "execution_count": 6,
   "id": "e7676d8b",
   "metadata": {},
   "outputs": [],
   "source": [
    "# Lookback window\n",
    "input_window = 24*3\n",
    "\n",
    "# horizon window\n",
    "output_window = 24*3\n",
    "\n",
    "# stride - While creating samples (lookback window + horizon window = 1 sample) define the amount of stride the sliding window needs to take\n",
    "stride = 1\n",
    "\n",
    "# The ratio in which train and test data is split. If it is 0.8, then first 80% of data goes into train and remaining 20% into test\n",
    "split_ratio = 0.6"
   ]
  },
  {
   "cell_type": "markdown",
   "id": "c022d5d9-93ad-4ad9-9f13-dee45af13236",
   "metadata": {},
   "source": [
    "#### Specify the model specific parameters"
   ]
  },
  {
   "cell_type": "code",
   "execution_count": 7,
   "id": "f667a463",
   "metadata": {},
   "outputs": [],
   "source": [
    "# Types of Model include: LSTM, GRU, RNN\n",
    "model_type = \"LSTM\"\n",
    "\n",
    "# Number of layers in our deep learning model\n",
    "num_layers = 2\n",
    "\n",
    "# Hidden cell (RNN/LSTM/GRU) size\n",
    "hidden_feature_size = 32\n",
    "\n",
    "# Output size of our encoder_decoder model, i.e. number of target variables\n",
    "output_size = 50\n",
    "\n",
    "'''\n",
    "Model Training parameters\n",
    "'''\n",
    "# batch_size during training\n",
    "batch_size = 32\n",
    "\n",
    "# Number of epochs we want to train the model for (1 epoch = 1 pass of the complete training data through the model)\n",
    "epochs = 100\n",
    "\n",
    "# Learning rate specifies the rate at which we want to update the model parameters after every training pass\n",
    "learning_rate = 0.001\n",
    "\n",
    "# Eval freq says how frequently during training do you want to evaluate your model on the validation data (to see its performance on non-training data)\n",
    "eval_freq = 1 # logic is -> if iteration_num % eval_freq == 0 -> then perform evaluation\n",
    "\n",
    "# While generating the training batches do we want the generator to shuffle the batches?\n",
    "batch_shuffle = True\n",
    "\n",
    "# Dropout is a form of regularization\n",
    "dropout = 0.0\n",
    "\n",
    "'''\n",
    "Learning rate scheduler parameters\n",
    "'''\n",
    "max_lr=5e-3\n",
    "div_factor=100\n",
    "pct_start=0.05 \n",
    "anneal_strategy='cos'\n",
    "final_div_factor=10000.0\n",
    "\n",
    "'''\n",
    "Parameters for early stopping\n",
    "'''\n",
    "# Set to True if we want Early stopping\n",
    "early_stop = False\n",
    "\n",
    "# If there is no improvement for a 'thres' number of epocs stop the training process\n",
    "thres=5\n",
    "\n",
    "# Quantifying the improvement. If the validation loss is greater than min_val_loss_so_far + delta for thres number of iterations stop the training\n",
    "delta=0.5\n",
    "\n",
    "'''\n",
    "Other parameters\n",
    "'''\n",
    "# Specify the amount of L2 regularization to be applied.\n",
    "weight_decay=0.0\n",
    "\n",
    "# Specify the percentage of times we want to enforce teacher forcing\n",
    "teacher_forcing_ratio = 0.0\n",
    "training_prediction = 'recursive'"
   ]
  },
  {
   "cell_type": "markdown",
   "id": "7baed735-58cd-4ebe-9687-8fe7d5c256b3",
   "metadata": {},
   "source": [
    "## 2. Data Processing"
   ]
  },
  {
   "cell_type": "markdown",
   "id": "c1a8f79d-c2da-4869-b5a8-357d12527987",
   "metadata": {},
   "source": [
    "#### Read the metadata file"
   ]
  },
  {
   "cell_type": "code",
   "execution_count": 8,
   "id": "912e2327",
   "metadata": {},
   "outputs": [],
   "source": [
    "depth_steps = 25 * 2 \n",
    "\n",
    "depth_list = np.array(list(range(1, depth_steps+1))   )*0.5\n",
    "\n"
   ]
  },
  {
   "cell_type": "code",
   "execution_count": 9,
   "id": "9eeb8e8f",
   "metadata": {},
   "outputs": [],
   "source": [
    "incoming_temp = ['temp_conv04_{}'.format(x) for x in depth_list]\n",
    "outgoing_temp = ['temp_mix05_{}'.format(x) for x in depth_list]\n",
    "\n",
    "dx = pd.read_csv(os.path.join(path,file))\n",
    "\n",
    "#feature_cols = ['AirTemp_degC', 'Longwave_Wm-2', 'Latent_Wm-2', 'Sensible_Wm-2', 'Shortwave_Wm-2',\n",
    "#                'lightExtinct_m-1', 'ShearStress_Nm-2',\n",
    "#                 'day_of_year', 'time_of_day', 'ice', 'snow', 'snowice','Volume_m2','Osgood','MaxDepth_m',\n",
    "#                'MeanDepth_m','Area_m2'] + incoming_temp\n",
    "\n",
    "feature_cols = ['AirTemp_degC', 'Longwave_Wm-2', 'Latent_Wm-2', 'Sensible_Wm-2', 'Shortwave_Wm-2',\n",
    "                'lightExtinct_m-1', 'ShearStress_Nm-2',\n",
    "                 'day_of_year', 'time_of_day', 'ice', 'snow', 'snowice'] + incoming_temp\n",
    "\n",
    "date_col = ['time']\n",
    "\n",
    "target_cols = outgoing_temp"
   ]
  },
  {
   "cell_type": "code",
   "execution_count": 10,
   "id": "cd4317c1",
   "metadata": {},
   "outputs": [],
   "source": [
    "#dx = pd.read_csv(os.path.join(path, metadata))\n",
    "\n",
    "# Extract all col names from Metadata\n",
    "#feature_cols = dx[dx['column_type']=='feature']['column_names'].tolist()  # feature colums represent the input drivers\n",
    "#target_cols = dx[dx['column_type']=='target']['column_names'].tolist()   # target column represent the chlorophyll values\n",
    "#date_col = dx[dx['column_type']=='date']['column_names'].tolist()[0]    # date column stores the date timeline"
   ]
  },
  {
   "cell_type": "code",
   "execution_count": 11,
   "id": "5e6e4a1d-d8d6-4133-968b-1d26b6242610",
   "metadata": {},
   "outputs": [
    {
     "data": {
      "text/plain": [
       "['AirTemp_degC',\n",
       " 'Longwave_Wm-2',\n",
       " 'Latent_Wm-2',\n",
       " 'Sensible_Wm-2',\n",
       " 'Shortwave_Wm-2',\n",
       " 'lightExtinct_m-1',\n",
       " 'ShearStress_Nm-2',\n",
       " 'day_of_year',\n",
       " 'time_of_day',\n",
       " 'ice',\n",
       " 'snow',\n",
       " 'snowice',\n",
       " 'temp_conv04_0.5',\n",
       " 'temp_conv04_1.0',\n",
       " 'temp_conv04_1.5',\n",
       " 'temp_conv04_2.0',\n",
       " 'temp_conv04_2.5',\n",
       " 'temp_conv04_3.0',\n",
       " 'temp_conv04_3.5',\n",
       " 'temp_conv04_4.0',\n",
       " 'temp_conv04_4.5',\n",
       " 'temp_conv04_5.0',\n",
       " 'temp_conv04_5.5',\n",
       " 'temp_conv04_6.0',\n",
       " 'temp_conv04_6.5',\n",
       " 'temp_conv04_7.0',\n",
       " 'temp_conv04_7.5',\n",
       " 'temp_conv04_8.0',\n",
       " 'temp_conv04_8.5',\n",
       " 'temp_conv04_9.0',\n",
       " 'temp_conv04_9.5',\n",
       " 'temp_conv04_10.0',\n",
       " 'temp_conv04_10.5',\n",
       " 'temp_conv04_11.0',\n",
       " 'temp_conv04_11.5',\n",
       " 'temp_conv04_12.0',\n",
       " 'temp_conv04_12.5',\n",
       " 'temp_conv04_13.0',\n",
       " 'temp_conv04_13.5',\n",
       " 'temp_conv04_14.0',\n",
       " 'temp_conv04_14.5',\n",
       " 'temp_conv04_15.0',\n",
       " 'temp_conv04_15.5',\n",
       " 'temp_conv04_16.0',\n",
       " 'temp_conv04_16.5',\n",
       " 'temp_conv04_17.0',\n",
       " 'temp_conv04_17.5',\n",
       " 'temp_conv04_18.0',\n",
       " 'temp_conv04_18.5',\n",
       " 'temp_conv04_19.0',\n",
       " 'temp_conv04_19.5',\n",
       " 'temp_conv04_20.0',\n",
       " 'temp_conv04_20.5',\n",
       " 'temp_conv04_21.0',\n",
       " 'temp_conv04_21.5',\n",
       " 'temp_conv04_22.0',\n",
       " 'temp_conv04_22.5',\n",
       " 'temp_conv04_23.0',\n",
       " 'temp_conv04_23.5',\n",
       " 'temp_conv04_24.0',\n",
       " 'temp_conv04_24.5',\n",
       " 'temp_conv04_25.0']"
      ]
     },
     "execution_count": 11,
     "metadata": {},
     "output_type": "execute_result"
    }
   ],
   "source": [
    "# Specify whether we want to add chlorophyll to the input feature set\n",
    "#feature_cols += target_cols\n",
    "feature_cols"
   ]
  },
  {
   "cell_type": "code",
   "execution_count": 12,
   "id": "4514aca0",
   "metadata": {},
   "outputs": [
    {
     "data": {
      "text/plain": [
       "['temp_mix05_0.5',\n",
       " 'temp_mix05_1.0',\n",
       " 'temp_mix05_1.5',\n",
       " 'temp_mix05_2.0',\n",
       " 'temp_mix05_2.5',\n",
       " 'temp_mix05_3.0',\n",
       " 'temp_mix05_3.5',\n",
       " 'temp_mix05_4.0',\n",
       " 'temp_mix05_4.5',\n",
       " 'temp_mix05_5.0',\n",
       " 'temp_mix05_5.5',\n",
       " 'temp_mix05_6.0',\n",
       " 'temp_mix05_6.5',\n",
       " 'temp_mix05_7.0',\n",
       " 'temp_mix05_7.5',\n",
       " 'temp_mix05_8.0',\n",
       " 'temp_mix05_8.5',\n",
       " 'temp_mix05_9.0',\n",
       " 'temp_mix05_9.5',\n",
       " 'temp_mix05_10.0',\n",
       " 'temp_mix05_10.5',\n",
       " 'temp_mix05_11.0',\n",
       " 'temp_mix05_11.5',\n",
       " 'temp_mix05_12.0',\n",
       " 'temp_mix05_12.5',\n",
       " 'temp_mix05_13.0',\n",
       " 'temp_mix05_13.5',\n",
       " 'temp_mix05_14.0',\n",
       " 'temp_mix05_14.5',\n",
       " 'temp_mix05_15.0',\n",
       " 'temp_mix05_15.5',\n",
       " 'temp_mix05_16.0',\n",
       " 'temp_mix05_16.5',\n",
       " 'temp_mix05_17.0',\n",
       " 'temp_mix05_17.5',\n",
       " 'temp_mix05_18.0',\n",
       " 'temp_mix05_18.5',\n",
       " 'temp_mix05_19.0',\n",
       " 'temp_mix05_19.5',\n",
       " 'temp_mix05_20.0',\n",
       " 'temp_mix05_20.5',\n",
       " 'temp_mix05_21.0',\n",
       " 'temp_mix05_21.5',\n",
       " 'temp_mix05_22.0',\n",
       " 'temp_mix05_22.5',\n",
       " 'temp_mix05_23.0',\n",
       " 'temp_mix05_23.5',\n",
       " 'temp_mix05_24.0',\n",
       " 'temp_mix05_24.5',\n",
       " 'temp_mix05_25.0']"
      ]
     },
     "execution_count": 12,
     "metadata": {},
     "output_type": "execute_result"
    }
   ],
   "source": [
    "target_cols"
   ]
  },
  {
   "cell_type": "markdown",
   "id": "b2858317-ff60-4a47-b03b-8120eff51a9a",
   "metadata": {},
   "source": [
    "#### Create an utility object\n",
    "An object of the Utils class, it contains all the utility functions like splitting train and test data, normalizing the data, etc."
   ]
  },
  {
   "cell_type": "code",
   "execution_count": 13,
   "id": "d0fbd75f-862d-49f7-a4b8-a889da5ccb49",
   "metadata": {},
   "outputs": [],
   "source": [
    "'''\n",
    "Utility instance - to perform data processing, train test split\n",
    "'''\n",
    "utils = Utils(num_features=len(feature_cols), inp_cols=feature_cols, target_cols=target_cols, date_col=date_col,\n",
    "              input_window=input_window, output_window=output_window, num_out_features=output_size, stride=stride)"
   ]
  },
  {
   "cell_type": "markdown",
   "id": "2507a029-f831-493e-984d-bfda26b4cbc9",
   "metadata": {},
   "source": [
    "#### Read the dataset"
   ]
  },
  {
   "cell_type": "code",
   "execution_count": 14,
   "id": "71325c81",
   "metadata": {},
   "outputs": [],
   "source": [
    "'''\n",
    "Read data\n",
    "'''\n",
    "df = pd.read_csv(path+file)"
   ]
  },
  {
   "cell_type": "markdown",
   "id": "68cfdb65-0daa-48ca-866d-cf673335259b",
   "metadata": {},
   "source": [
    "#### Train Test split\n",
    "Ideally, a 3-way split is done - train, val and test. The validation split is generally used to tune the hyper-parameters during training. Once the hyper-parameters are tuned, the model\n",
    "is re-trained on the train+val data. To keep the notebook short and simple, hyper-parameter tuning is not included"
   ]
  },
  {
   "cell_type": "code",
   "execution_count": 15,
   "id": "6cad6087-a46a-469f-b221-2de1bc04e0ba",
   "metadata": {
    "tags": []
   },
   "outputs": [],
   "source": [
    "'''\n",
    "Split data into train and test\n",
    "'''\n",
    "df_train, df_test = utils.train_test_split(df, split_ratio=split_ratio)"
   ]
  },
  {
   "cell_type": "code",
   "execution_count": 16,
   "id": "0dab391e-aa6b-4f48-a3e8-627a486e4a94",
   "metadata": {},
   "outputs": [],
   "source": [
    "def cycle_encode(x, period):\n",
    "    sin = np.sin(2*math.pi*x/period)\n",
    "    cos = np.cos(2*math.pi*x/period)\n",
    "    \n",
    "    return sin, cos"
   ]
  },
  {
   "cell_type": "code",
   "execution_count": 17,
   "id": "753cc37a-7684-44ed-8c4a-a8c481b1c923",
   "metadata": {},
   "outputs": [],
   "source": [
    "train_doy_sin, train_doy_cos = cycle_encode(df_train.day_of_year.values, 365)"
   ]
  },
  {
   "cell_type": "code",
   "execution_count": 18,
   "id": "976830a2-e789-43b0-a0f7-cf6e0315bd62",
   "metadata": {},
   "outputs": [],
   "source": [
    "train_tod_sin, train_tod_cos = cycle_encode(df_train.time_of_day.values, 24)"
   ]
  },
  {
   "cell_type": "code",
   "execution_count": 19,
   "id": "06e440bc-9fb7-4fa8-8868-f42fb6aa3aad",
   "metadata": {},
   "outputs": [],
   "source": [
    "test_doy_sin, test_doy_cos = cycle_encode(df_test.day_of_year.values, 365)"
   ]
  },
  {
   "cell_type": "code",
   "execution_count": 20,
   "id": "03c1de24-ca08-46f7-9a88-cc44ad0a562c",
   "metadata": {},
   "outputs": [],
   "source": [
    "test_tod_sin, test_tod_cos = cycle_encode(df_test.time_of_day.values, 24)"
   ]
  },
  {
   "cell_type": "code",
   "execution_count": 21,
   "id": "a49deda0-e8dc-4274-b402-a393d3dab368",
   "metadata": {},
   "outputs": [
    {
     "data": {
      "text/plain": [
       "['AirTemp_degC',\n",
       " 'Longwave_Wm-2',\n",
       " 'Latent_Wm-2',\n",
       " 'Sensible_Wm-2',\n",
       " 'Shortwave_Wm-2',\n",
       " 'lightExtinct_m-1',\n",
       " 'ShearStress_Nm-2',\n",
       " 'ice',\n",
       " 'snow',\n",
       " 'snowice',\n",
       " 'temp_conv04_0.5',\n",
       " 'temp_conv04_1.0',\n",
       " 'temp_conv04_1.5',\n",
       " 'temp_conv04_2.0',\n",
       " 'temp_conv04_2.5',\n",
       " 'temp_conv04_3.0',\n",
       " 'temp_conv04_3.5',\n",
       " 'temp_conv04_4.0',\n",
       " 'temp_conv04_4.5',\n",
       " 'temp_conv04_5.0',\n",
       " 'temp_conv04_5.5',\n",
       " 'temp_conv04_6.0',\n",
       " 'temp_conv04_6.5',\n",
       " 'temp_conv04_7.0',\n",
       " 'temp_conv04_7.5',\n",
       " 'temp_conv04_8.0',\n",
       " 'temp_conv04_8.5',\n",
       " 'temp_conv04_9.0',\n",
       " 'temp_conv04_9.5',\n",
       " 'temp_conv04_10.0',\n",
       " 'temp_conv04_10.5',\n",
       " 'temp_conv04_11.0',\n",
       " 'temp_conv04_11.5',\n",
       " 'temp_conv04_12.0',\n",
       " 'temp_conv04_12.5',\n",
       " 'temp_conv04_13.0',\n",
       " 'temp_conv04_13.5',\n",
       " 'temp_conv04_14.0',\n",
       " 'temp_conv04_14.5',\n",
       " 'temp_conv04_15.0',\n",
       " 'temp_conv04_15.5',\n",
       " 'temp_conv04_16.0',\n",
       " 'temp_conv04_16.5',\n",
       " 'temp_conv04_17.0',\n",
       " 'temp_conv04_17.5',\n",
       " 'temp_conv04_18.0',\n",
       " 'temp_conv04_18.5',\n",
       " 'temp_conv04_19.0',\n",
       " 'temp_conv04_19.5',\n",
       " 'temp_conv04_20.0',\n",
       " 'temp_conv04_20.5',\n",
       " 'temp_conv04_21.0',\n",
       " 'temp_conv04_21.5',\n",
       " 'temp_conv04_22.0',\n",
       " 'temp_conv04_22.5',\n",
       " 'temp_conv04_23.0',\n",
       " 'temp_conv04_23.5',\n",
       " 'temp_conv04_24.0',\n",
       " 'temp_conv04_24.5',\n",
       " 'temp_conv04_25.0']"
      ]
     },
     "execution_count": 21,
     "metadata": {},
     "output_type": "execute_result"
    }
   ],
   "source": [
    "feature_cols.remove('day_of_year')\n",
    "feature_cols.remove('time_of_day')\n",
    "feature_cols"
   ]
  },
  {
   "cell_type": "markdown",
   "id": "102b30a0-2955-4ebb-b97b-7b2157df0713",
   "metadata": {},
   "source": [
    "#### Normalize the data\n",
    "Standard normalization - 0 mean and 1 standard deviation"
   ]
  },
  {
   "cell_type": "code",
   "execution_count": 22,
   "id": "ee4e0544-8a78-4bd5-a675-b705895f1973",
   "metadata": {},
   "outputs": [
    {
     "data": {
      "text/plain": [
       "['AirTemp_degC',\n",
       " 'Longwave_Wm-2',\n",
       " 'Latent_Wm-2',\n",
       " 'Sensible_Wm-2',\n",
       " 'Shortwave_Wm-2',\n",
       " 'lightExtinct_m-1',\n",
       " 'ShearStress_Nm-2',\n",
       " 'ice',\n",
       " 'snow',\n",
       " 'snowice',\n",
       " 'temp_conv04_0.5',\n",
       " 'temp_conv04_1.0',\n",
       " 'temp_conv04_1.5',\n",
       " 'temp_conv04_2.0',\n",
       " 'temp_conv04_2.5',\n",
       " 'temp_conv04_3.0',\n",
       " 'temp_conv04_3.5',\n",
       " 'temp_conv04_4.0',\n",
       " 'temp_conv04_4.5',\n",
       " 'temp_conv04_5.0',\n",
       " 'temp_conv04_5.5',\n",
       " 'temp_conv04_6.0',\n",
       " 'temp_conv04_6.5',\n",
       " 'temp_conv04_7.0',\n",
       " 'temp_conv04_7.5',\n",
       " 'temp_conv04_8.0',\n",
       " 'temp_conv04_8.5',\n",
       " 'temp_conv04_9.0',\n",
       " 'temp_conv04_9.5',\n",
       " 'temp_conv04_10.0',\n",
       " 'temp_conv04_10.5',\n",
       " 'temp_conv04_11.0',\n",
       " 'temp_conv04_11.5',\n",
       " 'temp_conv04_12.0',\n",
       " 'temp_conv04_12.5',\n",
       " 'temp_conv04_13.0',\n",
       " 'temp_conv04_13.5',\n",
       " 'temp_conv04_14.0',\n",
       " 'temp_conv04_14.5',\n",
       " 'temp_conv04_15.0',\n",
       " 'temp_conv04_15.5',\n",
       " 'temp_conv04_16.0',\n",
       " 'temp_conv04_16.5',\n",
       " 'temp_conv04_17.0',\n",
       " 'temp_conv04_17.5',\n",
       " 'temp_conv04_18.0',\n",
       " 'temp_conv04_18.5',\n",
       " 'temp_conv04_19.0',\n",
       " 'temp_conv04_19.5',\n",
       " 'temp_conv04_20.0',\n",
       " 'temp_conv04_20.5',\n",
       " 'temp_conv04_21.0',\n",
       " 'temp_conv04_21.5',\n",
       " 'temp_conv04_22.0',\n",
       " 'temp_conv04_22.5',\n",
       " 'temp_conv04_23.0',\n",
       " 'temp_conv04_23.5',\n",
       " 'temp_conv04_24.0',\n",
       " 'temp_conv04_24.5',\n",
       " 'temp_conv04_25.0']"
      ]
     },
     "execution_count": 22,
     "metadata": {},
     "output_type": "execute_result"
    }
   ],
   "source": [
    "utils.inp_cols"
   ]
  },
  {
   "cell_type": "code",
   "execution_count": 23,
   "id": "9b88b504",
   "metadata": {},
   "outputs": [],
   "source": [
    "'''\n",
    "Data Scaling\n",
    "'''\n",
    "df_train = utils.normalize(df_train)"
   ]
  },
  {
   "cell_type": "code",
   "execution_count": 24,
   "id": "5f626d00-eac6-419c-a95d-f40b32a2b02a",
   "metadata": {},
   "outputs": [],
   "source": [
    "df_test = utils.normalize(df_test, use_stat=True)"
   ]
  },
  {
   "cell_type": "code",
   "execution_count": 25,
   "id": "9fdc2abe-c885-457b-984a-72fb729ad293",
   "metadata": {},
   "outputs": [],
   "source": [
    "feature_cols += ['doy_sin', 'doy_cos', 'tod_sin', 'tod_cos']"
   ]
  },
  {
   "cell_type": "code",
   "execution_count": 26,
   "id": "e4babb9a-8ce6-48be-a62f-0af3bcc91030",
   "metadata": {},
   "outputs": [
    {
     "data": {
      "text/plain": [
       "['AirTemp_degC',\n",
       " 'Longwave_Wm-2',\n",
       " 'Latent_Wm-2',\n",
       " 'Sensible_Wm-2',\n",
       " 'Shortwave_Wm-2',\n",
       " 'lightExtinct_m-1',\n",
       " 'ShearStress_Nm-2',\n",
       " 'ice',\n",
       " 'snow',\n",
       " 'snowice',\n",
       " 'temp_conv04_0.5',\n",
       " 'temp_conv04_1.0',\n",
       " 'temp_conv04_1.5',\n",
       " 'temp_conv04_2.0',\n",
       " 'temp_conv04_2.5',\n",
       " 'temp_conv04_3.0',\n",
       " 'temp_conv04_3.5',\n",
       " 'temp_conv04_4.0',\n",
       " 'temp_conv04_4.5',\n",
       " 'temp_conv04_5.0',\n",
       " 'temp_conv04_5.5',\n",
       " 'temp_conv04_6.0',\n",
       " 'temp_conv04_6.5',\n",
       " 'temp_conv04_7.0',\n",
       " 'temp_conv04_7.5',\n",
       " 'temp_conv04_8.0',\n",
       " 'temp_conv04_8.5',\n",
       " 'temp_conv04_9.0',\n",
       " 'temp_conv04_9.5',\n",
       " 'temp_conv04_10.0',\n",
       " 'temp_conv04_10.5',\n",
       " 'temp_conv04_11.0',\n",
       " 'temp_conv04_11.5',\n",
       " 'temp_conv04_12.0',\n",
       " 'temp_conv04_12.5',\n",
       " 'temp_conv04_13.0',\n",
       " 'temp_conv04_13.5',\n",
       " 'temp_conv04_14.0',\n",
       " 'temp_conv04_14.5',\n",
       " 'temp_conv04_15.0',\n",
       " 'temp_conv04_15.5',\n",
       " 'temp_conv04_16.0',\n",
       " 'temp_conv04_16.5',\n",
       " 'temp_conv04_17.0',\n",
       " 'temp_conv04_17.5',\n",
       " 'temp_conv04_18.0',\n",
       " 'temp_conv04_18.5',\n",
       " 'temp_conv04_19.0',\n",
       " 'temp_conv04_19.5',\n",
       " 'temp_conv04_20.0',\n",
       " 'temp_conv04_20.5',\n",
       " 'temp_conv04_21.0',\n",
       " 'temp_conv04_21.5',\n",
       " 'temp_conv04_22.0',\n",
       " 'temp_conv04_22.5',\n",
       " 'temp_conv04_23.0',\n",
       " 'temp_conv04_23.5',\n",
       " 'temp_conv04_24.0',\n",
       " 'temp_conv04_24.5',\n",
       " 'temp_conv04_25.0',\n",
       " 'doy_sin',\n",
       " 'doy_cos',\n",
       " 'tod_sin',\n",
       " 'tod_cos']"
      ]
     },
     "execution_count": 26,
     "metadata": {},
     "output_type": "execute_result"
    }
   ],
   "source": [
    "utils.inp_cols"
   ]
  },
  {
   "cell_type": "code",
   "execution_count": 27,
   "id": "67e5eb5d-f319-4630-af29-e4a63b1cb272",
   "metadata": {},
   "outputs": [],
   "source": [
    "df_train['doy_sin'] = train_doy_sin\n",
    "df_train['doy_cos'] = train_doy_cos\n",
    "df_test['doy_sin'] = test_doy_sin\n",
    "df_test['doy_cos'] = test_doy_cos"
   ]
  },
  {
   "cell_type": "code",
   "execution_count": 28,
   "id": "b07feb4b-336a-4f6a-b24f-4426def07e28",
   "metadata": {},
   "outputs": [],
   "source": [
    "df_train['tod_sin'] = train_tod_sin\n",
    "df_train['tod_cos'] = train_tod_cos\n",
    "df_test['tod_sin'] = test_tod_sin\n",
    "df_test['tod_cos'] = test_tod_cos"
   ]
  },
  {
   "cell_type": "code",
   "execution_count": 29,
   "id": "47545b57-8fa4-4261-8c65-abed536cd857",
   "metadata": {},
   "outputs": [],
   "source": [
    "'''\n",
    "convert the mean and std to torch\n",
    "'''\n",
    "utils.y_mean = torch.tensor(utils.y_mean, device=device)\n",
    "utils.y_std = torch.tensor(utils.y_std, device=device)"
   ]
  },
  {
   "cell_type": "code",
   "execution_count": 30,
   "id": "77b072a9-dfd2-4a42-9f97-ef14c7712b3d",
   "metadata": {},
   "outputs": [
    {
     "data": {
      "text/plain": [
       "tensor([10.0881, 10.1474, 10.1955, 10.2307, 10.2536, 10.2640, 10.2621, 10.2534,\n",
       "        10.2343, 10.2041, 10.1698, 10.1208, 10.0467,  9.9483,  9.8600,  9.7364,\n",
       "         9.6203,  9.4911,  9.3375,  9.1913,  9.0196,  8.8059,  8.5462,  8.2926,\n",
       "         8.0832,  7.8677,  7.6297,  7.4296,  7.2486,  7.0241,  6.7801,  6.5824,\n",
       "         6.4099,  6.2339,  6.0484,  5.8629,  5.7071,  5.6068,  5.5393,  5.5037,\n",
       "         5.4894,  5.4739,  5.4826,  5.5073,  5.5378,  5.5720,  5.6060,  5.6388,\n",
       "         5.6481,  5.6179], device='cuda:0', dtype=torch.float64)"
      ]
     },
     "execution_count": 30,
     "metadata": {},
     "output_type": "execute_result"
    }
   ],
   "source": [
    "utils.y_mean"
   ]
  },
  {
   "cell_type": "code",
   "execution_count": 31,
   "id": "98860b77-b2e7-40ed-9436-3af6ba931359",
   "metadata": {},
   "outputs": [
    {
     "data": {
      "text/plain": [
       "tensor([9.2798, 9.2152, 9.1558, 9.0999, 9.0472, 8.9927, 8.9378, 8.8856, 8.8320,\n",
       "        8.7717, 8.7136, 8.6422, 8.5339, 8.4035, 8.2942, 8.1591, 8.0415, 7.8854,\n",
       "        7.7071, 7.5447, 7.3595, 7.1618, 6.9438, 6.7437, 6.5731, 6.3606, 6.0943,\n",
       "        5.8815, 5.6644, 5.3624, 5.0458, 4.8157, 4.6251, 4.4228, 4.1847, 3.9359,\n",
       "        3.7434, 3.6271, 3.5353, 3.4676, 3.3976, 3.2930, 3.2298, 3.1876, 3.1528,\n",
       "        3.1208, 3.0906, 3.0600, 3.0296, 2.8981], device='cuda:0',\n",
       "       dtype=torch.float64)"
      ]
     },
     "execution_count": 31,
     "metadata": {},
     "output_type": "execute_result"
    }
   ],
   "source": [
    "utils.y_std"
   ]
  },
  {
   "cell_type": "code",
   "execution_count": 32,
   "id": "b5c99eb9-4325-492c-b07e-31dc3a5c7ec6",
   "metadata": {},
   "outputs": [],
   "source": [
    "utils.num_features = len(utils.inp_cols)"
   ]
  },
  {
   "cell_type": "markdown",
   "id": "f6124fab-0adf-4afb-a5d7-888cba5f963a",
   "metadata": {},
   "source": [
    "#### Create train and test samples\n",
    "Each sample is created using a sliding window. 1 sliding window = 1 lookback window + 1 horizon window = 1 sample"
   ]
  },
  {
   "cell_type": "code",
   "execution_count": 33,
   "id": "32633512",
   "metadata": {},
   "outputs": [],
   "source": [
    "'''\n",
    "Prepare data : 1 training sample = lookback window + horizon window\n",
    "'''\n",
    "Xtrain, Ytrain = utils.windowed_dataset(df_train)\n",
    "Xtest, Ytest = utils.windowed_dataset(df_test)"
   ]
  },
  {
   "cell_type": "code",
   "execution_count": 34,
   "id": "a32f176f-cd84-456f-b30e-3882a21d319d",
   "metadata": {},
   "outputs": [
    {
     "data": {
      "text/plain": [
       "(31399, 72, 64)"
      ]
     },
     "execution_count": 34,
     "metadata": {},
     "output_type": "execute_result"
    }
   ],
   "source": [
    "Xtrain.shape"
   ]
  },
  {
   "cell_type": "code",
   "execution_count": 35,
   "id": "a178463d-7210-4651-90c5-4b41ad7727bc",
   "metadata": {},
   "outputs": [
    {
     "data": {
      "text/plain": [
       "(31399, 72, 50)"
      ]
     },
     "execution_count": 35,
     "metadata": {},
     "output_type": "execute_result"
    }
   ],
   "source": [
    "Ytrain.shape"
   ]
  },
  {
   "cell_type": "code",
   "execution_count": 36,
   "id": "a55f31ae-352c-4ec3-bbc0-803da54132b2",
   "metadata": {},
   "outputs": [
    {
     "data": {
      "text/plain": [
       "(20885, 72, 64)"
      ]
     },
     "execution_count": 36,
     "metadata": {},
     "output_type": "execute_result"
    }
   ],
   "source": [
    "Xtest.shape"
   ]
  },
  {
   "cell_type": "code",
   "execution_count": 37,
   "id": "da06e766-1b6f-4d42-920d-2ae686f2119b",
   "metadata": {},
   "outputs": [
    {
     "data": {
      "text/plain": [
       "(20885, 72, 50)"
      ]
     },
     "execution_count": 37,
     "metadata": {},
     "output_type": "execute_result"
    }
   ],
   "source": [
    "Ytest.shape"
   ]
  },
  {
   "cell_type": "markdown",
   "id": "b2669ecd-b3ea-44a7-8b0e-9ea8ba5b4d54",
   "metadata": {},
   "source": [
    "#### Datatype conversion to torch"
   ]
  },
  {
   "cell_type": "code",
   "execution_count": 38,
   "id": "8ac361b9",
   "metadata": {},
   "outputs": [],
   "source": [
    "'''\n",
    "Convert data into torch type\n",
    "'''\n",
    "X_train, Y_train, X_test, Y_test = utils.numpy_to_torch(Xtrain, Ytrain, Xtest, Ytest)"
   ]
  },
  {
   "cell_type": "markdown",
   "id": "58550039-d54d-4c7c-a3d1-d4d1705eca6e",
   "metadata": {},
   "source": [
    "## 3. Modeling"
   ]
  },
  {
   "cell_type": "markdown",
   "id": "a986f11a-3fe4-46a0-a0b4-3d2ac0173251",
   "metadata": {},
   "source": [
    "#### Define the model"
   ]
  },
  {
   "cell_type": "code",
   "execution_count": 39,
   "id": "bab68642",
   "metadata": {},
   "outputs": [],
   "source": [
    "'''\n",
    "Create the seq2seq model\n",
    "'''\n",
    "model = seq2seq(input_size = X_train.shape[2], \n",
    "                hidden_size = hidden_feature_size, \n",
    "                output_size=output_size,\n",
    "                model_type=model_type,\n",
    "                num_layers = num_layers,\n",
    "                utils=utils,\n",
    "                dropout=dropout,\n",
    "                device=device\n",
    "               )"
   ]
  },
  {
   "cell_type": "markdown",
   "id": "699fb6f4-af02-4b7a-8c02-3741d6575496",
   "metadata": {},
   "source": [
    "#### Train the model"
   ]
  },
  {
   "cell_type": "code",
   "execution_count": null,
   "id": "dc77e512",
   "metadata": {
    "scrolled": true,
    "tags": []
   },
   "outputs": [
    {
     "data": {
      "application/vnd.jupyter.widget-view+json": {
       "model_id": "466d83b1d8114e51a52f56cfb2c814a7",
       "version_major": 2,
       "version_minor": 0
      },
      "text/plain": [
       "VBox(children=(Label(value='Waiting for wandb.init()...\\r'), FloatProgress(value=0.01128888888957186, max=1.0)…"
      ]
     },
     "metadata": {},
     "output_type": "display_data"
    },
    {
     "data": {
      "text/html": [
       "wandb version 0.16.4 is available!  To upgrade, please run:\n",
       " $ pip install wandb --upgrade"
      ],
      "text/plain": [
       "<IPython.core.display.HTML object>"
      ]
     },
     "metadata": {},
     "output_type": "display_data"
    },
    {
     "data": {
      "text/html": [
       "Tracking run with wandb version 0.16.3"
      ],
      "text/plain": [
       "<IPython.core.display.HTML object>"
      ]
     },
     "metadata": {},
     "output_type": "display_data"
    },
    {
     "data": {
      "text/html": [
       "Run data is saved locally in <code>D:\\projects\\1d_aempy\\1D-AEMpy\\mcl\\2_preTraining\\wandb\\run-20240313_130304-wgaywhws</code>"
      ],
      "text/plain": [
       "<IPython.core.display.HTML object>"
      ]
     },
     "metadata": {},
     "output_type": "display_data"
    },
    {
     "data": {
      "text/html": [
       "Syncing run <strong><a href='https://wandb.ai/computational-limnology/mcl_lstm/runs/wgaywhws' target=\"_blank\">mix_run_2024-03-13_13:01:09.650085</a></strong> to <a href='https://wandb.ai/computational-limnology/mcl_lstm' target=\"_blank\">Weights & Biases</a> (<a href='https://wandb.me/run' target=\"_blank\">docs</a>)<br/>"
      ],
      "text/plain": [
       "<IPython.core.display.HTML object>"
      ]
     },
     "metadata": {},
     "output_type": "display_data"
    },
    {
     "data": {
      "text/html": [
       " View project at <a href='https://wandb.ai/computational-limnology/mcl_lstm' target=\"_blank\">https://wandb.ai/computational-limnology/mcl_lstm</a>"
      ],
      "text/plain": [
       "<IPython.core.display.HTML object>"
      ]
     },
     "metadata": {},
     "output_type": "display_data"
    },
    {
     "data": {
      "text/html": [
       " View run at <a href='https://wandb.ai/computational-limnology/mcl_lstm/runs/wgaywhws' target=\"_blank\">https://wandb.ai/computational-limnology/mcl_lstm/runs/wgaywhws</a>"
      ],
      "text/plain": [
       "<IPython.core.display.HTML object>"
      ]
     },
     "metadata": {},
     "output_type": "display_data"
    },
    {
     "name": "stderr",
     "output_type": "stream",
     "text": [
      "  0%|                                                                                          | 0/100 [00:00<?, ?it/s]\n",
      "  0%|                                                                                          | 0/982 [00:00<?, ?it/s]\u001b[A\n",
      "  0%|                                                                                  | 1/982 [00:02<43:45,  2.68s/it]\u001b[A\n",
      "  0%|▏                                                                                 | 2/982 [00:03<27:45,  1.70s/it]\u001b[A\n",
      "  0%|▎                                                                                 | 3/982 [00:04<22:31,  1.38s/it]\u001b[A\n",
      "  0%|▎                                                                                 | 4/982 [00:05<20:09,  1.24s/it]\u001b[A\n",
      "  1%|▍                                                                                 | 5/982 [00:06<18:50,  1.16s/it]\u001b[A\n",
      "  1%|▌                                                                                 | 6/982 [00:08<21:23,  1.32s/it]\u001b[A\n",
      "  1%|▌                                                                                 | 7/982 [00:11<29:21,  1.81s/it]\u001b[A\n",
      "  1%|▋                                                                                 | 8/982 [00:13<34:30,  2.13s/it]\u001b[A\n",
      "  1%|▊                                                                                 | 9/982 [00:16<37:47,  2.33s/it]\u001b[A\n",
      "  1%|▊                                                                                | 10/982 [00:19<39:43,  2.45s/it]\u001b[A\n",
      "  1%|▉                                                                                | 11/982 [00:22<41:25,  2.56s/it]\u001b[A\n",
      "  1%|▉                                                                                | 12/982 [00:25<42:42,  2.64s/it]\u001b[A\n",
      "  1%|█                                                                                | 13/982 [00:27<43:26,  2.69s/it]\u001b[A\n",
      "  1%|█▏                                                                               | 14/982 [00:30<43:49,  2.72s/it]\u001b[A\n",
      "  2%|█▏                                                                               | 15/982 [00:33<44:12,  2.74s/it]\u001b[A\n",
      "  2%|█▎                                                                               | 16/982 [00:36<44:36,  2.77s/it]\u001b[A\n",
      "  2%|█▍                                                                               | 17/982 [00:39<44:41,  2.78s/it]\u001b[A\n",
      "  2%|█▍                                                                               | 18/982 [00:41<44:48,  2.79s/it]\u001b[A\n",
      "  2%|█▌                                                                               | 19/982 [00:44<44:26,  2.77s/it]\u001b[A\n",
      "  2%|█▋                                                                               | 20/982 [00:47<44:42,  2.79s/it]\u001b[A\n",
      "  2%|█▋                                                                               | 21/982 [00:50<45:06,  2.82s/it]\u001b[A\n",
      "  2%|█▊                                                                               | 22/982 [00:53<45:03,  2.82s/it]\u001b[A\n",
      "  2%|█▉                                                                               | 23/982 [00:55<44:51,  2.81s/it]\u001b[A\n",
      "  2%|█▉                                                                               | 24/982 [00:58<44:56,  2.81s/it]\u001b[A\n",
      "  3%|██                                                                               | 25/982 [01:01<44:53,  2.81s/it]\u001b[A\n",
      "  3%|██▏                                                                              | 26/982 [01:04<44:50,  2.81s/it]\u001b[A\n",
      "  3%|██▏                                                                              | 27/982 [01:07<44:54,  2.82s/it]\u001b[A\n",
      "  3%|██▎                                                                              | 28/982 [01:10<44:55,  2.83s/it]\u001b[A\n",
      "  3%|██▍                                                                              | 29/982 [01:12<44:44,  2.82s/it]\u001b[A\n",
      "  3%|██▍                                                                              | 30/982 [01:15<44:40,  2.82s/it]\u001b[A\n",
      "  3%|██▌                                                                              | 31/982 [01:18<44:35,  2.81s/it]\u001b[A\n",
      "  3%|██▋                                                                              | 32/982 [01:21<44:38,  2.82s/it]\u001b[A\n",
      "  3%|██▋                                                                              | 33/982 [01:24<44:24,  2.81s/it]\u001b[A\n",
      "  3%|██▊                                                                              | 34/982 [01:26<44:14,  2.80s/it]\u001b[A\n",
      "  4%|██▉                                                                              | 35/982 [01:29<44:15,  2.80s/it]\u001b[A\n",
      "  4%|██▉                                                                              | 36/982 [01:32<44:22,  2.81s/it]\u001b[A\n",
      "  4%|███                                                                              | 37/982 [01:35<44:25,  2.82s/it]\u001b[A\n",
      "  4%|███▏                                                                             | 38/982 [01:38<44:19,  2.82s/it]\u001b[A\n",
      "  4%|███▏                                                                             | 39/982 [01:41<44:13,  2.81s/it]\u001b[A\n",
      "  4%|███▎                                                                             | 40/982 [01:43<44:16,  2.82s/it]\u001b[A\n",
      "  4%|███▍                                                                             | 41/982 [01:46<44:11,  2.82s/it]\u001b[A\n",
      "  4%|███▍                                                                             | 42/982 [01:49<43:55,  2.80s/it]\u001b[A\n",
      "  4%|███▌                                                                             | 43/982 [01:52<43:49,  2.80s/it]\u001b[A\n",
      "  4%|███▋                                                                             | 44/982 [01:55<43:48,  2.80s/it]\u001b[A\n",
      "  5%|███▋                                                                             | 45/982 [01:57<43:49,  2.81s/it]\u001b[A\n",
      "  5%|███▊                                                                             | 46/982 [02:00<43:48,  2.81s/it]\u001b[A\n",
      "  5%|███▉                                                                             | 47/982 [02:03<43:39,  2.80s/it]\u001b[A\n",
      "  5%|███▉                                                                             | 48/982 [02:06<43:32,  2.80s/it]\u001b[A\n",
      "  5%|████                                                                             | 49/982 [02:09<43:34,  2.80s/it]\u001b[A\n",
      "  5%|████                                                                             | 50/982 [02:11<43:26,  2.80s/it]\u001b[A\n",
      "  5%|████▏                                                                            | 51/982 [02:14<43:19,  2.79s/it]\u001b[A\n",
      "  5%|████▎                                                                            | 52/982 [02:17<43:19,  2.80s/it]\u001b[A\n",
      "  5%|████▎                                                                            | 53/982 [02:20<43:20,  2.80s/it]\u001b[A\n",
      "  5%|████▍                                                                            | 54/982 [02:23<43:08,  2.79s/it]\u001b[A\n",
      "  6%|████▌                                                                            | 55/982 [02:25<43:06,  2.79s/it]\u001b[A\n",
      "  6%|████▌                                                                            | 56/982 [02:28<43:08,  2.80s/it]\u001b[A\n",
      "  6%|████▋                                                                            | 57/982 [02:31<43:05,  2.80s/it]\u001b[A\n",
      "  6%|████▊                                                                            | 58/982 [02:34<42:53,  2.78s/it]\u001b[A\n",
      "  6%|████▊                                                                            | 59/982 [02:36<42:45,  2.78s/it]\u001b[A\n",
      "  6%|████▉                                                                            | 60/982 [02:39<42:35,  2.77s/it]\u001b[A\n",
      "  6%|█████                                                                            | 61/982 [02:42<42:40,  2.78s/it]\u001b[A\n",
      "  6%|█████                                                                            | 62/982 [02:45<42:42,  2.79s/it]\u001b[A\n",
      "  6%|█████▏                                                                           | 63/982 [02:48<42:40,  2.79s/it]\u001b[A\n",
      "  7%|█████▎                                                                           | 64/982 [02:50<42:36,  2.78s/it]\u001b[A\n"
     ]
    },
    {
     "name": "stderr",
     "output_type": "stream",
     "text": [
      "  7%|█████▎                                                                           | 65/982 [02:53<42:33,  2.78s/it]\u001b[A\n",
      "  7%|█████▍                                                                           | 66/982 [02:56<42:33,  2.79s/it]\u001b[A\n",
      "  7%|█████▌                                                                           | 67/982 [02:59<42:24,  2.78s/it]\u001b[A\n",
      "  7%|█████▌                                                                           | 68/982 [03:01<42:17,  2.78s/it]\u001b[A\n",
      "  7%|█████▋                                                                           | 69/982 [03:04<42:12,  2.77s/it]\u001b[A\n",
      "  7%|█████▊                                                                           | 70/982 [03:07<42:18,  2.78s/it]\u001b[A\n",
      "  7%|█████▊                                                                           | 71/982 [03:10<42:11,  2.78s/it]\u001b[A\n",
      "  7%|█████▉                                                                           | 72/982 [03:13<42:09,  2.78s/it]\u001b[A\n",
      "  7%|██████                                                                           | 73/982 [03:15<42:11,  2.79s/it]\u001b[A\n",
      "  8%|██████                                                                           | 74/982 [03:18<42:13,  2.79s/it]\u001b[A\n",
      "  8%|██████▏                                                                          | 75/982 [03:21<42:17,  2.80s/it]\u001b[A\n",
      "  8%|██████▎                                                                          | 76/982 [03:24<42:20,  2.80s/it]\u001b[A\n",
      "  8%|██████▎                                                                          | 77/982 [03:27<42:11,  2.80s/it]\u001b[A\n",
      "  8%|██████▍                                                                          | 78/982 [03:29<42:18,  2.81s/it]\u001b[A\n",
      "  8%|██████▌                                                                          | 79/982 [03:32<42:20,  2.81s/it]\u001b[A\n",
      "  8%|██████▌                                                                          | 80/982 [03:35<42:07,  2.80s/it]\u001b[A\n",
      "  8%|██████▋                                                                          | 81/982 [03:38<41:50,  2.79s/it]\u001b[A\n",
      "  8%|██████▊                                                                          | 82/982 [03:41<41:55,  2.80s/it]\u001b[A\n",
      "  8%|██████▊                                                                          | 83/982 [03:43<41:58,  2.80s/it]\u001b[A\n",
      "  9%|██████▉                                                                          | 84/982 [03:46<41:32,  2.78s/it]\u001b[A\n",
      "  9%|███████                                                                          | 85/982 [03:49<41:32,  2.78s/it]\u001b[A\n",
      "  9%|███████                                                                          | 86/982 [03:52<41:40,  2.79s/it]\u001b[A\n",
      "  9%|███████▏                                                                         | 87/982 [03:55<41:48,  2.80s/it]\u001b[A\n",
      "  9%|███████▎                                                                         | 88/982 [03:57<41:40,  2.80s/it]\u001b[A\n",
      "  9%|███████▎                                                                         | 89/982 [04:00<41:46,  2.81s/it]\u001b[A\n",
      "  9%|███████▍                                                                         | 90/982 [04:03<41:25,  2.79s/it]\u001b[A\n",
      "  9%|███████▌                                                                         | 91/982 [04:06<41:33,  2.80s/it]\u001b[A\n",
      "  9%|███████▌                                                                         | 92/982 [04:09<41:37,  2.81s/it]\u001b[A\n",
      "  9%|███████▋                                                                         | 93/982 [04:11<41:41,  2.81s/it]\u001b[A\n",
      " 10%|███████▊                                                                         | 94/982 [04:14<41:26,  2.80s/it]\u001b[A\n",
      " 10%|███████▊                                                                         | 95/982 [04:17<41:37,  2.82s/it]\u001b[A\n",
      " 10%|███████▉                                                                         | 96/982 [04:20<41:21,  2.80s/it]\u001b[A\n",
      " 10%|████████                                                                         | 97/982 [04:23<41:18,  2.80s/it]\u001b[A\n",
      " 10%|████████                                                                         | 98/982 [04:25<41:19,  2.81s/it]\u001b[A\n",
      " 10%|████████▏                                                                        | 99/982 [04:28<41:28,  2.82s/it]\u001b[A\n",
      " 10%|████████▏                                                                       | 100/982 [04:31<41:30,  2.82s/it]\u001b[A\n",
      " 10%|████████▏                                                                       | 101/982 [04:34<41:24,  2.82s/it]\u001b[A\n",
      " 10%|████████▎                                                                       | 102/982 [04:37<41:08,  2.81s/it]\u001b[A\n",
      " 10%|████████▍                                                                       | 103/982 [04:39<41:07,  2.81s/it]\u001b[A\n",
      " 11%|████████▍                                                                       | 104/982 [04:42<41:08,  2.81s/it]\u001b[A\n",
      " 11%|████████▌                                                                       | 105/982 [04:45<41:05,  2.81s/it]\u001b[A\n",
      " 11%|████████▋                                                                       | 106/982 [04:48<41:05,  2.81s/it]\u001b[A\n",
      " 11%|████████▋                                                                       | 107/982 [04:51<41:03,  2.82s/it]\u001b[A\n",
      " 11%|████████▊                                                                       | 108/982 [04:54<40:56,  2.81s/it]\u001b[A\n",
      " 11%|████████▉                                                                       | 109/982 [04:56<40:55,  2.81s/it]\u001b[A\n",
      " 11%|████████▉                                                                       | 110/982 [04:59<40:48,  2.81s/it]\u001b[A\n",
      " 11%|█████████                                                                       | 111/982 [05:02<40:53,  2.82s/it]\u001b[A\n",
      " 11%|█████████                                                                       | 112/982 [05:05<40:41,  2.81s/it]\u001b[A\n",
      " 12%|█████████▏                                                                      | 113/982 [05:08<40:32,  2.80s/it]\u001b[A\n",
      " 12%|█████████▎                                                                      | 114/982 [05:10<40:25,  2.79s/it]\u001b[A\n",
      " 12%|█████████▎                                                                      | 115/982 [05:13<40:24,  2.80s/it]\u001b[A\n",
      " 12%|█████████▍                                                                      | 116/982 [05:16<40:25,  2.80s/it]\u001b[A\n",
      " 12%|█████████▌                                                                      | 117/982 [05:19<40:25,  2.80s/it]\u001b[A\n",
      " 12%|█████████▌                                                                      | 118/982 [05:22<40:11,  2.79s/it]\u001b[A\n",
      " 12%|█████████▋                                                                      | 119/982 [05:24<40:19,  2.80s/it]\u001b[A\n",
      " 12%|█████████▊                                                                      | 120/982 [05:27<40:19,  2.81s/it]\u001b[A\n",
      " 12%|█████████▊                                                                      | 121/982 [05:30<40:11,  2.80s/it]\u001b[A\n",
      " 12%|█████████▉                                                                      | 122/982 [05:33<40:12,  2.81s/it]\u001b[A\n",
      " 13%|██████████                                                                      | 123/982 [05:36<40:20,  2.82s/it]\u001b[A\n",
      " 13%|██████████                                                                      | 124/982 [05:38<40:08,  2.81s/it]\u001b[A\n",
      " 13%|██████████▏                                                                     | 125/982 [05:41<40:04,  2.81s/it]\u001b[A\n",
      " 13%|██████████▎                                                                     | 126/982 [05:44<40:05,  2.81s/it]\u001b[A\n",
      " 13%|██████████▎                                                                     | 127/982 [05:47<39:59,  2.81s/it]\u001b[A\n",
      " 13%|██████████▍                                                                     | 128/982 [05:50<40:03,  2.81s/it]\u001b[A\n",
      " 13%|██████████▌                                                                     | 129/982 [05:52<40:03,  2.82s/it]\u001b[A\n",
      " 13%|██████████▌                                                                     | 130/982 [05:55<39:58,  2.81s/it]\u001b[A\n"
     ]
    },
    {
     "name": "stderr",
     "output_type": "stream",
     "text": [
      " 13%|██████████▋                                                                     | 131/982 [05:58<39:47,  2.81s/it]\u001b[A\n",
      " 13%|██████████▊                                                                     | 132/982 [06:01<39:55,  2.82s/it]\u001b[A\n",
      " 14%|██████████▊                                                                     | 133/982 [06:04<39:50,  2.82s/it]\u001b[A\n",
      " 14%|██████████▉                                                                     | 134/982 [06:07<39:49,  2.82s/it]\u001b[A\n",
      " 14%|██████████▉                                                                     | 135/982 [06:09<39:42,  2.81s/it]\u001b[A\n",
      " 14%|███████████                                                                     | 136/982 [06:12<39:39,  2.81s/it]\u001b[A\n",
      " 14%|███████████▏                                                                    | 137/982 [06:15<39:37,  2.81s/it]\u001b[A\n",
      " 14%|███████████▏                                                                    | 138/982 [06:18<39:36,  2.82s/it]\u001b[A\n",
      " 14%|███████████▎                                                                    | 139/982 [06:21<39:29,  2.81s/it]\u001b[A\n",
      " 14%|███████████▍                                                                    | 140/982 [06:23<39:28,  2.81s/it]\u001b[A\n",
      " 14%|███████████▍                                                                    | 141/982 [06:26<39:35,  2.82s/it]\u001b[A\n",
      " 14%|███████████▌                                                                    | 142/982 [06:29<39:25,  2.82s/it]\u001b[A\n",
      " 15%|███████████▋                                                                    | 143/982 [06:32<39:06,  2.80s/it]\u001b[A\n",
      " 15%|███████████▋                                                                    | 144/982 [06:35<39:08,  2.80s/it]\u001b[A\n",
      " 15%|███████████▊                                                                    | 145/982 [06:37<39:11,  2.81s/it]\u001b[A\n",
      " 15%|███████████▉                                                                    | 146/982 [06:40<39:02,  2.80s/it]\u001b[A\n",
      " 15%|███████████▉                                                                    | 147/982 [06:43<38:43,  2.78s/it]\u001b[A\n",
      " 15%|████████████                                                                    | 148/982 [06:46<38:29,  2.77s/it]\u001b[A\n",
      " 15%|████████████▏                                                                   | 149/982 [06:49<38:38,  2.78s/it]\u001b[A\n",
      " 15%|████████████▏                                                                   | 150/982 [06:51<38:19,  2.76s/it]\u001b[A\n",
      " 15%|████████████▎                                                                   | 151/982 [06:54<38:14,  2.76s/it]\u001b[A\n",
      " 15%|████████████▍                                                                   | 152/982 [06:57<38:28,  2.78s/it]\u001b[A\n",
      " 16%|████████████▍                                                                   | 153/982 [07:00<38:37,  2.80s/it]\u001b[A\n",
      " 16%|████████████▌                                                                   | 154/982 [07:03<38:42,  2.81s/it]\u001b[A\n",
      " 16%|████████████▋                                                                   | 155/982 [07:05<38:40,  2.81s/it]\u001b[A\n",
      " 16%|████████████▋                                                                   | 156/982 [07:08<38:32,  2.80s/it]\u001b[A\n",
      " 16%|████████████▊                                                                   | 157/982 [07:11<38:34,  2.81s/it]\u001b[A\n",
      " 16%|████████████▊                                                                   | 158/982 [07:14<38:32,  2.81s/it]\u001b[A\n",
      " 16%|████████████▉                                                                   | 159/982 [07:16<38:19,  2.79s/it]\u001b[A\n",
      " 16%|█████████████                                                                   | 160/982 [07:19<38:28,  2.81s/it]\u001b[A\n",
      " 16%|█████████████                                                                   | 161/982 [07:22<38:34,  2.82s/it]\u001b[A\n",
      " 16%|█████████████▏                                                                  | 162/982 [07:25<38:35,  2.82s/it]\u001b[A\n",
      " 17%|█████████████▎                                                                  | 163/982 [07:28<38:27,  2.82s/it]\u001b[A\n",
      " 17%|█████████████▎                                                                  | 164/982 [07:31<38:29,  2.82s/it]\u001b[A\n",
      " 17%|█████████████▍                                                                  | 165/982 [07:34<38:38,  2.84s/it]\u001b[A\n",
      " 17%|█████████████▌                                                                  | 166/982 [07:36<38:28,  2.83s/it]\u001b[A\n",
      " 17%|█████████████▌                                                                  | 167/982 [07:39<38:22,  2.82s/it]\u001b[A\n",
      " 17%|█████████████▋                                                                  | 168/982 [07:42<38:22,  2.83s/it]\u001b[A\n",
      " 17%|█████████████▊                                                                  | 169/982 [07:45<38:28,  2.84s/it]\u001b[A\n",
      " 17%|█████████████▊                                                                  | 170/982 [07:48<38:19,  2.83s/it]\u001b[A\n",
      " 17%|█████████████▉                                                                  | 171/982 [07:50<38:15,  2.83s/it]\u001b[A\n",
      " 18%|██████████████                                                                  | 172/982 [07:53<37:59,  2.81s/it]\u001b[A\n",
      " 18%|██████████████                                                                  | 173/982 [07:56<38:05,  2.82s/it]\u001b[A\n",
      " 18%|██████████████▏                                                                 | 174/982 [07:59<38:00,  2.82s/it]\u001b[A\n",
      " 18%|██████████████▎                                                                 | 175/982 [08:02<37:58,  2.82s/it]\u001b[A\n",
      " 18%|██████████████▎                                                                 | 176/982 [08:05<37:48,  2.81s/it]\u001b[A\n",
      " 18%|██████████████▍                                                                 | 177/982 [08:07<37:56,  2.83s/it]\u001b[A\n",
      " 18%|██████████████▌                                                                 | 178/982 [08:10<37:54,  2.83s/it]\u001b[A\n",
      " 18%|██████████████▌                                                                 | 179/982 [08:13<37:40,  2.82s/it]\u001b[A\n",
      " 18%|██████████████▋                                                                 | 180/982 [08:16<37:39,  2.82s/it]\u001b[A\n",
      " 18%|██████████████▋                                                                 | 181/982 [08:19<37:50,  2.84s/it]\u001b[A\n",
      " 19%|██████████████▊                                                                 | 182/982 [08:22<37:35,  2.82s/it]\u001b[A\n",
      " 19%|██████████████▉                                                                 | 183/982 [08:24<37:33,  2.82s/it]\u001b[A\n",
      " 19%|██████████████▉                                                                 | 184/982 [08:27<37:30,  2.82s/it]\u001b[A\n",
      " 19%|███████████████                                                                 | 185/982 [08:30<37:29,  2.82s/it]\u001b[A\n",
      " 19%|███████████████▏                                                                | 186/982 [08:33<37:20,  2.81s/it]\u001b[A\n",
      " 19%|███████████████▏                                                                | 187/982 [08:36<37:16,  2.81s/it]\u001b[A\n",
      " 19%|███████████████▎                                                                | 188/982 [08:38<37:06,  2.80s/it]\u001b[A\n",
      " 19%|███████████████▍                                                                | 189/982 [08:41<37:09,  2.81s/it]\u001b[A\n",
      " 19%|███████████████▍                                                                | 190/982 [08:44<37:06,  2.81s/it]\u001b[A\n",
      " 19%|███████████████▌                                                                | 191/982 [08:47<36:59,  2.81s/it]\u001b[A\n",
      " 20%|███████████████▋                                                                | 192/982 [08:50<37:06,  2.82s/it]\u001b[A\n",
      " 20%|███████████████▋                                                                | 193/982 [08:52<37:11,  2.83s/it]\u001b[A\n",
      " 20%|███████████████▊                                                                | 194/982 [08:55<37:06,  2.83s/it]\u001b[A\n",
      " 20%|███████████████▉                                                                | 195/982 [08:58<36:53,  2.81s/it]\u001b[A\n",
      " 20%|███████████████▉                                                                | 196/982 [09:01<36:39,  2.80s/it]\u001b[A\n"
     ]
    },
    {
     "name": "stderr",
     "output_type": "stream",
     "text": [
      " 20%|████████████████                                                                | 197/982 [09:04<36:37,  2.80s/it]\u001b[A\n",
      " 20%|████████████████▏                                                               | 198/982 [09:06<36:33,  2.80s/it]\u001b[A\n",
      " 20%|████████████████▏                                                               | 199/982 [09:09<36:26,  2.79s/it]\u001b[A\n",
      " 20%|████████████████▎                                                               | 200/982 [09:12<36:21,  2.79s/it]\u001b[A\n",
      " 20%|████████████████▎                                                               | 201/982 [09:15<36:19,  2.79s/it]\u001b[A\n",
      " 21%|████████████████▍                                                               | 202/982 [09:18<36:18,  2.79s/it]\u001b[A\n",
      " 21%|████████████████▌                                                               | 203/982 [09:20<36:13,  2.79s/it]\u001b[A\n",
      " 21%|████████████████▌                                                               | 204/982 [09:23<36:12,  2.79s/it]\u001b[A\n",
      " 21%|████████████████▋                                                               | 205/982 [09:26<36:12,  2.80s/it]\u001b[A\n",
      " 21%|████████████████▊                                                               | 206/982 [09:29<36:10,  2.80s/it]\u001b[A\n",
      " 21%|████████████████▊                                                               | 207/982 [09:32<36:04,  2.79s/it]\u001b[A\n",
      " 21%|████████████████▉                                                               | 208/982 [09:34<35:51,  2.78s/it]\u001b[A\n",
      " 21%|█████████████████                                                               | 209/982 [09:37<35:53,  2.79s/it]\u001b[A\n",
      " 21%|█████████████████                                                               | 210/982 [09:40<35:56,  2.79s/it]\u001b[A\n",
      " 21%|█████████████████▏                                                              | 211/982 [09:43<35:36,  2.77s/it]\u001b[A\n",
      " 22%|█████████████████▎                                                              | 212/982 [09:45<35:39,  2.78s/it]\u001b[A\n",
      " 22%|█████████████████▎                                                              | 213/982 [09:48<35:39,  2.78s/it]\u001b[A\n",
      " 22%|█████████████████▍                                                              | 214/982 [09:51<35:52,  2.80s/it]\u001b[A\n",
      " 22%|█████████████████▌                                                              | 215/982 [09:54<35:44,  2.80s/it]\u001b[A\n",
      " 22%|█████████████████▌                                                              | 216/982 [09:57<35:38,  2.79s/it]\u001b[A\n",
      " 22%|█████████████████▋                                                              | 217/982 [09:59<35:46,  2.81s/it]\u001b[A\n",
      " 22%|█████████████████▊                                                              | 218/982 [10:02<35:49,  2.81s/it]\u001b[A\n",
      " 22%|█████████████████▊                                                              | 219/982 [10:05<35:39,  2.80s/it]\u001b[A\n",
      " 22%|█████████████████▉                                                              | 220/982 [10:08<35:23,  2.79s/it]\u001b[A\n",
      " 23%|██████████████████                                                              | 221/982 [10:11<35:32,  2.80s/it]\u001b[A\n",
      " 23%|██████████████████                                                              | 222/982 [10:14<35:36,  2.81s/it]\u001b[A\n",
      " 23%|██████████████████▏                                                             | 223/982 [10:16<35:20,  2.79s/it]\u001b[A\n",
      " 23%|██████████████████▏                                                             | 224/982 [10:19<35:19,  2.80s/it]\u001b[A\n",
      " 23%|██████████████████▎                                                             | 225/982 [10:22<35:24,  2.81s/it]\u001b[A\n",
      " 23%|██████████████████▍                                                             | 226/982 [10:25<35:22,  2.81s/it]\u001b[A\n",
      " 23%|██████████████████▍                                                             | 227/982 [10:28<35:23,  2.81s/it]\u001b[A\n",
      " 23%|██████████████████▌                                                             | 228/982 [10:30<35:17,  2.81s/it]\u001b[A\n",
      " 23%|██████████████████▋                                                             | 229/982 [10:33<35:20,  2.82s/it]\u001b[A\n",
      " 23%|██████████████████▋                                                             | 230/982 [10:36<35:19,  2.82s/it]\u001b[A\n",
      " 24%|██████████████████▊                                                             | 231/982 [10:39<35:04,  2.80s/it]\u001b[A\n",
      " 24%|██████████████████▉                                                             | 232/982 [10:42<35:07,  2.81s/it]\u001b[A\n",
      " 24%|██████████████████▉                                                             | 233/982 [10:44<35:05,  2.81s/it]\u001b[A\n",
      " 24%|███████████████████                                                             | 234/982 [10:47<35:14,  2.83s/it]\u001b[A\n",
      " 24%|███████████████████▏                                                            | 235/982 [10:50<35:06,  2.82s/it]\u001b[A\n",
      " 24%|███████████████████▏                                                            | 236/982 [10:53<34:59,  2.81s/it]\u001b[A\n",
      " 24%|███████████████████▎                                                            | 237/982 [10:56<34:49,  2.80s/it]\u001b[A\n",
      " 24%|███████████████████▍                                                            | 238/982 [10:59<34:59,  2.82s/it]\u001b[A\n",
      " 24%|███████████████████▍                                                            | 239/982 [11:01<34:56,  2.82s/it]\u001b[A\n",
      " 24%|███████████████████▌                                                            | 240/982 [11:04<34:52,  2.82s/it]\u001b[A\n",
      " 25%|███████████████████▋                                                            | 241/982 [11:07<34:41,  2.81s/it]\u001b[A\n",
      " 25%|███████████████████▋                                                            | 242/982 [11:10<34:42,  2.81s/it]\u001b[A\n",
      " 25%|███████████████████▊                                                            | 243/982 [11:13<34:34,  2.81s/it]\u001b[A\n",
      " 25%|███████████████████▉                                                            | 244/982 [11:15<34:33,  2.81s/it]\u001b[A\n",
      " 25%|███████████████████▉                                                            | 245/982 [11:18<34:32,  2.81s/it]\u001b[A\n",
      " 25%|████████████████████                                                            | 246/982 [11:21<34:37,  2.82s/it]\u001b[A\n",
      " 25%|████████████████████                                                            | 247/982 [11:24<34:37,  2.83s/it]\u001b[A\n",
      " 25%|████████████████████▏                                                           | 248/982 [11:27<34:35,  2.83s/it]\u001b[A\n",
      " 25%|████████████████████▎                                                           | 249/982 [11:30<34:31,  2.83s/it]\u001b[A\n",
      " 25%|████████████████████▎                                                           | 250/982 [11:32<34:37,  2.84s/it]\u001b[A\n",
      " 26%|████████████████████▍                                                           | 251/982 [11:35<34:32,  2.83s/it]\u001b[A\n",
      " 26%|████████████████████▌                                                           | 252/982 [11:38<34:26,  2.83s/it]\u001b[A\n",
      " 26%|████████████████████▌                                                           | 253/982 [11:41<34:20,  2.83s/it]\u001b[A\n",
      " 26%|████████████████████▋                                                           | 254/982 [11:44<34:26,  2.84s/it]\u001b[A\n",
      " 26%|████████████████████▊                                                           | 255/982 [11:47<34:19,  2.83s/it]\u001b[A\n",
      " 26%|████████████████████▊                                                           | 256/982 [11:49<34:16,  2.83s/it]\u001b[A\n",
      " 26%|████████████████████▉                                                           | 257/982 [11:52<34:13,  2.83s/it]\u001b[A\n",
      " 26%|█████████████████████                                                           | 258/982 [11:55<34:07,  2.83s/it]\u001b[A\n",
      " 26%|█████████████████████                                                           | 259/982 [11:58<33:58,  2.82s/it]\u001b[A\n",
      " 26%|█████████████████████▏                                                          | 260/982 [12:01<33:51,  2.81s/it]\u001b[A\n",
      " 27%|█████████████████████▎                                                          | 261/982 [12:03<33:48,  2.81s/it]\u001b[A\n",
      " 27%|█████████████████████▎                                                          | 262/982 [12:06<33:54,  2.83s/it]\u001b[A\n"
     ]
    },
    {
     "name": "stderr",
     "output_type": "stream",
     "text": [
      " 27%|█████████████████████▍                                                          | 263/982 [12:09<33:45,  2.82s/it]\u001b[A\n",
      " 27%|█████████████████████▌                                                          | 264/982 [12:12<33:39,  2.81s/it]\u001b[A\n",
      " 27%|█████████████████████▌                                                          | 265/982 [12:15<33:36,  2.81s/it]\u001b[A\n",
      " 27%|█████████████████████▋                                                          | 266/982 [12:18<33:35,  2.82s/it]\u001b[A\n",
      " 27%|█████████████████████▊                                                          | 267/982 [12:20<33:25,  2.81s/it]\u001b[A\n",
      " 27%|█████████████████████▊                                                          | 268/982 [12:23<33:25,  2.81s/it]\u001b[A\n",
      " 27%|█████████████████████▉                                                          | 269/982 [12:26<33:17,  2.80s/it]\u001b[A\n",
      " 27%|█████████████████████▉                                                          | 270/982 [12:29<33:14,  2.80s/it]\u001b[A\n",
      " 28%|██████████████████████                                                          | 271/982 [12:32<33:09,  2.80s/it]\u001b[A\n",
      " 28%|██████████████████████▏                                                         | 272/982 [12:34<32:56,  2.78s/it]\u001b[A\n",
      " 28%|██████████████████████▏                                                         | 273/982 [12:37<32:47,  2.77s/it]\u001b[A\n",
      " 28%|██████████████████████▎                                                         | 274/982 [12:40<32:47,  2.78s/it]\u001b[A\n",
      " 28%|██████████████████████▍                                                         | 275/982 [12:43<32:48,  2.78s/it]\u001b[A\n",
      " 28%|██████████████████████▍                                                         | 276/982 [12:45<32:49,  2.79s/it]\u001b[A\n",
      " 28%|██████████████████████▌                                                         | 277/982 [12:48<32:37,  2.78s/it]\u001b[A\n",
      " 28%|██████████████████████▋                                                         | 278/982 [12:51<32:43,  2.79s/it]\u001b[A\n",
      " 28%|██████████████████████▋                                                         | 279/982 [12:54<32:44,  2.79s/it]\u001b[A\n",
      " 29%|██████████████████████▊                                                         | 280/982 [12:57<32:44,  2.80s/it]\u001b[A\n",
      " 29%|██████████████████████▉                                                         | 281/982 [12:59<32:42,  2.80s/it]\u001b[A\n",
      " 29%|██████████████████████▉                                                         | 282/982 [13:02<32:39,  2.80s/it]\u001b[A\n",
      " 29%|███████████████████████                                                         | 283/982 [13:05<33:27,  2.87s/it]\u001b[A\n",
      " 29%|███████████████████████▏                                                        | 284/982 [13:11<44:45,  3.85s/it]\u001b[A\n",
      " 29%|███████████████████████▏                                                        | 285/982 [13:17<51:12,  4.41s/it]\u001b[A\n",
      " 29%|███████████████████████▎                                                        | 286/982 [13:23<57:05,  4.92s/it]\u001b[A\n",
      " 29%|██████████████████████▊                                                       | 287/982 [13:29<1:01:01,  5.27s/it]\u001b[A\n",
      " 29%|██████████████████████▉                                                       | 288/982 [13:35<1:03:46,  5.51s/it]\u001b[A\n",
      " 29%|██████████████████████▉                                                       | 289/982 [13:41<1:05:38,  5.68s/it]\u001b[A\n",
      " 30%|███████████████████████                                                       | 290/982 [13:48<1:06:59,  5.81s/it]\u001b[A\n",
      " 30%|███████████████████████                                                       | 291/982 [13:54<1:07:49,  5.89s/it]\u001b[A\n",
      " 30%|███████████████████████▏                                                      | 292/982 [14:00<1:08:22,  5.95s/it]\u001b[A\n",
      " 30%|███████████████████████▎                                                      | 293/982 [14:06<1:08:44,  5.99s/it]\u001b[A\n",
      " 30%|███████████████████████▎                                                      | 294/982 [14:12<1:08:55,  6.01s/it]\u001b[A\n",
      " 30%|███████████████████████▍                                                      | 295/982 [14:18<1:08:59,  6.02s/it]\u001b[A\n",
      " 30%|███████████████████████▌                                                      | 296/982 [14:24<1:09:03,  6.04s/it]\u001b[A\n",
      " 30%|███████████████████████▌                                                      | 297/982 [14:30<1:09:01,  6.05s/it]\u001b[A\n",
      " 30%|███████████████████████▋                                                      | 298/982 [14:36<1:09:01,  6.06s/it]\u001b[A\n",
      " 30%|███████████████████████▋                                                      | 299/982 [14:42<1:08:58,  6.06s/it]\u001b[A\n",
      " 31%|███████████████████████▊                                                      | 300/982 [14:48<1:08:55,  6.06s/it]\u001b[A\n",
      " 31%|███████████████████████▉                                                      | 301/982 [14:54<1:08:50,  6.07s/it]\u001b[A\n",
      " 31%|███████████████████████▉                                                      | 302/982 [15:00<1:08:45,  6.07s/it]\u001b[A\n",
      " 31%|████████████████████████                                                      | 303/982 [15:06<1:08:44,  6.07s/it]\u001b[A\n",
      " 31%|████████████████████████▏                                                     | 304/982 [15:13<1:08:42,  6.08s/it]\u001b[A\n",
      " 31%|████████████████████████▏                                                     | 305/982 [15:19<1:08:33,  6.08s/it]\u001b[A\n",
      " 31%|████████████████████████▎                                                     | 306/982 [15:25<1:08:26,  6.08s/it]\u001b[A\n",
      " 31%|████████████████████████▍                                                     | 307/982 [15:31<1:08:24,  6.08s/it]\u001b[A\n",
      " 31%|████████████████████████▍                                                     | 308/982 [15:37<1:08:15,  6.08s/it]\u001b[A\n",
      " 31%|████████████████████████▌                                                     | 309/982 [15:43<1:08:10,  6.08s/it]\u001b[A\n",
      " 32%|████████████████████████▌                                                     | 310/982 [15:49<1:08:04,  6.08s/it]\u001b[A\n",
      " 32%|████████████████████████▋                                                     | 311/982 [15:55<1:07:57,  6.08s/it]\u001b[A\n",
      " 32%|████████████████████████▊                                                     | 312/982 [16:01<1:07:51,  6.08s/it]\u001b[A\n",
      " 32%|████████████████████████▊                                                     | 313/982 [16:07<1:07:43,  6.07s/it]\u001b[A\n",
      " 32%|████████████████████████▉                                                     | 314/982 [16:13<1:07:42,  6.08s/it]\u001b[A\n",
      " 32%|█████████████████████████                                                     | 315/982 [16:19<1:07:36,  6.08s/it]\u001b[A\n",
      " 32%|█████████████████████████                                                     | 316/982 [16:26<1:07:30,  6.08s/it]\u001b[A\n",
      " 32%|█████████████████████████▏                                                    | 317/982 [16:32<1:07:21,  6.08s/it]\u001b[A\n",
      " 32%|█████████████████████████▎                                                    | 318/982 [16:38<1:07:14,  6.08s/it]\u001b[A\n",
      " 32%|█████████████████████████▎                                                    | 319/982 [16:44<1:07:08,  6.08s/it]\u001b[A\n",
      " 33%|█████████████████████████▍                                                    | 320/982 [16:50<1:07:04,  6.08s/it]\u001b[A\n",
      " 33%|█████████████████████████▍                                                    | 321/982 [16:56<1:06:06,  6.00s/it]\u001b[A\n",
      " 33%|█████████████████████████▌                                                    | 322/982 [17:01<1:05:29,  5.95s/it]\u001b[A\n",
      " 33%|█████████████████████████▋                                                    | 323/982 [17:07<1:04:52,  5.91s/it]\u001b[A\n",
      " 33%|█████████████████████████▋                                                    | 324/982 [17:13<1:04:33,  5.89s/it]\u001b[A\n",
      " 33%|█████████████████████████▊                                                    | 325/982 [17:19<1:04:23,  5.88s/it]\u001b[A\n",
      " 33%|█████████████████████████▉                                                    | 326/982 [17:25<1:03:48,  5.84s/it]\u001b[A\n",
      " 33%|█████████████████████████▉                                                    | 327/982 [17:30<1:03:28,  5.81s/it]\u001b[A\n",
      " 33%|██████████████████████████                                                    | 328/982 [17:36<1:03:07,  5.79s/it]\u001b[A\n"
     ]
    },
    {
     "name": "stderr",
     "output_type": "stream",
     "text": [
      " 34%|██████████████████████████▏                                                   | 329/982 [17:42<1:02:53,  5.78s/it]\u001b[A\n",
      " 34%|██████████████████████████▏                                                   | 330/982 [17:48<1:02:49,  5.78s/it]\u001b[A\n",
      " 34%|██████████████████████████▎                                                   | 331/982 [17:54<1:03:00,  5.81s/it]\u001b[A\n",
      " 34%|██████████████████████████▎                                                   | 332/982 [17:59<1:02:30,  5.77s/it]\u001b[A\n",
      " 34%|██████████████████████████▍                                                   | 333/982 [18:05<1:02:33,  5.78s/it]\u001b[A\n",
      " 34%|██████████████████████████▌                                                   | 334/982 [18:11<1:02:28,  5.79s/it]\u001b[A\n",
      " 34%|██████████████████████████▌                                                   | 335/982 [18:17<1:02:18,  5.78s/it]\u001b[A\n",
      " 34%|██████████████████████████▋                                                   | 336/982 [18:22<1:01:43,  5.73s/it]\u001b[A\n",
      " 34%|██████████████████████████▊                                                   | 337/982 [18:28<1:01:31,  5.72s/it]\u001b[A\n",
      " 34%|██████████████████████████▊                                                   | 338/982 [18:34<1:01:25,  5.72s/it]\u001b[A\n",
      " 35%|██████████████████████████▉                                                   | 339/982 [18:39<1:01:24,  5.73s/it]\u001b[A\n",
      " 35%|███████████████████████████                                                   | 340/982 [18:45<1:01:36,  5.76s/it]\u001b[A\n",
      " 35%|███████████████████████████                                                   | 341/982 [18:51<1:01:38,  5.77s/it]\u001b[A\n",
      " 35%|███████████████████████████▏                                                  | 342/982 [18:57<1:01:32,  5.77s/it]\u001b[A\n",
      " 35%|███████████████████████████▏                                                  | 343/982 [19:03<1:01:41,  5.79s/it]\u001b[A\n",
      " 35%|███████████████████████████▎                                                  | 344/982 [19:08<1:01:34,  5.79s/it]\u001b[A\n",
      " 35%|███████████████████████████▍                                                  | 345/982 [19:14<1:01:49,  5.82s/it]\u001b[A\n",
      " 35%|███████████████████████████▍                                                  | 346/982 [19:20<1:01:35,  5.81s/it]\u001b[A\n",
      " 35%|███████████████████████████▌                                                  | 347/982 [19:26<1:01:36,  5.82s/it]\u001b[A\n",
      " 35%|███████████████████████████▋                                                  | 348/982 [19:32<1:01:34,  5.83s/it]\u001b[A\n",
      " 36%|███████████████████████████▋                                                  | 349/982 [19:38<1:01:26,  5.82s/it]\u001b[A\n",
      " 36%|███████████████████████████▊                                                  | 350/982 [19:43<1:01:12,  5.81s/it]\u001b[A\n",
      " 36%|███████████████████████████▉                                                  | 351/982 [19:49<1:01:09,  5.82s/it]\u001b[A\n",
      " 36%|███████████████████████████▉                                                  | 352/982 [19:55<1:00:59,  5.81s/it]\u001b[A\n",
      " 36%|████████████████████████████                                                  | 353/982 [20:01<1:00:55,  5.81s/it]\u001b[A\n",
      " 36%|████████████████████████████                                                  | 354/982 [20:07<1:00:40,  5.80s/it]\u001b[A\n",
      " 36%|████████████████████████████▏                                                 | 355/982 [20:12<1:00:31,  5.79s/it]\u001b[A\n",
      " 36%|████████████████████████████▎                                                 | 356/982 [20:18<1:00:40,  5.82s/it]\u001b[A\n",
      " 36%|████████████████████████████▎                                                 | 357/982 [20:24<1:00:31,  5.81s/it]\u001b[A\n",
      " 36%|████████████████████████████▍                                                 | 358/982 [20:30<1:00:23,  5.81s/it]\u001b[A\n",
      " 37%|████████████████████████████▌                                                 | 359/982 [20:36<1:00:19,  5.81s/it]\u001b[A\n",
      " 37%|████████████████████████████▌                                                 | 360/982 [20:41<1:00:09,  5.80s/it]\u001b[A\n",
      " 37%|████████████████████████████▋                                                 | 361/982 [20:47<1:00:01,  5.80s/it]\u001b[A\n",
      " 37%|█████████████████████████████▍                                                  | 362/982 [20:53<59:44,  5.78s/it]\u001b[A\n",
      " 37%|█████████████████████████████▌                                                  | 363/982 [20:59<59:35,  5.78s/it]\u001b[A\n",
      " 37%|█████████████████████████████▋                                                  | 364/982 [21:05<59:53,  5.81s/it]\u001b[A\n",
      " 37%|█████████████████████████████▋                                                  | 365/982 [21:11<59:49,  5.82s/it]\u001b[A\n",
      " 37%|█████████████████████████████▊                                                  | 366/982 [21:16<59:54,  5.83s/it]\u001b[A\n",
      " 37%|█████████████████████████████▉                                                  | 367/982 [21:22<59:53,  5.84s/it]\u001b[A\n",
      " 37%|█████████████████████████████▉                                                  | 368/982 [21:28<59:28,  5.81s/it]\u001b[A\n",
      " 38%|██████████████████████████████                                                  | 369/982 [21:34<59:15,  5.80s/it]\u001b[A\n",
      " 38%|██████████████████████████████▏                                                 | 370/982 [21:40<59:20,  5.82s/it]\u001b[A\n",
      " 38%|██████████████████████████████▏                                                 | 371/982 [21:45<59:05,  5.80s/it]\u001b[A\n",
      " 38%|██████████████████████████████▎                                                 | 372/982 [21:51<59:04,  5.81s/it]\u001b[A\n",
      " 38%|██████████████████████████████▍                                                 | 373/982 [21:57<59:02,  5.82s/it]\u001b[A\n",
      " 38%|██████████████████████████████▍                                                 | 374/982 [22:03<58:44,  5.80s/it]\u001b[A\n",
      " 38%|██████████████████████████████▌                                                 | 375/982 [22:09<58:29,  5.78s/it]\u001b[A\n",
      " 38%|██████████████████████████████▋                                                 | 376/982 [22:14<58:22,  5.78s/it]\u001b[A\n",
      " 38%|██████████████████████████████▋                                                 | 377/982 [22:20<58:11,  5.77s/it]\u001b[A\n",
      " 38%|██████████████████████████████▊                                                 | 378/982 [22:26<58:10,  5.78s/it]\u001b[A\n",
      " 39%|██████████████████████████████▉                                                 | 379/982 [22:32<57:53,  5.76s/it]\u001b[A\n",
      " 39%|██████████████████████████████▉                                                 | 380/982 [22:37<57:51,  5.77s/it]\u001b[A\n",
      " 39%|███████████████████████████████                                                 | 381/982 [22:43<58:03,  5.80s/it]\u001b[A\n",
      " 39%|███████████████████████████████                                                 | 382/982 [22:49<58:11,  5.82s/it]\u001b[A\n",
      " 39%|███████████████████████████████▏                                                | 383/982 [22:55<58:13,  5.83s/it]\u001b[A\n",
      " 39%|███████████████████████████████▎                                                | 384/982 [23:01<58:11,  5.84s/it]\u001b[A\n",
      " 39%|███████████████████████████████▎                                                | 385/982 [23:07<57:47,  5.81s/it]\u001b[A\n",
      " 39%|███████████████████████████████▍                                                | 386/982 [23:12<57:45,  5.81s/it]\u001b[A\n",
      " 39%|███████████████████████████████▌                                                | 387/982 [23:18<57:42,  5.82s/it]\u001b[A\n",
      " 40%|███████████████████████████████▌                                                | 388/982 [23:24<57:30,  5.81s/it]\u001b[A\n",
      " 40%|███████████████████████████████▋                                                | 389/982 [23:30<56:53,  5.76s/it]\u001b[A\n",
      " 40%|███████████████████████████████▊                                                | 390/982 [23:35<56:55,  5.77s/it]\u001b[A\n",
      " 40%|███████████████████████████████▊                                                | 391/982 [23:41<56:40,  5.75s/it]\u001b[A\n",
      " 40%|███████████████████████████████▉                                                | 392/982 [23:47<56:45,  5.77s/it]\u001b[A\n",
      " 40%|████████████████████████████████                                                | 393/982 [23:53<56:29,  5.75s/it]\u001b[A\n",
      " 40%|████████████████████████████████                                                | 394/982 [23:58<56:34,  5.77s/it]\u001b[A\n"
     ]
    },
    {
     "name": "stderr",
     "output_type": "stream",
     "text": [
      " 40%|████████████████████████████████▏                                               | 395/982 [24:04<56:24,  5.77s/it]\u001b[A\n",
      " 40%|████████████████████████████████▎                                               | 396/982 [24:10<56:18,  5.77s/it]\u001b[A\n",
      " 40%|████████████████████████████████▎                                               | 397/982 [24:16<56:30,  5.80s/it]\u001b[A\n",
      " 41%|████████████████████████████████▍                                               | 398/982 [24:22<56:23,  5.79s/it]\u001b[A\n",
      " 41%|████████████████████████████████▌                                               | 399/982 [24:27<56:12,  5.79s/it]\u001b[A\n",
      " 41%|████████████████████████████████▌                                               | 400/982 [24:33<56:14,  5.80s/it]\u001b[A\n",
      " 41%|████████████████████████████████▋                                               | 401/982 [24:39<56:04,  5.79s/it]\u001b[A\n",
      " 41%|████████████████████████████████▋                                               | 402/982 [24:45<56:00,  5.79s/it]\u001b[A\n",
      " 41%|████████████████████████████████▊                                               | 403/982 [24:51<55:58,  5.80s/it]\u001b[A\n",
      " 41%|████████████████████████████████▉                                               | 404/982 [24:56<55:38,  5.78s/it]\u001b[A\n",
      " 41%|████████████████████████████████▉                                               | 405/982 [25:02<55:44,  5.80s/it]\u001b[A\n",
      " 41%|█████████████████████████████████                                               | 406/982 [25:08<55:44,  5.81s/it]\u001b[A\n",
      " 41%|█████████████████████████████████▏                                              | 407/982 [25:14<55:47,  5.82s/it]\u001b[A\n",
      " 42%|█████████████████████████████████▏                                              | 408/982 [25:20<55:34,  5.81s/it]\u001b[A\n",
      " 42%|█████████████████████████████████▎                                              | 409/982 [25:26<55:39,  5.83s/it]\u001b[A\n",
      " 42%|█████████████████████████████████▍                                              | 410/982 [25:31<55:45,  5.85s/it]\u001b[A\n",
      " 42%|█████████████████████████████████▍                                              | 411/982 [25:37<55:28,  5.83s/it]\u001b[A\n",
      " 42%|█████████████████████████████████▌                                              | 412/982 [25:43<55:32,  5.85s/it]\u001b[A\n",
      " 42%|█████████████████████████████████▋                                              | 413/982 [25:49<55:12,  5.82s/it]\u001b[A\n",
      " 42%|█████████████████████████████████▋                                              | 414/982 [25:55<54:54,  5.80s/it]\u001b[A\n",
      " 42%|█████████████████████████████████▊                                              | 415/982 [26:00<54:42,  5.79s/it]\u001b[A\n",
      " 42%|█████████████████████████████████▉                                              | 416/982 [26:06<54:44,  5.80s/it]\u001b[A\n",
      " 42%|█████████████████████████████████▉                                              | 417/982 [26:12<54:43,  5.81s/it]\u001b[A\n",
      " 43%|██████████████████████████████████                                              | 418/982 [26:18<54:27,  5.79s/it]\u001b[A\n",
      " 43%|██████████████████████████████████▏                                             | 419/982 [26:24<54:19,  5.79s/it]\u001b[A\n",
      " 43%|██████████████████████████████████▏                                             | 420/982 [26:29<54:15,  5.79s/it]\u001b[A\n",
      " 43%|██████████████████████████████████▎                                             | 421/982 [26:35<54:23,  5.82s/it]\u001b[A\n",
      " 43%|██████████████████████████████████▍                                             | 422/982 [26:41<54:08,  5.80s/it]\u001b[A\n",
      " 43%|██████████████████████████████████▍                                             | 423/982 [26:47<53:59,  5.79s/it]\u001b[A\n",
      " 43%|██████████████████████████████████▌                                             | 424/982 [26:53<53:51,  5.79s/it]\u001b[A\n",
      " 43%|██████████████████████████████████▌                                             | 425/982 [26:58<53:41,  5.78s/it]\u001b[A\n",
      " 43%|██████████████████████████████████▋                                             | 426/982 [27:04<53:19,  5.75s/it]\u001b[A\n",
      " 43%|██████████████████████████████████▊                                             | 427/982 [27:10<53:23,  5.77s/it]\u001b[A\n",
      " 44%|██████████████████████████████████▊                                             | 428/982 [27:16<53:28,  5.79s/it]\u001b[A\n",
      " 44%|██████████████████████████████████▉                                             | 429/982 [27:22<53:25,  5.80s/it]\u001b[A\n",
      " 44%|███████████████████████████████████                                             | 430/982 [27:27<53:23,  5.80s/it]\u001b[A\n",
      " 44%|███████████████████████████████████                                             | 431/982 [27:33<53:09,  5.79s/it]\u001b[A\n",
      " 44%|███████████████████████████████████▏                                            | 432/982 [27:39<53:08,  5.80s/it]\u001b[A\n",
      " 44%|███████████████████████████████████▎                                            | 433/982 [27:45<53:10,  5.81s/it]\u001b[A\n",
      " 44%|███████████████████████████████████▎                                            | 434/982 [27:51<52:59,  5.80s/it]\u001b[A\n",
      " 44%|███████████████████████████████████▍                                            | 435/982 [27:56<53:02,  5.82s/it]\u001b[A\n",
      " 44%|███████████████████████████████████▌                                            | 436/982 [28:02<53:14,  5.85s/it]\u001b[A\n",
      " 45%|███████████████████████████████████▌                                            | 437/982 [28:08<53:17,  5.87s/it]\u001b[A\n",
      " 45%|███████████████████████████████████▋                                            | 438/982 [28:14<53:22,  5.89s/it]\u001b[A\n",
      " 45%|███████████████████████████████████▊                                            | 439/982 [28:20<53:20,  5.89s/it]\u001b[A\n",
      " 45%|███████████████████████████████████▊                                            | 440/982 [28:26<53:16,  5.90s/it]\u001b[A\n",
      " 45%|███████████████████████████████████▉                                            | 441/982 [28:32<53:11,  5.90s/it]\u001b[A\n",
      " 45%|████████████████████████████████████                                            | 442/982 [28:38<53:09,  5.91s/it]\u001b[A\n",
      " 45%|████████████████████████████████████                                            | 443/982 [28:44<53:01,  5.90s/it]\u001b[A\n",
      " 45%|████████████████████████████████████▏                                           | 444/982 [28:50<52:46,  5.88s/it]\u001b[A\n",
      " 45%|████████████████████████████████████▎                                           | 445/982 [28:55<52:41,  5.89s/it]\u001b[A\n",
      " 45%|████████████████████████████████████▎                                           | 446/982 [29:01<52:40,  5.90s/it]\u001b[A\n",
      " 46%|████████████████████████████████████▍                                           | 447/982 [29:07<52:31,  5.89s/it]\u001b[A\n",
      " 46%|████████████████████████████████████▍                                           | 448/982 [29:13<52:28,  5.90s/it]\u001b[A\n",
      " 46%|████████████████████████████████████▌                                           | 449/982 [29:19<52:07,  5.87s/it]\u001b[A\n",
      " 46%|████████████████████████████████████▋                                           | 450/982 [29:25<51:35,  5.82s/it]\u001b[A\n",
      " 46%|████████████████████████████████████▋                                           | 451/982 [29:30<51:21,  5.80s/it]\u001b[A\n",
      " 46%|████████████████████████████████████▊                                           | 452/982 [29:36<51:17,  5.81s/it]\u001b[A\n",
      " 46%|████████████████████████████████████▉                                           | 453/982 [29:42<51:23,  5.83s/it]\u001b[A\n",
      " 46%|████████████████████████████████████▉                                           | 454/982 [29:47<48:16,  5.49s/it]\u001b[A\n",
      " 46%|█████████████████████████████████████                                           | 455/982 [29:53<49:12,  5.60s/it]\u001b[A\n",
      " 46%|█████████████████████████████████████▏                                          | 456/982 [29:59<49:54,  5.69s/it]\u001b[A\n",
      " 47%|█████████████████████████████████████▏                                          | 457/982 [30:04<50:13,  5.74s/it]\u001b[A\n",
      " 47%|█████████████████████████████████████▎                                          | 458/982 [30:11<53:27,  6.12s/it]\u001b[A\n",
      " 47%|█████████████████████████████████████▍                                          | 459/982 [30:17<52:52,  6.07s/it]\u001b[A\n",
      " 47%|█████████████████████████████████████▍                                          | 460/982 [30:23<51:49,  5.96s/it]\u001b[A\n"
     ]
    },
    {
     "name": "stderr",
     "output_type": "stream",
     "text": [
      " 47%|█████████████████████████████████████▌                                          | 461/982 [30:29<51:03,  5.88s/it]\u001b[A\n",
      " 47%|█████████████████████████████████████▋                                          | 462/982 [30:35<50:45,  5.86s/it]\u001b[A\n",
      " 47%|█████████████████████████████████████▋                                          | 463/982 [30:40<50:25,  5.83s/it]\u001b[A\n",
      " 47%|█████████████████████████████████████▊                                          | 464/982 [30:46<50:22,  5.83s/it]\u001b[A\n",
      " 47%|█████████████████████████████████████▉                                          | 465/982 [30:52<50:11,  5.82s/it]\u001b[A\n",
      " 47%|█████████████████████████████████████▉                                          | 466/982 [30:58<49:54,  5.80s/it]\u001b[A\n",
      " 48%|██████████████████████████████████████                                          | 467/982 [31:04<49:50,  5.81s/it]\u001b[A\n",
      " 48%|██████████████████████████████████████▏                                         | 468/982 [31:09<49:38,  5.79s/it]\u001b[A\n",
      " 48%|██████████████████████████████████████▏                                         | 469/982 [31:15<49:37,  5.80s/it]\u001b[A\n",
      " 48%|██████████████████████████████████████▎                                         | 470/982 [31:21<49:16,  5.77s/it]\u001b[A\n",
      " 48%|██████████████████████████████████████▎                                         | 471/982 [31:27<49:06,  5.77s/it]\u001b[A\n",
      " 48%|██████████████████████████████████████▍                                         | 472/982 [31:32<49:19,  5.80s/it]\u001b[A\n",
      " 48%|██████████████████████████████████████▌                                         | 473/982 [31:38<49:07,  5.79s/it]\u001b[A\n",
      " 48%|██████████████████████████████████████▌                                         | 474/982 [31:44<48:58,  5.78s/it]\u001b[A\n",
      " 48%|██████████████████████████████████████▋                                         | 475/982 [31:50<48:49,  5.78s/it]\u001b[A\n",
      " 48%|██████████████████████████████████████▊                                         | 476/982 [31:56<48:44,  5.78s/it]\u001b[A\n",
      " 49%|██████████████████████████████████████▊                                         | 477/982 [32:01<48:43,  5.79s/it]\u001b[A\n",
      " 49%|██████████████████████████████████████▉                                         | 478/982 [32:07<48:32,  5.78s/it]\u001b[A\n",
      " 49%|███████████████████████████████████████                                         | 479/982 [32:13<48:34,  5.79s/it]\u001b[A\n",
      " 49%|███████████████████████████████████████                                         | 480/982 [32:19<48:22,  5.78s/it]\u001b[A\n",
      " 49%|███████████████████████████████████████▏                                        | 481/982 [32:25<48:27,  5.80s/it]\u001b[A\n",
      " 49%|███████████████████████████████████████▎                                        | 482/982 [32:30<48:20,  5.80s/it]\u001b[A\n",
      " 49%|███████████████████████████████████████▎                                        | 483/982 [32:36<48:04,  5.78s/it]\u001b[A\n",
      " 49%|███████████████████████████████████████▍                                        | 484/982 [32:42<47:56,  5.78s/it]\u001b[A\n",
      " 49%|███████████████████████████████████████▌                                        | 485/982 [32:48<48:00,  5.80s/it]\u001b[A\n",
      " 49%|███████████████████████████████████████▌                                        | 486/982 [32:54<47:56,  5.80s/it]\u001b[A\n",
      " 50%|███████████████████████████████████████▋                                        | 487/982 [32:59<48:02,  5.82s/it]\u001b[A\n",
      " 50%|███████████████████████████████████████▊                                        | 488/982 [33:05<47:58,  5.83s/it]\u001b[A\n",
      " 50%|███████████████████████████████████████▊                                        | 489/982 [33:11<47:56,  5.83s/it]\u001b[A\n",
      " 50%|███████████████████████████████████████▉                                        | 490/982 [33:17<47:40,  5.81s/it]\u001b[A\n",
      " 50%|████████████████████████████████████████                                        | 491/982 [33:23<47:36,  5.82s/it]\u001b[A\n",
      " 50%|████████████████████████████████████████                                        | 492/982 [33:28<47:25,  5.81s/it]\u001b[A\n",
      " 50%|████████████████████████████████████████▏                                       | 493/982 [33:34<46:59,  5.77s/it]\u001b[A\n",
      " 50%|████████████████████████████████████████▏                                       | 494/982 [33:40<47:11,  5.80s/it]\u001b[A\n",
      " 50%|████████████████████████████████████████▎                                       | 495/982 [33:46<47:05,  5.80s/it]\u001b[A\n",
      " 51%|████████████████████████████████████████▍                                       | 496/982 [33:52<47:01,  5.81s/it]\u001b[A\n",
      " 51%|████████████████████████████████████████▍                                       | 497/982 [33:57<46:40,  5.77s/it]\u001b[A\n",
      " 51%|████████████████████████████████████████▌                                       | 498/982 [34:03<46:35,  5.78s/it]\u001b[A\n",
      " 51%|████████████████████████████████████████▋                                       | 499/982 [34:09<46:06,  5.73s/it]\u001b[A\n",
      " 51%|████████████████████████████████████████▋                                       | 500/982 [34:15<46:21,  5.77s/it]\u001b[A\n",
      " 51%|████████████████████████████████████████▊                                       | 501/982 [34:20<46:24,  5.79s/it]\u001b[A\n",
      " 51%|████████████████████████████████████████▉                                       | 502/982 [34:26<46:14,  5.78s/it]\u001b[A\n",
      " 51%|████████████████████████████████████████▉                                       | 503/982 [34:32<45:53,  5.75s/it]\u001b[A\n",
      " 51%|█████████████████████████████████████████                                       | 504/982 [34:38<45:47,  5.75s/it]\u001b[A\n",
      " 51%|█████████████████████████████████████████▏                                      | 505/982 [34:43<45:32,  5.73s/it]\u001b[A\n",
      " 52%|█████████████████████████████████████████▏                                      | 506/982 [34:49<45:25,  5.73s/it]\u001b[A\n",
      " 52%|█████████████████████████████████████████▎                                      | 507/982 [34:55<45:32,  5.75s/it]\u001b[A\n",
      " 52%|█████████████████████████████████████████▍                                      | 508/982 [35:01<45:44,  5.79s/it]\u001b[A\n",
      " 52%|█████████████████████████████████████████▍                                      | 509/982 [35:07<45:41,  5.80s/it]\u001b[A\n",
      " 52%|█████████████████████████████████████████▌                                      | 510/982 [35:12<45:47,  5.82s/it]\u001b[A\n",
      " 52%|█████████████████████████████████████████▋                                      | 511/982 [35:18<45:29,  5.80s/it]\u001b[A\n",
      " 52%|█████████████████████████████████████████▋                                      | 512/982 [35:24<45:26,  5.80s/it]\u001b[A\n",
      " 52%|█████████████████████████████████████████▊                                      | 513/982 [35:30<45:32,  5.83s/it]\u001b[A\n",
      " 52%|█████████████████████████████████████████▊                                      | 514/982 [35:36<45:22,  5.82s/it]\u001b[A\n",
      " 52%|█████████████████████████████████████████▉                                      | 515/982 [35:41<45:18,  5.82s/it]\u001b[A\n",
      " 53%|██████████████████████████████████████████                                      | 516/982 [35:47<44:45,  5.76s/it]\u001b[A\n",
      " 53%|██████████████████████████████████████████                                      | 517/982 [35:53<44:51,  5.79s/it]\u001b[A\n",
      " 53%|██████████████████████████████████████████▏                                     | 518/982 [35:59<44:52,  5.80s/it]\u001b[A\n",
      " 53%|██████████████████████████████████████████▎                                     | 519/982 [36:05<44:45,  5.80s/it]\u001b[A\n",
      " 53%|██████████████████████████████████████████▎                                     | 520/982 [36:10<44:47,  5.82s/it]\u001b[A\n",
      " 53%|██████████████████████████████████████████▍                                     | 521/982 [36:16<44:47,  5.83s/it]\u001b[A\n",
      " 53%|██████████████████████████████████████████▌                                     | 522/982 [36:22<44:31,  5.81s/it]\u001b[A\n",
      " 53%|██████████████████████████████████████████▌                                     | 523/982 [36:28<44:26,  5.81s/it]\u001b[A\n",
      " 53%|██████████████████████████████████████████▋                                     | 524/982 [36:34<44:21,  5.81s/it]\u001b[A\n",
      " 53%|██████████████████████████████████████████▊                                     | 525/982 [36:39<44:15,  5.81s/it]\u001b[A\n",
      " 54%|██████████████████████████████████████████▊                                     | 526/982 [36:45<44:11,  5.81s/it]\u001b[A\n"
     ]
    },
    {
     "name": "stderr",
     "output_type": "stream",
     "text": [
      " 54%|██████████████████████████████████████████▉                                     | 527/982 [36:51<44:01,  5.81s/it]\u001b[A\n",
      " 54%|███████████████████████████████████████████                                     | 528/982 [36:57<43:59,  5.81s/it]\u001b[A\n",
      " 54%|███████████████████████████████████████████                                     | 529/982 [37:03<43:48,  5.80s/it]\u001b[A\n",
      " 54%|███████████████████████████████████████████▏                                    | 530/982 [37:08<43:38,  5.79s/it]\u001b[A\n",
      " 54%|███████████████████████████████████████████▎                                    | 531/982 [37:14<43:06,  5.74s/it]\u001b[A\n",
      " 54%|███████████████████████████████████████████▎                                    | 532/982 [37:20<43:13,  5.76s/it]\u001b[A\n",
      " 54%|███████████████████████████████████████████▍                                    | 533/982 [37:26<43:08,  5.76s/it]\u001b[A\n",
      " 54%|███████████████████████████████████████████▌                                    | 534/982 [37:32<43:18,  5.80s/it]\u001b[A\n",
      " 54%|███████████████████████████████████████████▌                                    | 535/982 [37:37<43:19,  5.82s/it]\u001b[A\n",
      " 55%|███████████████████████████████████████████▋                                    | 536/982 [37:43<42:58,  5.78s/it]\u001b[A\n",
      " 55%|███████████████████████████████████████████▋                                    | 537/982 [37:49<42:50,  5.78s/it]\u001b[A\n",
      " 55%|███████████████████████████████████████████▊                                    | 538/982 [37:55<42:55,  5.80s/it]\u001b[A\n",
      " 55%|███████████████████████████████████████████▉                                    | 539/982 [38:01<42:59,  5.82s/it]\u001b[A\n",
      " 55%|███████████████████████████████████████████▉                                    | 540/982 [38:07<43:08,  5.86s/it]\u001b[A\n",
      " 55%|████████████████████████████████████████████                                    | 541/982 [38:12<43:06,  5.86s/it]\u001b[A\n",
      " 55%|████████████████████████████████████████████▏                                   | 542/982 [38:18<43:07,  5.88s/it]\u001b[A\n",
      " 55%|████████████████████████████████████████████▏                                   | 543/982 [38:24<42:58,  5.87s/it]\u001b[A\n",
      " 55%|████████████████████████████████████████████▎                                   | 544/982 [38:30<42:52,  5.87s/it]\u001b[A\n",
      " 55%|████████████████████████████████████████████▍                                   | 545/982 [38:36<42:48,  5.88s/it]\u001b[A\n",
      " 56%|████████████████████████████████████████████▍                                   | 546/982 [38:42<42:40,  5.87s/it]\u001b[A\n",
      " 56%|████████████████████████████████████████████▌                                   | 547/982 [38:48<42:29,  5.86s/it]\u001b[A\n",
      " 56%|████████████████████████████████████████████▋                                   | 548/982 [38:53<42:13,  5.84s/it]\u001b[A\n",
      " 56%|████████████████████████████████████████████▋                                   | 549/982 [38:59<42:03,  5.83s/it]\u001b[A\n",
      " 56%|████████████████████████████████████████████▊                                   | 550/982 [39:05<42:00,  5.83s/it]\u001b[A\n",
      " 56%|████████████████████████████████████████████▉                                   | 551/982 [39:11<41:51,  5.83s/it]\u001b[A\n",
      " 56%|████████████████████████████████████████████▉                                   | 552/982 [39:17<41:25,  5.78s/it]\u001b[A\n",
      " 56%|█████████████████████████████████████████████                                   | 553/982 [39:22<41:24,  5.79s/it]\u001b[A\n",
      " 56%|█████████████████████████████████████████████▏                                  | 554/982 [39:28<41:21,  5.80s/it]\u001b[A\n",
      " 57%|█████████████████████████████████████████████▏                                  | 555/982 [39:34<41:05,  5.77s/it]\u001b[A\n",
      " 57%|█████████████████████████████████████████████▎                                  | 556/982 [39:40<41:02,  5.78s/it]\u001b[A\n",
      " 57%|█████████████████████████████████████████████▍                                  | 557/982 [39:45<40:52,  5.77s/it]\u001b[A\n",
      " 57%|█████████████████████████████████████████████▍                                  | 558/982 [39:51<40:45,  5.77s/it]\u001b[A\n",
      " 57%|█████████████████████████████████████████████▌                                  | 559/982 [39:57<40:22,  5.73s/it]\u001b[A\n",
      " 57%|█████████████████████████████████████████████▌                                  | 560/982 [40:03<40:21,  5.74s/it]\u001b[A\n",
      " 57%|█████████████████████████████████████████████▋                                  | 561/982 [40:08<40:27,  5.77s/it]\u001b[A\n",
      " 57%|█████████████████████████████████████████████▊                                  | 562/982 [40:14<40:32,  5.79s/it]\u001b[A\n",
      " 57%|█████████████████████████████████████████████▊                                  | 563/982 [40:20<40:34,  5.81s/it]\u001b[A\n",
      " 57%|█████████████████████████████████████████████▉                                  | 564/982 [40:26<40:24,  5.80s/it]\u001b[A\n",
      " 58%|██████████████████████████████████████████████                                  | 565/982 [40:32<40:27,  5.82s/it]\u001b[A\n",
      " 58%|██████████████████████████████████████████████                                  | 566/982 [40:38<40:23,  5.82s/it]\u001b[A\n",
      " 58%|██████████████████████████████████████████████▏                                 | 567/982 [40:43<40:22,  5.84s/it]\u001b[A\n",
      " 58%|██████████████████████████████████████████████▎                                 | 568/982 [40:49<40:11,  5.83s/it]\u001b[A\n",
      " 58%|██████████████████████████████████████████████▎                                 | 569/982 [40:55<40:10,  5.84s/it]\u001b[A\n",
      " 58%|██████████████████████████████████████████████▍                                 | 570/982 [41:01<40:07,  5.84s/it]\u001b[A\n",
      " 58%|██████████████████████████████████████████████▌                                 | 571/982 [41:07<40:05,  5.85s/it]\u001b[A\n",
      " 58%|██████████████████████████████████████████████▌                                 | 572/982 [41:13<39:58,  5.85s/it]\u001b[A\n",
      " 58%|██████████████████████████████████████████████▋                                 | 573/982 [41:19<39:53,  5.85s/it]\u001b[A\n",
      " 58%|██████████████████████████████████████████████▊                                 | 574/982 [41:24<39:31,  5.81s/it]\u001b[A\n",
      " 59%|██████████████████████████████████████████████▊                                 | 575/982 [41:30<39:23,  5.81s/it]\u001b[A\n",
      " 59%|██████████████████████████████████████████████▉                                 | 576/982 [41:36<39:11,  5.79s/it]\u001b[A\n",
      " 59%|███████████████████████████████████████████████                                 | 577/982 [41:42<39:13,  5.81s/it]\u001b[A\n",
      " 59%|███████████████████████████████████████████████                                 | 578/982 [41:47<39:02,  5.80s/it]\u001b[A\n",
      " 59%|███████████████████████████████████████████████▏                                | 579/982 [41:53<38:50,  5.78s/it]\u001b[A\n",
      " 59%|███████████████████████████████████████████████▎                                | 580/982 [41:59<38:53,  5.80s/it]\u001b[A\n",
      " 59%|███████████████████████████████████████████████▎                                | 581/982 [42:05<38:39,  5.78s/it]\u001b[A\n",
      " 59%|███████████████████████████████████████████████▍                                | 582/982 [42:11<38:31,  5.78s/it]\u001b[A\n",
      " 59%|███████████████████████████████████████████████▍                                | 583/982 [42:16<38:35,  5.80s/it]\u001b[A\n",
      " 59%|███████████████████████████████████████████████▌                                | 584/982 [42:22<38:32,  5.81s/it]\u001b[A\n",
      " 60%|███████████████████████████████████████████████▋                                | 585/982 [42:28<38:15,  5.78s/it]\u001b[A\n",
      " 60%|███████████████████████████████████████████████▋                                | 586/982 [42:34<38:11,  5.79s/it]\u001b[A\n",
      " 60%|███████████████████████████████████████████████▊                                | 587/982 [42:40<38:03,  5.78s/it]\u001b[A\n",
      " 60%|███████████████████████████████████████████████▉                                | 588/982 [42:45<37:50,  5.76s/it]\u001b[A\n",
      " 60%|███████████████████████████████████████████████▉                                | 589/982 [42:51<37:40,  5.75s/it]\u001b[A\n",
      " 60%|████████████████████████████████████████████████                                | 590/982 [42:57<37:28,  5.74s/it]\u001b[A\n",
      " 60%|████████████████████████████████████████████████▏                               | 591/982 [43:02<37:14,  5.72s/it]\u001b[A\n",
      " 60%|████████████████████████████████████████████████▏                               | 592/982 [43:08<37:22,  5.75s/it]\u001b[A\n"
     ]
    },
    {
     "name": "stderr",
     "output_type": "stream",
     "text": [
      " 60%|████████████████████████████████████████████████▎                               | 593/982 [43:14<37:30,  5.79s/it]\u001b[A\n",
      " 60%|████████████████████████████████████████████████▍                               | 594/982 [43:20<37:28,  5.79s/it]\u001b[A\n",
      " 61%|████████████████████████████████████████████████▍                               | 595/982 [43:26<37:15,  5.78s/it]\u001b[A\n",
      " 61%|████████████████████████████████████████████████▌                               | 596/982 [43:31<37:14,  5.79s/it]\u001b[A\n",
      " 61%|████████████████████████████████████████████████▋                               | 597/982 [43:37<37:07,  5.79s/it]\u001b[A\n",
      " 61%|████████████████████████████████████████████████▋                               | 598/982 [43:43<37:05,  5.80s/it]\u001b[A\n",
      " 61%|████████████████████████████████████████████████▊                               | 599/982 [43:49<37:04,  5.81s/it]\u001b[A\n",
      " 61%|████████████████████████████████████████████████▉                               | 600/982 [43:54<36:32,  5.74s/it]\u001b[A\n",
      " 61%|████████████████████████████████████████████████▉                               | 601/982 [44:00<36:37,  5.77s/it]\u001b[A\n",
      " 61%|█████████████████████████████████████████████████                               | 602/982 [44:06<36:33,  5.77s/it]\u001b[A\n",
      " 61%|█████████████████████████████████████████████████                               | 603/982 [44:12<36:30,  5.78s/it]\u001b[A\n",
      " 62%|█████████████████████████████████████████████████▏                              | 604/982 [44:18<36:25,  5.78s/it]\u001b[A\n",
      " 62%|█████████████████████████████████████████████████▎                              | 605/982 [44:23<36:14,  5.77s/it]\u001b[A\n",
      " 62%|█████████████████████████████████████████████████▎                              | 606/982 [44:29<36:04,  5.76s/it]\u001b[A\n",
      " 62%|█████████████████████████████████████████████████▍                              | 607/982 [44:35<35:54,  5.74s/it]\u001b[A\n",
      " 62%|█████████████████████████████████████████████████▌                              | 608/982 [44:41<35:49,  5.75s/it]\u001b[A\n",
      " 62%|█████████████████████████████████████████████████▌                              | 609/982 [44:46<35:58,  5.79s/it]\u001b[A\n",
      " 62%|█████████████████████████████████████████████████▋                              | 610/982 [44:52<35:52,  5.79s/it]\u001b[A\n",
      " 62%|█████████████████████████████████████████████████▊                              | 611/982 [44:58<35:48,  5.79s/it]\u001b[A\n",
      " 62%|█████████████████████████████████████████████████▊                              | 612/982 [45:04<35:37,  5.78s/it]\u001b[A\n",
      " 62%|█████████████████████████████████████████████████▉                              | 613/982 [45:10<35:33,  5.78s/it]\u001b[A\n",
      " 63%|██████████████████████████████████████████████████                              | 614/982 [45:15<35:28,  5.78s/it]\u001b[A\n",
      " 63%|██████████████████████████████████████████████████                              | 615/982 [45:21<35:15,  5.76s/it]\u001b[A\n",
      " 63%|██████████████████████████████████████████████████▏                             | 616/982 [45:27<35:03,  5.75s/it]\u001b[A\n",
      " 63%|██████████████████████████████████████████████████▎                             | 617/982 [45:33<35:05,  5.77s/it]\u001b[A\n",
      " 63%|██████████████████████████████████████████████████▎                             | 618/982 [45:38<34:55,  5.76s/it]\u001b[A\n",
      " 63%|██████████████████████████████████████████████████▍                             | 619/982 [45:44<34:56,  5.78s/it]\u001b[A\n",
      " 63%|██████████████████████████████████████████████████▌                             | 620/982 [45:50<34:45,  5.76s/it]\u001b[A\n",
      " 63%|██████████████████████████████████████████████████▌                             | 621/982 [45:56<34:41,  5.76s/it]\u001b[A\n",
      " 63%|██████████████████████████████████████████████████▋                             | 622/982 [46:01<34:40,  5.78s/it]\u001b[A\n",
      " 63%|██████████████████████████████████████████████████▊                             | 623/982 [46:07<34:40,  5.80s/it]\u001b[A\n",
      " 64%|██████████████████████████████████████████████████▊                             | 624/982 [46:13<34:34,  5.79s/it]\u001b[A\n",
      " 64%|██████████████████████████████████████████████████▉                             | 625/982 [46:19<34:28,  5.80s/it]\u001b[A\n",
      " 64%|██████████████████████████████████████████████████▉                             | 626/982 [46:25<34:28,  5.81s/it]\u001b[A\n",
      " 64%|███████████████████████████████████████████████████                             | 627/982 [46:30<33:50,  5.72s/it]\u001b[A\n",
      " 64%|███████████████████████████████████████████████████▏                            | 628/982 [46:36<34:00,  5.76s/it]\u001b[A\n",
      " 64%|███████████████████████████████████████████████████▏                            | 629/982 [46:42<34:25,  5.85s/it]\u001b[A\n",
      " 64%|███████████████████████████████████████████████████▎                            | 630/982 [46:48<34:20,  5.85s/it]\u001b[A\n",
      " 64%|███████████████████████████████████████████████████▍                            | 631/982 [46:54<34:14,  5.85s/it]\u001b[A\n",
      " 64%|███████████████████████████████████████████████████▍                            | 632/982 [47:00<34:05,  5.84s/it]\u001b[A\n",
      " 64%|███████████████████████████████████████████████████▌                            | 633/982 [47:05<33:52,  5.82s/it]\u001b[A\n",
      " 65%|███████████████████████████████████████████████████▋                            | 634/982 [47:11<33:45,  5.82s/it]\u001b[A\n",
      " 65%|███████████████████████████████████████████████████▋                            | 635/982 [47:17<33:27,  5.79s/it]\u001b[A\n",
      " 65%|███████████████████████████████████████████████████▊                            | 636/982 [47:23<33:26,  5.80s/it]\u001b[A\n",
      " 65%|███████████████████████████████████████████████████▉                            | 637/982 [47:29<33:23,  5.81s/it]\u001b[A\n",
      " 65%|███████████████████████████████████████████████████▉                            | 638/982 [47:35<33:22,  5.82s/it]\u001b[A\n",
      " 65%|████████████████████████████████████████████████████                            | 639/982 [47:40<33:12,  5.81s/it]\u001b[A\n",
      " 65%|████████████████████████████████████████████████████▏                           | 640/982 [47:46<33:05,  5.81s/it]\u001b[A\n",
      " 65%|████████████████████████████████████████████████████▏                           | 641/982 [47:52<33:04,  5.82s/it]\u001b[A\n",
      " 65%|████████████████████████████████████████████████████▎                           | 642/982 [47:58<33:01,  5.83s/it]\u001b[A\n",
      " 65%|████████████████████████████████████████████████████▍                           | 643/982 [48:04<32:54,  5.83s/it]\u001b[A\n",
      " 66%|████████████████████████████████████████████████████▍                           | 644/982 [48:09<32:44,  5.81s/it]\u001b[A\n",
      " 66%|████████████████████████████████████████████████████▌                           | 645/982 [48:15<32:34,  5.80s/it]\u001b[A\n",
      " 66%|████████████████████████████████████████████████████▋                           | 646/982 [48:21<32:23,  5.78s/it]\u001b[A\n",
      " 66%|████████████████████████████████████████████████████▋                           | 647/982 [48:27<32:19,  5.79s/it]\u001b[A\n",
      " 66%|████████████████████████████████████████████████████▊                           | 648/982 [48:33<32:19,  5.81s/it]\u001b[A\n",
      " 66%|████████████████████████████████████████████████████▊                           | 649/982 [48:38<32:14,  5.81s/it]\u001b[A\n",
      " 66%|████████████████████████████████████████████████████▉                           | 650/982 [48:44<32:04,  5.80s/it]\u001b[A\n",
      " 66%|█████████████████████████████████████████████████████                           | 651/982 [48:50<31:57,  5.79s/it]\u001b[A\n",
      " 66%|█████████████████████████████████████████████████████                           | 652/982 [48:56<31:55,  5.81s/it]\u001b[A\n",
      " 66%|█████████████████████████████████████████████████████▏                          | 653/982 [49:02<31:54,  5.82s/it]\u001b[A\n",
      " 67%|█████████████████████████████████████████████████████▎                          | 654/982 [49:07<31:49,  5.82s/it]\u001b[A\n",
      " 67%|█████████████████████████████████████████████████████▎                          | 655/982 [49:13<31:33,  5.79s/it]\u001b[A\n",
      " 67%|█████████████████████████████████████████████████████▍                          | 656/982 [49:19<31:30,  5.80s/it]\u001b[A\n",
      " 67%|█████████████████████████████████████████████████████▌                          | 657/982 [49:25<31:29,  5.81s/it]\u001b[A\n",
      " 67%|█████████████████████████████████████████████████████▌                          | 658/982 [49:31<31:25,  5.82s/it]\u001b[A\n"
     ]
    },
    {
     "name": "stderr",
     "output_type": "stream",
     "text": [
      " 67%|█████████████████████████████████████████████████████▋                          | 659/982 [49:36<31:21,  5.82s/it]\u001b[A\n",
      " 67%|█████████████████████████████████████████████████████▊                          | 660/982 [49:42<31:17,  5.83s/it]\u001b[A\n",
      " 67%|█████████████████████████████████████████████████████▊                          | 661/982 [49:48<31:13,  5.84s/it]\u001b[A\n",
      " 67%|█████████████████████████████████████████████████████▉                          | 662/982 [49:54<31:12,  5.85s/it]\u001b[A\n",
      " 68%|██████████████████████████████████████████████████████                          | 663/982 [50:00<31:09,  5.86s/it]\u001b[A\n",
      " 68%|██████████████████████████████████████████████████████                          | 664/982 [50:06<31:00,  5.85s/it]\u001b[A\n",
      " 68%|██████████████████████████████████████████████████████▏                         | 665/982 [50:12<30:57,  5.86s/it]\u001b[A\n",
      " 68%|██████████████████████████████████████████████████████▎                         | 666/982 [50:17<30:41,  5.83s/it]\u001b[A\n",
      " 68%|██████████████████████████████████████████████████████▎                         | 667/982 [50:23<30:39,  5.84s/it]\u001b[A\n",
      " 68%|██████████████████████████████████████████████████████▍                         | 668/982 [50:29<30:33,  5.84s/it]\u001b[A\n",
      " 68%|██████████████████████████████████████████████████████▌                         | 669/982 [50:35<30:20,  5.82s/it]\u001b[A\n",
      " 68%|██████████████████████████████████████████████████████▌                         | 670/982 [50:41<30:00,  5.77s/it]\u001b[A\n",
      " 68%|██████████████████████████████████████████████████████▋                         | 671/982 [50:46<29:50,  5.76s/it]\u001b[A\n",
      " 68%|██████████████████████████████████████████████████████▋                         | 672/982 [50:52<29:54,  5.79s/it]\u001b[A\n",
      " 69%|██████████████████████████████████████████████████████▊                         | 673/982 [50:58<29:42,  5.77s/it]\u001b[A\n",
      " 69%|██████████████████████████████████████████████████████▉                         | 674/982 [51:04<29:30,  5.75s/it]\u001b[A\n",
      " 69%|██████████████████████████████████████████████████████▉                         | 675/982 [51:09<29:24,  5.75s/it]\u001b[A\n",
      " 69%|███████████████████████████████████████████████████████                         | 676/982 [51:15<29:28,  5.78s/it]\u001b[A\n",
      " 69%|███████████████████████████████████████████████████████▏                        | 677/982 [51:21<29:27,  5.80s/it]\u001b[A\n",
      " 69%|███████████████████████████████████████████████████████▏                        | 678/982 [51:27<29:15,  5.77s/it]\u001b[A\n",
      " 69%|███████████████████████████████████████████████████████▎                        | 679/982 [51:32<29:01,  5.75s/it]\u001b[A\n",
      " 69%|███████████████████████████████████████████████████████▍                        | 680/982 [51:38<29:01,  5.77s/it]\u001b[A\n",
      " 69%|███████████████████████████████████████████████████████▍                        | 681/982 [51:44<28:53,  5.76s/it]\u001b[A\n",
      " 69%|███████████████████████████████████████████████████████▌                        | 682/982 [51:50<28:40,  5.74s/it]\u001b[A\n",
      " 70%|███████████████████████████████████████████████████████▋                        | 683/982 [51:55<28:16,  5.67s/it]\u001b[A\n",
      " 70%|███████████████████████████████████████████████████████▋                        | 684/982 [52:01<28:19,  5.70s/it]\u001b[A\n",
      " 70%|███████████████████████████████████████████████████████▊                        | 685/982 [52:07<28:25,  5.74s/it]\u001b[A\n",
      " 70%|███████████████████████████████████████████████████████▉                        | 686/982 [52:13<28:19,  5.74s/it]\u001b[A\n",
      " 70%|███████████████████████████████████████████████████████▉                        | 687/982 [52:18<28:20,  5.76s/it]\u001b[A\n",
      " 70%|████████████████████████████████████████████████████████                        | 688/982 [52:24<28:20,  5.78s/it]\u001b[A\n",
      " 70%|████████████████████████████████████████████████████████▏                       | 689/982 [52:30<28:10,  5.77s/it]\u001b[A\n",
      " 70%|████████████████████████████████████████████████████████▏                       | 690/982 [52:36<28:01,  5.76s/it]\u001b[A\n",
      " 70%|████████████████████████████████████████████████████████▎                       | 691/982 [52:41<28:00,  5.77s/it]\u001b[A\n",
      " 70%|████████████████████████████████████████████████████████▎                       | 692/982 [52:47<27:58,  5.79s/it]\u001b[A\n",
      " 71%|████████████████████████████████████████████████████████▍                       | 693/982 [52:53<27:53,  5.79s/it]\u001b[A\n",
      " 71%|████████████████████████████████████████████████████████▌                       | 694/982 [52:59<27:47,  5.79s/it]\u001b[A\n",
      " 71%|████████████████████████████████████████████████████████▌                       | 695/982 [53:05<27:43,  5.80s/it]\u001b[A\n",
      " 71%|████████████████████████████████████████████████████████▋                       | 696/982 [53:10<27:37,  5.80s/it]\u001b[A\n",
      " 71%|████████████████████████████████████████████████████████▊                       | 697/982 [53:16<27:35,  5.81s/it]\u001b[A\n",
      " 71%|████████████████████████████████████████████████████████▊                       | 698/982 [53:22<27:33,  5.82s/it]\u001b[A\n",
      " 71%|████████████████████████████████████████████████████████▉                       | 699/982 [53:28<27:21,  5.80s/it]\u001b[A\n",
      " 71%|█████████████████████████████████████████████████████████                       | 700/982 [53:34<27:20,  5.82s/it]\u001b[A\n",
      " 71%|█████████████████████████████████████████████████████████                       | 701/982 [53:40<27:15,  5.82s/it]\u001b[A\n",
      " 71%|█████████████████████████████████████████████████████████▏                      | 702/982 [53:45<27:06,  5.81s/it]\u001b[A\n",
      " 72%|█████████████████████████████████████████████████████████▎                      | 703/982 [53:51<27:05,  5.82s/it]\u001b[A\n",
      " 72%|█████████████████████████████████████████████████████████▎                      | 704/982 [53:57<27:02,  5.84s/it]\u001b[A\n",
      " 72%|█████████████████████████████████████████████████████████▍                      | 705/982 [54:03<26:58,  5.84s/it]\u001b[A\n",
      " 72%|█████████████████████████████████████████████████████████▌                      | 706/982 [54:09<26:52,  5.84s/it]\u001b[A\n",
      " 72%|█████████████████████████████████████████████████████████▌                      | 707/982 [54:15<26:45,  5.84s/it]\u001b[A\n",
      " 72%|█████████████████████████████████████████████████████████▋                      | 708/982 [54:20<26:34,  5.82s/it]\u001b[A\n",
      " 72%|█████████████████████████████████████████████████████████▊                      | 709/982 [54:26<26:26,  5.81s/it]\u001b[A\n",
      " 72%|█████████████████████████████████████████████████████████▊                      | 710/982 [54:32<26:11,  5.78s/it]\u001b[A\n",
      " 72%|█████████████████████████████████████████████████████████▉                      | 711/982 [54:38<26:12,  5.80s/it]\u001b[A\n",
      " 73%|██████████████████████████████████████████████████████████                      | 712/982 [54:43<25:57,  5.77s/it]\u001b[A\n",
      " 73%|██████████████████████████████████████████████████████████                      | 713/982 [54:49<26:00,  5.80s/it]\u001b[A\n",
      " 73%|██████████████████████████████████████████████████████████▏                     | 714/982 [54:55<26:00,  5.82s/it]\u001b[A\n",
      " 73%|██████████████████████████████████████████████████████████▏                     | 715/982 [55:01<25:47,  5.80s/it]\u001b[A\n",
      " 73%|██████████████████████████████████████████████████████████▎                     | 716/982 [55:07<25:36,  5.78s/it]\u001b[A\n",
      " 73%|██████████████████████████████████████████████████████████▍                     | 717/982 [55:13<25:37,  5.80s/it]\u001b[A\n",
      " 73%|██████████████████████████████████████████████████████████▍                     | 718/982 [55:18<25:32,  5.80s/it]\u001b[A\n",
      " 73%|██████████████████████████████████████████████████████████▌                     | 719/982 [55:24<25:28,  5.81s/it]\u001b[A\n",
      " 73%|██████████████████████████████████████████████████████████▋                     | 720/982 [55:30<25:29,  5.84s/it]\u001b[A\n",
      " 73%|██████████████████████████████████████████████████████████▋                     | 721/982 [55:36<25:24,  5.84s/it]\u001b[A\n",
      " 74%|██████████████████████████████████████████████████████████▊                     | 722/982 [55:42<25:14,  5.82s/it]\u001b[A\n",
      " 74%|██████████████████████████████████████████████████████████▉                     | 723/982 [55:47<24:58,  5.79s/it]\u001b[A\n",
      " 74%|██████████████████████████████████████████████████████████▉                     | 724/982 [55:53<24:55,  5.80s/it]\u001b[A\n"
     ]
    },
    {
     "name": "stderr",
     "output_type": "stream",
     "text": [
      " 74%|███████████████████████████████████████████████████████████                     | 725/982 [55:59<24:54,  5.81s/it]\u001b[A\n",
      " 74%|███████████████████████████████████████████████████████████▏                    | 726/982 [56:05<24:50,  5.82s/it]\u001b[A\n",
      " 74%|███████████████████████████████████████████████████████████▏                    | 727/982 [56:11<24:35,  5.78s/it]\u001b[A\n",
      " 74%|███████████████████████████████████████████████████████████▎                    | 728/982 [56:16<24:30,  5.79s/it]\u001b[A\n",
      " 74%|███████████████████████████████████████████████████████████▍                    | 729/982 [56:22<24:24,  5.79s/it]\u001b[A\n",
      " 74%|███████████████████████████████████████████████████████████▍                    | 730/982 [56:28<24:09,  5.75s/it]\u001b[A\n",
      " 74%|███████████████████████████████████████████████████████████▌                    | 731/982 [56:34<24:08,  5.77s/it]\u001b[A\n",
      " 75%|███████████████████████████████████████████████████████████▋                    | 732/982 [56:39<24:03,  5.77s/it]\u001b[A\n",
      " 75%|███████████████████████████████████████████████████████████▋                    | 733/982 [56:45<24:01,  5.79s/it]\u001b[A\n",
      " 75%|███████████████████████████████████████████████████████████▊                    | 734/982 [56:51<23:59,  5.81s/it]\u001b[A\n",
      " 75%|███████████████████████████████████████████████████████████▉                    | 735/982 [56:57<23:57,  5.82s/it]\u001b[A\n",
      " 75%|███████████████████████████████████████████████████████████▉                    | 736/982 [57:03<23:50,  5.81s/it]\u001b[A\n",
      " 75%|████████████████████████████████████████████████████████████                    | 737/982 [57:09<23:44,  5.82s/it]\u001b[A\n",
      " 75%|████████████████████████████████████████████████████████████                    | 738/982 [57:14<23:38,  5.81s/it]\u001b[A\n",
      " 75%|████████████████████████████████████████████████████████████▏                   | 739/982 [57:20<23:32,  5.81s/it]\u001b[A\n",
      " 75%|████████████████████████████████████████████████████████████▎                   | 740/982 [57:26<23:31,  5.83s/it]\u001b[A\n",
      " 75%|████████████████████████████████████████████████████████████▎                   | 741/982 [57:32<23:19,  5.81s/it]\u001b[A\n",
      " 76%|████████████████████████████████████████████████████████████▍                   | 742/982 [57:38<23:18,  5.83s/it]\u001b[A\n",
      " 76%|████████████████████████████████████████████████████████████▌                   | 743/982 [57:43<23:04,  5.79s/it]\u001b[A\n",
      " 76%|████████████████████████████████████████████████████████████▌                   | 744/982 [57:49<22:59,  5.80s/it]\u001b[A\n",
      " 76%|████████████████████████████████████████████████████████████▋                   | 745/982 [57:55<22:46,  5.77s/it]\u001b[A\n",
      " 76%|████████████████████████████████████████████████████████████▊                   | 746/982 [58:01<22:43,  5.78s/it]\u001b[A\n",
      " 76%|████████████████████████████████████████████████████████████▊                   | 747/982 [58:06<22:35,  5.77s/it]\u001b[A\n",
      " 76%|████████████████████████████████████████████████████████████▉                   | 748/982 [58:12<22:26,  5.75s/it]\u001b[A\n",
      " 76%|█████████████████████████████████████████████████████████████                   | 749/982 [58:18<22:23,  5.77s/it]\u001b[A\n",
      " 76%|█████████████████████████████████████████████████████████████                   | 750/982 [58:24<22:19,  5.77s/it]\u001b[A\n",
      " 76%|█████████████████████████████████████████████████████████████▏                  | 751/982 [58:30<22:14,  5.78s/it]\u001b[A\n",
      " 77%|█████████████████████████████████████████████████████████████▎                  | 752/982 [58:35<22:09,  5.78s/it]\u001b[A\n",
      " 77%|█████████████████████████████████████████████████████████████▎                  | 753/982 [58:41<22:09,  5.81s/it]\u001b[A\n",
      " 77%|█████████████████████████████████████████████████████████████▍                  | 754/982 [58:47<22:09,  5.83s/it]\u001b[A\n",
      " 77%|█████████████████████████████████████████████████████████████▌                  | 755/982 [58:53<22:02,  5.83s/it]\u001b[A\n",
      " 77%|█████████████████████████████████████████████████████████████▌                  | 756/982 [58:59<21:57,  5.83s/it]\u001b[A\n",
      " 77%|█████████████████████████████████████████████████████████████▋                  | 757/982 [59:05<22:04,  5.89s/it]\u001b[A\n",
      " 77%|█████████████████████████████████████████████████████████████▊                  | 758/982 [59:11<21:55,  5.87s/it]\u001b[A\n",
      " 77%|█████████████████████████████████████████████████████████████▊                  | 759/982 [59:16<21:41,  5.84s/it]\u001b[A\n",
      " 77%|█████████████████████████████████████████████████████████████▉                  | 760/982 [59:22<21:35,  5.84s/it]\u001b[A\n",
      " 77%|█████████████████████████████████████████████████████████████▉                  | 761/982 [59:28<21:23,  5.81s/it]\u001b[A\n",
      " 78%|██████████████████████████████████████████████████████████████                  | 762/982 [59:34<21:16,  5.80s/it]\u001b[A\n",
      " 78%|██████████████████████████████████████████████████████████████▏                 | 763/982 [59:40<21:12,  5.81s/it]\u001b[A\n",
      " 78%|██████████████████████████████████████████████████████████████▏                 | 764/982 [59:45<21:06,  5.81s/it]\u001b[A\n",
      " 78%|██████████████████████████████████████████████████████████████▎                 | 765/982 [59:51<21:04,  5.83s/it]\u001b[A\n",
      " 78%|██████████████████████████████████████████████████████████████▍                 | 766/982 [59:57<20:51,  5.80s/it]\u001b[A\n",
      " 78%|████████████████████████████████████████████████████████████▉                 | 767/982 [1:00:03<20:51,  5.82s/it]\u001b[A\n",
      " 78%|█████████████████████████████████████████████████████████████                 | 768/982 [1:00:09<20:43,  5.81s/it]\u001b[A\n",
      " 78%|█████████████████████████████████████████████████████████████                 | 769/982 [1:00:14<20:40,  5.82s/it]\u001b[A\n",
      " 78%|█████████████████████████████████████████████████████████████▏                | 770/982 [1:00:20<20:35,  5.83s/it]\u001b[A\n",
      " 79%|█████████████████████████████████████████████████████████████▏                | 771/982 [1:00:26<20:27,  5.82s/it]\u001b[A\n",
      " 79%|█████████████████████████████████████████████████████████████▎                | 772/982 [1:00:32<20:19,  5.81s/it]\u001b[A\n",
      " 79%|█████████████████████████████████████████████████████████████▍                | 773/982 [1:00:38<20:18,  5.83s/it]\u001b[A\n",
      " 79%|█████████████████████████████████████████████████████████████▍                | 774/982 [1:00:43<20:04,  5.79s/it]\u001b[A\n",
      " 79%|█████████████████████████████████████████████████████████████▌                | 775/982 [1:00:49<20:00,  5.80s/it]\u001b[A\n",
      " 79%|█████████████████████████████████████████████████████████████▋                | 776/982 [1:00:55<19:55,  5.81s/it]\u001b[A\n",
      " 79%|█████████████████████████████████████████████████████████████▋                | 777/982 [1:01:01<19:39,  5.75s/it]\u001b[A\n",
      " 79%|█████████████████████████████████████████████████████████████▊                | 778/982 [1:01:07<19:37,  5.77s/it]\u001b[A\n",
      " 79%|█████████████████████████████████████████████████████████████▉                | 779/982 [1:01:12<19:36,  5.80s/it]\u001b[A\n",
      " 79%|█████████████████████████████████████████████████████████████▉                | 780/982 [1:01:18<19:28,  5.78s/it]\u001b[A\n",
      " 80%|██████████████████████████████████████████████████████████████                | 781/982 [1:01:24<19:24,  5.79s/it]\u001b[A\n",
      " 80%|██████████████████████████████████████████████████████████████                | 782/982 [1:01:30<19:20,  5.80s/it]\u001b[A\n",
      " 80%|██████████████████████████████████████████████████████████████▏               | 783/982 [1:01:36<19:19,  5.82s/it]\u001b[A\n",
      " 80%|██████████████████████████████████████████████████████████████▎               | 784/982 [1:01:41<19:10,  5.81s/it]\u001b[A\n",
      " 80%|██████████████████████████████████████████████████████████████▎               | 785/982 [1:01:47<19:02,  5.80s/it]\u001b[A\n",
      " 80%|██████████████████████████████████████████████████████████████▍               | 786/982 [1:01:53<18:50,  5.77s/it]\u001b[A\n",
      " 80%|██████████████████████████████████████████████████████████████▌               | 787/982 [1:01:59<18:49,  5.79s/it]\u001b[A\n",
      " 80%|██████████████████████████████████████████████████████████████▌               | 788/982 [1:02:05<18:44,  5.80s/it]\u001b[A\n",
      " 80%|██████████████████████████████████████████████████████████████▋               | 789/982 [1:02:10<18:37,  5.79s/it]\u001b[A\n",
      " 80%|██████████████████████████████████████████████████████████████▋               | 790/982 [1:02:16<18:34,  5.80s/it]\u001b[A\n"
     ]
    },
    {
     "name": "stderr",
     "output_type": "stream",
     "text": [
      " 81%|██████████████████████████████████████████████████████████████▊               | 791/982 [1:02:22<18:33,  5.83s/it]\u001b[A\n",
      " 81%|██████████████████████████████████████████████████████████████▉               | 792/982 [1:02:28<18:27,  5.83s/it]\u001b[A\n",
      " 81%|██████████████████████████████████████████████████████████████▉               | 793/982 [1:02:34<18:22,  5.83s/it]\u001b[A\n",
      " 81%|███████████████████████████████████████████████████████████████               | 794/982 [1:02:40<18:14,  5.82s/it]\u001b[A\n",
      " 81%|███████████████████████████████████████████████████████████████▏              | 795/982 [1:02:45<18:06,  5.81s/it]\u001b[A\n",
      " 81%|███████████████████████████████████████████████████████████████▏              | 796/982 [1:02:51<18:02,  5.82s/it]\u001b[A\n",
      " 81%|███████████████████████████████████████████████████████████████▎              | 797/982 [1:02:57<17:55,  5.81s/it]\u001b[A\n",
      " 81%|███████████████████████████████████████████████████████████████▍              | 798/982 [1:03:03<17:41,  5.77s/it]\u001b[A\n",
      " 81%|███████████████████████████████████████████████████████████████▍              | 799/982 [1:03:08<17:37,  5.78s/it]\u001b[A\n",
      " 81%|███████████████████████████████████████████████████████████████▌              | 800/982 [1:03:14<17:34,  5.79s/it]\u001b[A\n",
      " 82%|███████████████████████████████████████████████████████████████▌              | 801/982 [1:03:20<17:24,  5.77s/it]\u001b[A\n",
      " 82%|███████████████████████████████████████████████████████████████▋              | 802/982 [1:03:26<17:15,  5.76s/it]\u001b[A\n",
      " 82%|███████████████████████████████████████████████████████████████▊              | 803/982 [1:03:32<17:15,  5.78s/it]\u001b[A\n",
      " 82%|███████████████████████████████████████████████████████████████▊              | 804/982 [1:03:37<17:11,  5.79s/it]\u001b[A\n",
      " 82%|███████████████████████████████████████████████████████████████▉              | 805/982 [1:03:43<17:00,  5.77s/it]\u001b[A\n",
      " 82%|████████████████████████████████████████████████████████████████              | 806/982 [1:03:49<16:58,  5.79s/it]\u001b[A\n",
      " 82%|████████████████████████████████████████████████████████████████              | 807/982 [1:03:55<16:47,  5.76s/it]\u001b[A\n",
      " 82%|████████████████████████████████████████████████████████████████▏             | 808/982 [1:04:00<16:42,  5.76s/it]\u001b[A\n",
      " 82%|████████████████████████████████████████████████████████████████▎             | 809/982 [1:04:06<16:39,  5.78s/it]\u001b[A\n",
      " 82%|████████████████████████████████████████████████████████████████▎             | 810/982 [1:04:12<16:37,  5.80s/it]\u001b[A\n",
      " 83%|████████████████████████████████████████████████████████████████▍             | 811/982 [1:04:18<16:31,  5.80s/it]\u001b[A\n",
      " 83%|████████████████████████████████████████████████████████████████▍             | 812/982 [1:04:24<16:30,  5.83s/it]\u001b[A\n",
      " 83%|████████████████████████████████████████████████████████████████▌             | 813/982 [1:04:30<16:24,  5.82s/it]\u001b[A\n",
      " 83%|████████████████████████████████████████████████████████████████▋             | 814/982 [1:04:35<16:21,  5.84s/it]\u001b[A\n",
      " 83%|████████████████████████████████████████████████████████████████▋             | 815/982 [1:04:41<16:16,  5.85s/it]\u001b[A\n",
      " 83%|████████████████████████████████████████████████████████████████▊             | 816/982 [1:04:47<16:08,  5.84s/it]\u001b[A\n",
      " 83%|████████████████████████████████████████████████████████████████▉             | 817/982 [1:04:53<16:01,  5.83s/it]\u001b[A\n",
      " 83%|████████████████████████████████████████████████████████████████▉             | 818/982 [1:04:59<15:59,  5.85s/it]\u001b[A\n",
      " 83%|█████████████████████████████████████████████████████████████████             | 819/982 [1:05:05<15:53,  5.85s/it]\u001b[A\n",
      " 84%|█████████████████████████████████████████████████████████████████▏            | 820/982 [1:05:10<15:46,  5.84s/it]\u001b[A\n",
      " 84%|█████████████████████████████████████████████████████████████████▏            | 821/982 [1:05:16<15:36,  5.82s/it]\u001b[A\n",
      " 84%|█████████████████████████████████████████████████████████████████▎            | 822/982 [1:05:22<15:30,  5.82s/it]\u001b[A\n",
      " 84%|█████████████████████████████████████████████████████████████████▎            | 823/982 [1:05:28<15:22,  5.80s/it]\u001b[A\n",
      " 84%|█████████████████████████████████████████████████████████████████▍            | 824/982 [1:05:34<15:16,  5.80s/it]\u001b[A\n",
      " 84%|█████████████████████████████████████████████████████████████████▌            | 825/982 [1:05:39<15:11,  5.80s/it]\u001b[A\n",
      " 84%|█████████████████████████████████████████████████████████████████▌            | 826/982 [1:05:45<15:06,  5.81s/it]\u001b[A\n",
      " 84%|█████████████████████████████████████████████████████████████████▋            | 827/982 [1:05:51<14:57,  5.79s/it]\u001b[A\n",
      " 84%|█████████████████████████████████████████████████████████████████▊            | 828/982 [1:05:57<14:50,  5.78s/it]\u001b[A\n",
      " 84%|█████████████████████████████████████████████████████████████████▊            | 829/982 [1:06:03<14:46,  5.79s/it]\u001b[A\n",
      " 85%|█████████████████████████████████████████████████████████████████▉            | 830/982 [1:06:08<14:45,  5.82s/it]\u001b[A\n",
      " 85%|██████████████████████████████████████████████████████████████████            | 831/982 [1:06:14<14:37,  5.81s/it]\u001b[A\n",
      " 85%|██████████████████████████████████████████████████████████████████            | 832/982 [1:06:20<14:31,  5.81s/it]\u001b[A\n",
      " 85%|██████████████████████████████████████████████████████████████████▏           | 833/982 [1:06:26<14:25,  5.81s/it]\u001b[A\n",
      " 85%|██████████████████████████████████████████████████████████████████▏           | 834/982 [1:06:32<14:19,  5.81s/it]\u001b[A\n",
      " 85%|██████████████████████████████████████████████████████████████████▎           | 835/982 [1:06:37<14:07,  5.77s/it]\u001b[A\n",
      " 85%|██████████████████████████████████████████████████████████████████▍           | 836/982 [1:06:43<14:02,  5.77s/it]\u001b[A\n",
      " 85%|██████████████████████████████████████████████████████████████████▍           | 837/982 [1:06:49<14:00,  5.80s/it]\u001b[A\n",
      " 85%|██████████████████████████████████████████████████████████████████▌           | 838/982 [1:06:55<13:54,  5.80s/it]\u001b[A\n",
      " 85%|██████████████████████████████████████████████████████████████████▋           | 839/982 [1:07:01<13:48,  5.79s/it]\u001b[A\n",
      " 86%|██████████████████████████████████████████████████████████████████▋           | 840/982 [1:07:06<13:45,  5.81s/it]\u001b[A\n",
      " 86%|██████████████████████████████████████████████████████████████████▊           | 841/982 [1:07:12<13:37,  5.80s/it]\u001b[A\n",
      " 86%|██████████████████████████████████████████████████████████████████▉           | 842/982 [1:07:18<13:32,  5.80s/it]\u001b[A\n",
      " 86%|██████████████████████████████████████████████████████████████████▉           | 843/982 [1:07:24<13:24,  5.79s/it]\u001b[A\n",
      " 86%|███████████████████████████████████████████████████████████████████           | 844/982 [1:07:30<13:18,  5.78s/it]\u001b[A\n",
      " 86%|███████████████████████████████████████████████████████████████████           | 845/982 [1:07:35<13:14,  5.80s/it]\u001b[A\n",
      " 86%|███████████████████████████████████████████████████████████████████▏          | 846/982 [1:07:41<13:09,  5.81s/it]\u001b[A\n",
      " 86%|███████████████████████████████████████████████████████████████████▎          | 847/982 [1:07:47<13:07,  5.83s/it]\u001b[A\n",
      " 86%|███████████████████████████████████████████████████████████████████▎          | 848/982 [1:07:53<13:01,  5.83s/it]\u001b[A\n",
      " 86%|███████████████████████████████████████████████████████████████████▍          | 849/982 [1:07:59<12:49,  5.79s/it]\u001b[A\n",
      " 87%|███████████████████████████████████████████████████████████████████▌          | 850/982 [1:08:04<12:43,  5.79s/it]\u001b[A\n",
      " 87%|███████████████████████████████████████████████████████████████████▌          | 851/982 [1:08:10<12:39,  5.79s/it]\u001b[A\n",
      " 87%|███████████████████████████████████████████████████████████████████▋          | 852/982 [1:08:16<12:30,  5.78s/it]\u001b[A\n",
      " 87%|███████████████████████████████████████████████████████████████████▊          | 853/982 [1:08:22<12:27,  5.79s/it]\u001b[A\n",
      " 87%|███████████████████████████████████████████████████████████████████▊          | 854/982 [1:08:28<12:25,  5.82s/it]\u001b[A\n",
      " 87%|███████████████████████████████████████████████████████████████████▉          | 855/982 [1:08:34<12:21,  5.84s/it]\u001b[A\n",
      " 87%|███████████████████████████████████████████████████████████████████▉          | 856/982 [1:08:39<12:14,  5.83s/it]\u001b[A\n"
     ]
    },
    {
     "name": "stderr",
     "output_type": "stream",
     "text": [
      " 87%|████████████████████████████████████████████████████████████████████          | 857/982 [1:08:45<12:07,  5.82s/it]\u001b[A\n",
      " 87%|████████████████████████████████████████████████████████████████████▏         | 858/982 [1:08:51<12:01,  5.82s/it]\u001b[A\n",
      " 87%|████████████████████████████████████████████████████████████████████▏         | 859/982 [1:08:57<11:55,  5.82s/it]\u001b[A\n",
      " 88%|████████████████████████████████████████████████████████████████████▎         | 860/982 [1:09:02<11:47,  5.80s/it]\u001b[A\n",
      " 88%|████████████████████████████████████████████████████████████████████▍         | 861/982 [1:09:08<11:42,  5.81s/it]\u001b[A\n",
      " 88%|████████████████████████████████████████████████████████████████████▍         | 862/982 [1:09:14<11:36,  5.80s/it]\u001b[A\n",
      " 88%|████████████████████████████████████████████████████████████████████▌         | 863/982 [1:09:20<11:29,  5.79s/it]\u001b[A\n",
      " 88%|████████████████████████████████████████████████████████████████████▋         | 864/982 [1:09:25<11:03,  5.63s/it]\u001b[A\n",
      " 88%|████████████████████████████████████████████████████████████████████▋         | 865/982 [1:09:31<10:59,  5.63s/it]\u001b[A\n",
      " 88%|████████████████████████████████████████████████████████████████████▊         | 866/982 [1:09:37<10:58,  5.68s/it]\u001b[A\n",
      " 88%|████████████████████████████████████████████████████████████████████▊         | 867/982 [1:09:42<10:58,  5.72s/it]\u001b[A\n",
      " 88%|████████████████████████████████████████████████████████████████████▉         | 868/982 [1:09:48<10:55,  5.75s/it]\u001b[A\n",
      " 88%|█████████████████████████████████████████████████████████████████████         | 869/982 [1:09:54<10:50,  5.76s/it]\u001b[A\n",
      " 89%|█████████████████████████████████████████████████████████████████████         | 870/982 [1:10:00<10:46,  5.77s/it]\u001b[A\n",
      " 89%|█████████████████████████████████████████████████████████████████████▏        | 871/982 [1:10:06<10:42,  5.79s/it]\u001b[A\n",
      " 89%|█████████████████████████████████████████████████████████████████████▎        | 872/982 [1:10:11<10:36,  5.79s/it]\u001b[A\n",
      " 89%|█████████████████████████████████████████████████████████████████████▎        | 873/982 [1:10:17<10:32,  5.80s/it]\u001b[A\n",
      " 89%|█████████████████████████████████████████████████████████████████████▍        | 874/982 [1:10:23<10:27,  5.81s/it]\u001b[A\n",
      " 89%|█████████████████████████████████████████████████████████████████████▌        | 875/982 [1:10:29<10:24,  5.84s/it]\u001b[A\n",
      " 89%|█████████████████████████████████████████████████████████████████████▌        | 876/982 [1:10:35<10:16,  5.82s/it]\u001b[A\n",
      " 89%|█████████████████████████████████████████████████████████████████████▋        | 877/982 [1:10:41<10:09,  5.81s/it]\u001b[A\n",
      " 89%|█████████████████████████████████████████████████████████████████████▋        | 878/982 [1:10:46<10:05,  5.82s/it]\u001b[A\n",
      " 90%|█████████████████████████████████████████████████████████████████████▊        | 879/982 [1:10:52<09:59,  5.82s/it]\u001b[A\n",
      " 90%|█████████████████████████████████████████████████████████████████████▉        | 880/982 [1:10:58<09:53,  5.82s/it]\u001b[A\n",
      " 90%|█████████████████████████████████████████████████████████████████████▉        | 881/982 [1:11:04<09:48,  5.83s/it]\u001b[A\n",
      " 90%|██████████████████████████████████████████████████████████████████████        | 882/982 [1:11:10<09:42,  5.82s/it]\u001b[A\n",
      " 90%|██████████████████████████████████████████████████████████████████████▏       | 883/982 [1:11:15<09:36,  5.82s/it]\u001b[A\n",
      " 90%|██████████████████████████████████████████████████████████████████████▏       | 884/982 [1:11:21<09:30,  5.83s/it]\u001b[A\n",
      " 90%|██████████████████████████████████████████████████████████████████████▎       | 885/982 [1:11:24<08:03,  4.99s/it]\u001b[A\n",
      " 90%|██████████████████████████████████████████████████████████████████████▎       | 886/982 [1:11:30<08:23,  5.24s/it]\u001b[A\n",
      " 90%|██████████████████████████████████████████████████████████████████████▍       | 887/982 [1:11:36<08:34,  5.42s/it]\u001b[A\n",
      " 90%|██████████████████████████████████████████████████████████████████████▌       | 888/982 [1:11:42<08:40,  5.54s/it]\u001b[A\n",
      " 91%|██████████████████████████████████████████████████████████████████████▌       | 889/982 [1:11:48<08:41,  5.61s/it]\u001b[A\n",
      " 91%|██████████████████████████████████████████████████████████████████████▋       | 890/982 [1:11:53<08:41,  5.67s/it]\u001b[A\n",
      " 91%|██████████████████████████████████████████████████████████████████████▊       | 891/982 [1:11:59<08:41,  5.73s/it]\u001b[A\n",
      " 91%|██████████████████████████████████████████████████████████████████████▊       | 892/982 [1:12:05<08:37,  5.75s/it]\u001b[A\n",
      " 91%|██████████████████████████████████████████████████████████████████████▉       | 893/982 [1:12:11<08:32,  5.76s/it]\u001b[A\n",
      " 91%|███████████████████████████████████████████████████████████████████████       | 894/982 [1:12:17<08:28,  5.78s/it]\u001b[A\n",
      " 91%|███████████████████████████████████████████████████████████████████████       | 895/982 [1:12:23<08:24,  5.79s/it]\u001b[A\n",
      " 91%|███████████████████████████████████████████████████████████████████████▏      | 896/982 [1:12:28<08:19,  5.81s/it]\u001b[A\n",
      " 91%|███████████████████████████████████████████████████████████████████████▏      | 897/982 [1:12:34<08:15,  5.83s/it]\u001b[A\n",
      " 91%|███████████████████████████████████████████████████████████████████████▎      | 898/982 [1:12:40<08:10,  5.84s/it]\u001b[A\n",
      " 92%|███████████████████████████████████████████████████████████████████████▍      | 899/982 [1:12:46<08:04,  5.84s/it]\u001b[A\n",
      " 92%|███████████████████████████████████████████████████████████████████████▍      | 900/982 [1:12:52<07:59,  5.85s/it]\u001b[A\n",
      " 92%|███████████████████████████████████████████████████████████████████████▌      | 901/982 [1:12:58<07:53,  5.85s/it]\u001b[A\n",
      " 92%|███████████████████████████████████████████████████████████████████████▋      | 902/982 [1:13:03<07:47,  5.85s/it]\u001b[A\n",
      " 92%|███████████████████████████████████████████████████████████████████████▋      | 903/982 [1:13:09<07:42,  5.85s/it]\u001b[A\n",
      " 92%|███████████████████████████████████████████████████████████████████████▊      | 904/982 [1:13:15<07:35,  5.84s/it]\u001b[A\n",
      " 92%|███████████████████████████████████████████████████████████████████████▉      | 905/982 [1:13:21<07:29,  5.84s/it]\u001b[A\n",
      " 92%|███████████████████████████████████████████████████████████████████████▉      | 906/982 [1:13:27<07:22,  5.82s/it]\u001b[A\n",
      " 92%|████████████████████████████████████████████████████████████████████████      | 907/982 [1:13:33<07:15,  5.81s/it]\u001b[A\n",
      " 92%|████████████████████████████████████████████████████████████████████████      | 908/982 [1:13:38<07:08,  5.79s/it]\u001b[A\n",
      " 93%|████████████████████████████████████████████████████████████████████████▏     | 909/982 [1:13:44<07:03,  5.80s/it]\u001b[A\n",
      " 93%|████████████████████████████████████████████████████████████████████████▎     | 910/982 [1:13:50<06:58,  5.82s/it]\u001b[A\n",
      " 93%|████████████████████████████████████████████████████████████████████████▎     | 911/982 [1:13:56<06:52,  5.82s/it]\u001b[A\n",
      " 93%|████████████████████████████████████████████████████████████████████████▍     | 912/982 [1:14:02<06:45,  5.80s/it]\u001b[A\n",
      " 93%|████████████████████████████████████████████████████████████████████████▌     | 913/982 [1:14:07<06:40,  5.81s/it]\u001b[A\n",
      " 93%|████████████████████████████████████████████████████████████████████████▌     | 914/982 [1:14:13<06:32,  5.78s/it]\u001b[A\n",
      " 93%|████████████████████████████████████████████████████████████████████████▋     | 915/982 [1:14:19<06:28,  5.79s/it]\u001b[A\n",
      " 93%|████████████████████████████████████████████████████████████████████████▊     | 916/982 [1:14:25<06:21,  5.78s/it]\u001b[A\n",
      " 93%|████████████████████████████████████████████████████████████████████████▊     | 917/982 [1:14:31<06:17,  5.81s/it]\u001b[A\n",
      " 93%|████████████████████████████████████████████████████████████████████████▉     | 918/982 [1:14:36<06:12,  5.81s/it]\u001b[A\n",
      " 94%|████████████████████████████████████████████████████████████████████████▉     | 919/982 [1:14:42<06:06,  5.82s/it]\u001b[A\n",
      " 94%|█████████████████████████████████████████████████████████████████████████     | 920/982 [1:14:48<05:59,  5.80s/it]\u001b[A\n",
      " 94%|█████████████████████████████████████████████████████████████████████████▏    | 921/982 [1:14:54<05:54,  5.81s/it]\u001b[A\n",
      " 94%|█████████████████████████████████████████████████████████████████████████▏    | 922/982 [1:15:00<05:49,  5.82s/it]\u001b[A\n"
     ]
    },
    {
     "name": "stderr",
     "output_type": "stream",
     "text": [
      " 94%|█████████████████████████████████████████████████████████████████████████▎    | 923/982 [1:15:05<05:43,  5.82s/it]\u001b[A\n",
      " 94%|█████████████████████████████████████████████████████████████████████████▍    | 924/982 [1:15:11<05:37,  5.82s/it]\u001b[A\n",
      " 94%|█████████████████████████████████████████████████████████████████████████▍    | 925/982 [1:15:17<05:31,  5.81s/it]\u001b[A\n",
      " 94%|█████████████████████████████████████████████████████████████████████████▌    | 926/982 [1:15:23<05:24,  5.80s/it]\u001b[A\n",
      " 94%|█████████████████████████████████████████████████████████████████████████▋    | 927/982 [1:15:29<05:21,  5.85s/it]\u001b[A\n",
      " 95%|█████████████████████████████████████████████████████████████████████████▋    | 928/982 [1:15:35<05:14,  5.83s/it]\u001b[A\n",
      " 95%|█████████████████████████████████████████████████████████████████████████▊    | 929/982 [1:15:40<05:08,  5.83s/it]\u001b[A\n",
      " 95%|█████████████████████████████████████████████████████████████████████████▊    | 930/982 [1:15:46<05:01,  5.80s/it]\u001b[A\n",
      " 95%|█████████████████████████████████████████████████████████████████████████▉    | 931/982 [1:15:52<04:55,  5.80s/it]\u001b[A\n",
      " 95%|██████████████████████████████████████████████████████████████████████████    | 932/982 [1:15:58<04:50,  5.80s/it]\u001b[A\n",
      " 95%|██████████████████████████████████████████████████████████████████████████    | 933/982 [1:16:04<04:44,  5.81s/it]\u001b[A\n",
      " 95%|██████████████████████████████████████████████████████████████████████████▏   | 934/982 [1:16:09<04:39,  5.83s/it]\u001b[A\n",
      " 95%|██████████████████████████████████████████████████████████████████████████▎   | 935/982 [1:16:15<04:33,  5.83s/it]\u001b[A\n",
      " 95%|██████████████████████████████████████████████████████████████████████████▎   | 936/982 [1:16:21<04:27,  5.82s/it]\u001b[A\n",
      " 95%|██████████████████████████████████████████████████████████████████████████▍   | 937/982 [1:16:27<04:23,  5.85s/it]\u001b[A\n",
      " 96%|██████████████████████████████████████████████████████████████████████████▌   | 938/982 [1:16:33<04:15,  5.80s/it]\u001b[A\n",
      " 96%|██████████████████████████████████████████████████████████████████████████▌   | 939/982 [1:16:38<04:09,  5.80s/it]\u001b[A\n",
      " 96%|██████████████████████████████████████████████████████████████████████████▋   | 940/982 [1:16:44<04:03,  5.79s/it]\u001b[A\n",
      " 96%|██████████████████████████████████████████████████████████████████████████▋   | 941/982 [1:16:50<03:58,  5.81s/it]\u001b[A\n",
      " 96%|██████████████████████████████████████████████████████████████████████████▊   | 942/982 [1:16:56<03:51,  5.78s/it]\u001b[A\n",
      " 96%|██████████████████████████████████████████████████████████████████████████▉   | 943/982 [1:17:02<03:46,  5.81s/it]\u001b[A\n",
      " 96%|██████████████████████████████████████████████████████████████████████████▉   | 944/982 [1:17:08<03:41,  5.82s/it]\u001b[A\n",
      " 96%|███████████████████████████████████████████████████████████████████████████   | 945/982 [1:17:13<03:35,  5.82s/it]\u001b[A\n",
      " 96%|███████████████████████████████████████████████████████████████████████████▏  | 946/982 [1:17:19<03:28,  5.80s/it]\u001b[A\n",
      " 96%|███████████████████████████████████████████████████████████████████████████▏  | 947/982 [1:17:25<03:23,  5.81s/it]\u001b[A\n",
      " 97%|███████████████████████████████████████████████████████████████████████████▎  | 948/982 [1:17:31<03:18,  5.83s/it]\u001b[A\n",
      " 97%|███████████████████████████████████████████████████████████████████████████▍  | 949/982 [1:17:37<03:12,  5.82s/it]\u001b[A\n",
      " 97%|███████████████████████████████████████████████████████████████████████████▍  | 950/982 [1:17:42<03:06,  5.83s/it]\u001b[A\n",
      " 97%|███████████████████████████████████████████████████████████████████████████▌  | 951/982 [1:17:48<03:00,  5.84s/it]\u001b[A\n",
      " 97%|███████████████████████████████████████████████████████████████████████████▌  | 952/982 [1:17:54<02:55,  5.84s/it]\u001b[A\n",
      " 97%|███████████████████████████████████████████████████████████████████████████▋  | 953/982 [1:18:00<02:49,  5.85s/it]\u001b[A\n",
      " 97%|███████████████████████████████████████████████████████████████████████████▊  | 954/982 [1:18:06<02:43,  5.85s/it]\u001b[A\n",
      " 97%|███████████████████████████████████████████████████████████████████████████▊  | 955/982 [1:18:12<02:37,  5.85s/it]\u001b[A\n",
      " 97%|███████████████████████████████████████████████████████████████████████████▉  | 956/982 [1:18:18<02:32,  5.85s/it]\u001b[A\n",
      " 97%|████████████████████████████████████████████████████████████████████████████  | 957/982 [1:18:23<02:26,  5.84s/it]\u001b[A\n",
      " 98%|████████████████████████████████████████████████████████████████████████████  | 958/982 [1:18:29<02:19,  5.83s/it]\u001b[A\n",
      " 98%|████████████████████████████████████████████████████████████████████████████▏ | 959/982 [1:18:35<02:14,  5.84s/it]\u001b[A\n",
      " 98%|████████████████████████████████████████████████████████████████████████████▎ | 960/982 [1:18:41<02:08,  5.84s/it]\u001b[A\n",
      " 98%|████████████████████████████████████████████████████████████████████████████▎ | 961/982 [1:18:47<02:02,  5.83s/it]\u001b[A\n",
      " 98%|████████████████████████████████████████████████████████████████████████████▍ | 962/982 [1:18:53<01:56,  5.83s/it]\u001b[A\n",
      " 98%|████████████████████████████████████████████████████████████████████████████▍ | 963/982 [1:18:58<01:50,  5.83s/it]\u001b[A\n",
      " 98%|████████████████████████████████████████████████████████████████████████████▌ | 964/982 [1:19:04<01:44,  5.82s/it]\u001b[A\n",
      " 98%|████████████████████████████████████████████████████████████████████████████▋ | 965/982 [1:19:10<01:38,  5.82s/it]\u001b[A\n",
      " 98%|████████████████████████████████████████████████████████████████████████████▋ | 966/982 [1:19:16<01:32,  5.80s/it]\u001b[A\n",
      " 98%|████████████████████████████████████████████████████████████████████████████▊ | 967/982 [1:19:22<01:27,  5.80s/it]\u001b[A\n",
      " 99%|████████████████████████████████████████████████████████████████████████████▉ | 968/982 [1:19:27<01:20,  5.77s/it]\u001b[A\n",
      " 99%|████████████████████████████████████████████████████████████████████████████▉ | 969/982 [1:19:33<01:15,  5.78s/it]\u001b[A\n",
      " 99%|█████████████████████████████████████████████████████████████████████████████ | 970/982 [1:19:39<01:09,  5.81s/it]\u001b[A\n",
      " 99%|█████████████████████████████████████████████████████████████████████████████▏| 971/982 [1:19:45<01:04,  5.82s/it]\u001b[A\n",
      " 99%|█████████████████████████████████████████████████████████████████████████████▏| 972/982 [1:19:51<00:58,  5.83s/it]\u001b[A\n",
      " 99%|█████████████████████████████████████████████████████████████████████████████▎| 973/982 [1:19:56<00:52,  5.82s/it]\u001b[A\n",
      " 99%|█████████████████████████████████████████████████████████████████████████████▎| 974/982 [1:20:02<00:46,  5.82s/it]\u001b[A\n",
      " 99%|█████████████████████████████████████████████████████████████████████████████▍| 975/982 [1:20:08<00:40,  5.82s/it]\u001b[A\n",
      " 99%|█████████████████████████████████████████████████████████████████████████████▌| 976/982 [1:20:14<00:34,  5.82s/it]\u001b[A\n",
      " 99%|█████████████████████████████████████████████████████████████████████████████▌| 977/982 [1:20:20<00:28,  5.79s/it]\u001b[A\n",
      "100%|█████████████████████████████████████████████████████████████████████████████▋| 978/982 [1:20:25<00:23,  5.81s/it]\u001b[A\n",
      "100%|█████████████████████████████████████████████████████████████████████████████▊| 979/982 [1:20:31<00:17,  5.81s/it]\u001b[A\n",
      "100%|█████████████████████████████████████████████████████████████████████████████▊| 980/982 [1:20:37<00:11,  5.82s/it]\u001b[A\n",
      "100%|█████████████████████████████████████████████████████████████████████████████▉| 981/982 [1:20:43<00:05,  5.82s/it]\u001b[A\n",
      "100%|██████████████████████████████████████████████████████████████████████████████| 982/982 [1:20:49<00:00,  4.94s/it]\u001b[A\n"
     ]
    }
   ],
   "source": [
    "'''\n",
    "Train the model\n",
    "'''\n",
    "config = {\n",
    "    \"batch_size\": batch_size,\n",
    "    \"epochs\": epochs,\n",
    "    \"learning_rate\": learning_rate,\n",
    "    \"eval_freq\": eval_freq,\n",
    "    \"batch_shuffle\": batch_shuffle,\n",
    "    \"dropout\":dropout,\n",
    "    \"num_layers\": num_layers,\n",
    "    \"hidden_feature_size\": hidden_feature_size,\n",
    "    \"model_type\": model_type,\n",
    "    \"teacher_forcing_ratio\": teacher_forcing_ratio,\n",
    "    \"max_lr\": max_lr,\n",
    "    \"div_factor\": div_factor,\n",
    "    \"pct_start\": pct_start,\n",
    "    \"anneal_strategy\": anneal_strategy,\n",
    "    \"final_div_factor\": final_div_factor,\n",
    "    \"dataset\": file,\n",
    "    \"split_ratio\":split_ratio,\n",
    "    \"input_window\":input_window,\n",
    "    \"output_window\":output_window,\n",
    "    \"early_stop_thres\":thres,\n",
    "    \"early_stop_delta\":delta,\n",
    "    \"early_stop\":early_stop,\n",
    "    \"weight_decay\":weight_decay\n",
    "}\n",
    "loss, test_rmse, train_rmse = model.train_model(X_train, \n",
    "                                                Y_train,\n",
    "                                                X_test,\n",
    "                                                Y_test,\n",
    "                                                target_len = output_window,\n",
    "                                                config = config,\n",
    "                                                training_prediction = training_prediction,  \n",
    "                                                dynamic_tf = False,\n",
    "                                                project_name = wandb_project,\n",
    "                                                run_name = wandb_run,\n",
    "                                                save_code = save_code)"
   ]
  },
  {
   "cell_type": "code",
   "execution_count": null,
   "id": "30f51d08-ea31-4639-b813-660ba2520fe3",
   "metadata": {},
   "outputs": [],
   "source": [
    "plt.figure(figsize=(5,4), dpi=150)\n",
    "plt.plot(train_rmse, lw=2.0, label='train_rmse')\n",
    "plt.plot(test_rmse, lw=2.0, label='test_rmse')\n",
    "plt.yscale(\"log\")\n",
    "plt.grid(\"on\", alpha=0.2)\n",
    "plt.legend()\n",
    "plt.show()"
   ]
  },
  {
   "cell_type": "markdown",
   "id": "ad8ee90e-bc91-4d92-8909-cbd0deeab4ee",
   "metadata": {},
   "source": [
    "#### Plot the train test curves"
   ]
  },
  {
   "cell_type": "code",
   "execution_count": null,
   "id": "ca21dec7",
   "metadata": {},
   "outputs": [],
   "source": [
    "plt.figure(figsize=(5,4), dpi=150)\n",
    "plt.plot(train_rmse, lw=2.0, label='train_rmse')\n",
    "plt.plot(test_rmse, lw=2.0, label='test_rmse')\n",
    "plt.yscale(\"log\")\n",
    "plt.grid(\"on\", alpha=0.2)\n",
    "plt.legend()\n",
    "plt.show()"
   ]
  },
  {
   "cell_type": "markdown",
   "id": "f5f78016-bd9e-4a0d-8c70-65ab6417fc18",
   "metadata": {},
   "source": [
    "#### Save the model"
   ]
  },
  {
   "cell_type": "code",
   "execution_count": null,
   "id": "cc17d582-c1e2-4d44-b7bf-5d1d94f2032c",
   "metadata": {},
   "outputs": [],
   "source": [
    "load = False\n",
    "\n",
    "# If load=True, specify the model to load in the below line\n",
    "MODEL_PATH = \"./models/model_weights_test_run_2023-03-21_22:42:45.577525\""
   ]
  },
  {
   "cell_type": "code",
   "execution_count": null,
   "id": "653b5abd-40dc-4e4f-a3d2-dc799bf38faa",
   "metadata": {
    "scrolled": true,
    "tags": []
   },
   "outputs": [],
   "source": [
    "\n",
    "if load:\n",
    "    model.load_state_dict(torch.load(MODEL_PATH))\n",
    "else:\n",
    "    MODEL_PATH='./models/model_weights_{}'.format(wandb_run[:22])\n",
    "    if not os.path.exists('./models'):\n",
    "        os.mkdir('./models')\n",
    "    torch.save(model.state_dict(), MODEL_PATH)"
   ]
  },
  {
   "cell_type": "code",
   "execution_count": null,
   "id": "f8e56b5d",
   "metadata": {},
   "outputs": [],
   "source": [
    "'''\n",
    "Perform evaluation\n",
    "'''\n",
    "train_eval_dict = model.evaluate_batch(X_train.to(device), Y_train.to(device))\n",
    "test_eval_dict = model.evaluate_batch(X_test.to(device), Y_test.to(device))"
   ]
  },
  {
   "cell_type": "code",
   "execution_count": null,
   "id": "dfc849b9-cb83-400b-b425-8db149835e8c",
   "metadata": {},
   "outputs": [],
   "source": [
    "X_test.shape"
   ]
  },
  {
   "cell_type": "code",
   "execution_count": null,
   "id": "1b4c0f42-fb8c-417d-91f8-4ac5cddfb848",
   "metadata": {},
   "outputs": [],
   "source": [
    "X_train.shape"
   ]
  },
  {
   "cell_type": "code",
   "execution_count": null,
   "id": "b48092f7-9727-4dce-a4d5-7e20fefdc660",
   "metadata": {},
   "outputs": [],
   "source": [
    "Y_train.shape"
   ]
  },
  {
   "cell_type": "code",
   "execution_count": null,
   "id": "2656e966-8e81-4fcb-aefe-f92e0131f663",
   "metadata": {},
   "outputs": [],
   "source": [
    "Y_test.shape"
   ]
  },
  {
   "cell_type": "code",
   "execution_count": null,
   "id": "6beeecd5-f0b1-44df-8cc6-046068cfe923",
   "metadata": {},
   "outputs": [],
   "source": [
    "test_eval_dict['y_true'][1001][2]"
   ]
  },
  {
   "cell_type": "code",
   "execution_count": null,
   "id": "56146695-79d5-4342-94a3-47d438ba3fa1",
   "metadata": {},
   "outputs": [],
   "source": [
    "test_eval_dict['y_pred'][1001][2]"
   ]
  },
  {
   "cell_type": "markdown",
   "id": "2f823151-8ef6-44ed-bbed-bb3ac5af5ced",
   "metadata": {},
   "source": [
    "## 4. Plotting and Evaluation"
   ]
  },
  {
   "cell_type": "code",
   "execution_count": null,
   "id": "a28c6f34-f882-4309-8104-e8555091ca00",
   "metadata": {},
   "outputs": [],
   "source": [
    "'''\n",
    "Create plot tables for T+n th predictions\n",
    "'''\n",
    "train_gt = train_eval_dict['y_true']\n",
    "train_gt_df = pd.DataFrame(train_gt.cpu().numpy()[:,:,0])\n",
    "train_gt_values = np.append(train_gt_df[0].values, train_gt_df.iloc[-1,1:]) # ground-truth values for train data\n",
    "\n",
    "test_gt = test_eval_dict['y_true']\n",
    "test_gt_df = pd.DataFrame(test_gt.cpu().numpy()[:,:,0])\n",
    "test_gt_values = np.append(test_gt_df[0].values, test_gt_df.iloc[-1,1:]) # ground-truth values for test data\n",
    "\n",
    "train_pred = train_eval_dict['y_pred'] # model predicted values for train data\n",
    "test_pred = test_eval_dict['y_pred'] # model predicted values for test data\n",
    "\n",
    "df_train_comp = df_train\n",
    "#df_train_comp=df_train_comp.rename(columns = {'time':'Date'})\n",
    "#print(df_train_comp.Date)\n",
    "\n",
    "df_test_comp = df_test\n",
    "#df_test_comp=df_test_comp.rename(columns = {'time':'Date'})\n",
    "#print(df_test_comp.Date)\n",
    "\n",
    "print(df_train_comp.shape)\n",
    "print(train_pred.shape)\n",
    "print(train_gt_values.shape)\n",
    "\n",
    "train_T_pred_table, train_plot_df, plot_train_gt_values = utils.predictionTable(df_train_comp, train_pred, train_gt_values)\n",
    "\n",
    "test_T_pred_table, test_plot_df, plot_test_gt_values = utils.predictionTable(df_test_comp, test_pred, test_gt_values)"
   ]
  },
  {
   "cell_type": "code",
   "execution_count": null,
   "id": "833f0782-40ea-4029-9b68-ecbca1fbb688",
   "metadata": {},
   "outputs": [],
   "source": [
    "'''\n",
    "Generate the plots on train data\n",
    "'''\n",
    "\n",
    "# Specify the list of T+n predictions to plot\n",
    "horizon_range = [1,7, 14] # this will plot T+1 and T+n predictions w.r.t Ground truth\n",
    "\n",
    "utils.plotTable(train_plot_df, plot_train_gt_values, horizon_range)"
   ]
  },
  {
   "cell_type": "code",
   "execution_count": null,
   "id": "d5be123d-baca-4003-b81e-3aa06df6d529",
   "metadata": {},
   "outputs": [],
   "source": [
    "'''\n",
    "Generate the plots on test data\n",
    "'''\n",
    "\n",
    "# Specify the list of T+n predictions to plot\n",
    "horizon_range = [1,7,14] # this will plot T+1 and T+n predictions w.r.t Ground truth\n",
    "\n",
    "utils.plotTable(test_plot_df, plot_test_gt_values, horizon_range)"
   ]
  },
  {
   "cell_type": "markdown",
   "id": "b5bc7047-5538-4432-acd2-96e33c88999b",
   "metadata": {},
   "source": [
    "#### Compute the RMSE values"
   ]
  },
  {
   "cell_type": "code",
   "execution_count": null,
   "id": "2b734924-9dcf-42e8-b912-c603df473767",
   "metadata": {},
   "outputs": [],
   "source": [
    "'''\n",
    "Compute train rmse\n",
    "\n",
    "- Train RMSE values for all T+n th predictions. The index represents the T+n\n",
    "\n",
    "'''\n",
    "rmse_values = []\n",
    "for i in range(output_window):\n",
    "    rmse_values.append(utils.compute_rmse(i, train_T_pred_table, train_gt_values))\n",
    "rmse_values = pd.DataFrame(rmse_values, columns=['RMSE'], index=range(1,output_window+1))\n",
    "rmse_values"
   ]
  },
  {
   "cell_type": "code",
   "execution_count": null,
   "id": "6615cc16-3e4a-45c5-a05b-3660d8ccd359",
   "metadata": {},
   "outputs": [],
   "source": [
    "'''\n",
    "Compute test rmse\n",
    "\n",
    "- Test RMSE values for all T+n th predictions. The index represents the T+n\n",
    "\n",
    "'''\n",
    "test_rmse_values = []\n",
    "for i in range(output_window):\n",
    "    test_rmse_values.append(utils.compute_rmse(i, test_T_pred_table, test_gt_values))\n",
    "test_rmse_values = pd.DataFrame(test_rmse_values, columns=['RMSE'], index=range(1,output_window+1))\n",
    "test_rmse_values"
   ]
  },
  {
   "cell_type": "code",
   "execution_count": null,
   "id": "02af4f5d-9eb0-4349-ad08-830eba4503de",
   "metadata": {},
   "outputs": [],
   "source": []
  },
  {
   "cell_type": "code",
   "execution_count": null,
   "id": "0934e75f-34ee-4c6e-ab44-f48a9df0ce52",
   "metadata": {},
   "outputs": [],
   "source": []
  }
 ],
 "metadata": {
  "kernelspec": {
   "display_name": "Python 3 (ipykernel)",
   "language": "python",
   "name": "python3"
  },
  "language_info": {
   "codemirror_mode": {
    "name": "ipython",
    "version": 3
   },
   "file_extension": ".py",
   "mimetype": "text/x-python",
   "name": "python",
   "nbconvert_exporter": "python",
   "pygments_lexer": "ipython3",
   "version": "3.11.5"
  }
 },
 "nbformat": 4,
 "nbformat_minor": 5
}
