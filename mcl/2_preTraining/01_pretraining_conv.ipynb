{
 "cells": [
  {
   "cell_type": "markdown",
   "id": "21298510-143b-4486-826e-76daea4b5178",
   "metadata": {},
   "source": [
    "## Chlorophyll-a forecasting using LSTM Model\n",
    "\n"
   ]
  },
  {
   "cell_type": "markdown",
   "id": "149c97d2-6b77-4cb6-8da4-b235cf32f355",
   "metadata": {},
   "source": [
    "#### Getting Started:\n",
    "1. Before running the notebook, please make sure to have the following python version and libraries are installed <br>\n",
    "- python 3.9.12\n",
    "- pytorch (https://pytorch.org/get-started/locally/)\n",
    "\n",
    "2. Create an account in Weights and Biases (WANDB) (https://wandb.ai/home). While running the notebook, you maybe prompted to enter the WANDB username\n",
    "\n",
    "<br>\n",
    "The requirements.txt file lists the basic libraries require. Running the following cell should install all of them (in case they are not already installed). \n",
    "\n",
    "In case, any library is missed here, you would be prompted with an ImportError. In such case, just install it with pip (google -> pip install library_name)"
   ]
  },
  {
   "cell_type": "code",
   "execution_count": 1,
   "id": "9647d322-fa23-46b0-a057-2b5b5b8e9b91",
   "metadata": {
    "scrolled": true,
    "tags": []
   },
   "outputs": [
    {
     "name": "stdout",
     "output_type": "stream",
     "text": [
      "Requirement already satisfied: numpy in c:\\users\\au740615\\appdata\\local\\anaconda3\\lib\\site-packages (from -r requirements.txt (line 1)) (1.24.3)\n",
      "Requirement already satisfied: pandas in c:\\users\\au740615\\appdata\\local\\anaconda3\\lib\\site-packages (from -r requirements.txt (line 2)) (2.0.3)\n",
      "Requirement already satisfied: wandb in c:\\users\\au740615\\appdata\\local\\anaconda3\\lib\\site-packages (from -r requirements.txt (line 3)) (0.16.3)\n",
      "Requirement already satisfied: matplotlib in c:\\users\\au740615\\appdata\\local\\anaconda3\\lib\\site-packages (from -r requirements.txt (line 4)) (3.7.2)\n",
      "Requirement already satisfied: python-dateutil>=2.8.2 in c:\\users\\au740615\\appdata\\local\\anaconda3\\lib\\site-packages (from pandas->-r requirements.txt (line 2)) (2.8.2)\n",
      "Requirement already satisfied: pytz>=2020.1 in c:\\users\\au740615\\appdata\\local\\anaconda3\\lib\\site-packages (from pandas->-r requirements.txt (line 2)) (2023.3.post1)\n",
      "Requirement already satisfied: tzdata>=2022.1 in c:\\users\\au740615\\appdata\\local\\anaconda3\\lib\\site-packages (from pandas->-r requirements.txt (line 2)) (2023.3)\n",
      "Requirement already satisfied: Click!=8.0.0,>=7.1 in c:\\users\\au740615\\appdata\\local\\anaconda3\\lib\\site-packages (from wandb->-r requirements.txt (line 3)) (8.0.4)\n",
      "Requirement already satisfied: GitPython!=3.1.29,>=1.0.0 in c:\\users\\au740615\\appdata\\local\\anaconda3\\lib\\site-packages (from wandb->-r requirements.txt (line 3)) (3.1.42)\n",
      "Requirement already satisfied: requests<3,>=2.0.0 in c:\\users\\au740615\\appdata\\local\\anaconda3\\lib\\site-packages (from wandb->-r requirements.txt (line 3)) (2.31.0)\n",
      "Requirement already satisfied: psutil>=5.0.0 in c:\\users\\au740615\\appdata\\local\\anaconda3\\lib\\site-packages (from wandb->-r requirements.txt (line 3)) (5.9.0)\n",
      "Requirement already satisfied: sentry-sdk>=1.0.0 in c:\\users\\au740615\\appdata\\local\\anaconda3\\lib\\site-packages (from wandb->-r requirements.txt (line 3)) (1.40.5)\n",
      "Requirement already satisfied: docker-pycreds>=0.4.0 in c:\\users\\au740615\\appdata\\local\\anaconda3\\lib\\site-packages (from wandb->-r requirements.txt (line 3)) (0.4.0)\n",
      "Requirement already satisfied: PyYAML in c:\\users\\au740615\\appdata\\local\\anaconda3\\lib\\site-packages (from wandb->-r requirements.txt (line 3)) (6.0)\n",
      "Requirement already satisfied: setproctitle in c:\\users\\au740615\\appdata\\local\\anaconda3\\lib\\site-packages (from wandb->-r requirements.txt (line 3)) (1.3.3)\n",
      "Requirement already satisfied: setuptools in c:\\users\\au740615\\appdata\\local\\anaconda3\\lib\\site-packages (from wandb->-r requirements.txt (line 3)) (68.0.0)\n",
      "Requirement already satisfied: appdirs>=1.4.3 in c:\\users\\au740615\\appdata\\local\\anaconda3\\lib\\site-packages (from wandb->-r requirements.txt (line 3)) (1.4.4)\n",
      "Requirement already satisfied: protobuf!=4.21.0,<5,>=3.19.0 in c:\\users\\au740615\\appdata\\local\\anaconda3\\lib\\site-packages (from wandb->-r requirements.txt (line 3)) (4.25.3)\n",
      "Requirement already satisfied: contourpy>=1.0.1 in c:\\users\\au740615\\appdata\\local\\anaconda3\\lib\\site-packages (from matplotlib->-r requirements.txt (line 4)) (1.0.5)\n",
      "Requirement already satisfied: cycler>=0.10 in c:\\users\\au740615\\appdata\\local\\anaconda3\\lib\\site-packages (from matplotlib->-r requirements.txt (line 4)) (0.11.0)\n",
      "Requirement already satisfied: fonttools>=4.22.0 in c:\\users\\au740615\\appdata\\local\\anaconda3\\lib\\site-packages (from matplotlib->-r requirements.txt (line 4)) (4.25.0)\n",
      "Requirement already satisfied: kiwisolver>=1.0.1 in c:\\users\\au740615\\appdata\\local\\anaconda3\\lib\\site-packages (from matplotlib->-r requirements.txt (line 4)) (1.4.4)\n",
      "Requirement already satisfied: packaging>=20.0 in c:\\users\\au740615\\appdata\\local\\anaconda3\\lib\\site-packages (from matplotlib->-r requirements.txt (line 4)) (23.1)\n",
      "Requirement already satisfied: pillow>=6.2.0 in c:\\users\\au740615\\appdata\\local\\anaconda3\\lib\\site-packages (from matplotlib->-r requirements.txt (line 4)) (10.0.1)\n",
      "Requirement already satisfied: pyparsing<3.1,>=2.3.1 in c:\\users\\au740615\\appdata\\local\\anaconda3\\lib\\site-packages (from matplotlib->-r requirements.txt (line 4)) (3.0.9)\n",
      "Requirement already satisfied: colorama in c:\\users\\au740615\\appdata\\local\\anaconda3\\lib\\site-packages (from Click!=8.0.0,>=7.1->wandb->-r requirements.txt (line 3)) (0.4.6)\n",
      "Requirement already satisfied: six>=1.4.0 in c:\\users\\au740615\\appdata\\local\\anaconda3\\lib\\site-packages (from docker-pycreds>=0.4.0->wandb->-r requirements.txt (line 3)) (1.16.0)\n",
      "Requirement already satisfied: gitdb<5,>=4.0.1 in c:\\users\\au740615\\appdata\\local\\anaconda3\\lib\\site-packages (from GitPython!=3.1.29,>=1.0.0->wandb->-r requirements.txt (line 3)) (4.0.11)\n",
      "Requirement already satisfied: charset-normalizer<4,>=2 in c:\\users\\au740615\\appdata\\local\\anaconda3\\lib\\site-packages (from requests<3,>=2.0.0->wandb->-r requirements.txt (line 3)) (2.0.4)\n",
      "Requirement already satisfied: idna<4,>=2.5 in c:\\users\\au740615\\appdata\\local\\anaconda3\\lib\\site-packages (from requests<3,>=2.0.0->wandb->-r requirements.txt (line 3)) (3.4)\n",
      "Requirement already satisfied: urllib3<3,>=1.21.1 in c:\\users\\au740615\\appdata\\local\\anaconda3\\lib\\site-packages (from requests<3,>=2.0.0->wandb->-r requirements.txt (line 3)) (1.26.16)\n",
      "Requirement already satisfied: certifi>=2017.4.17 in c:\\users\\au740615\\appdata\\local\\anaconda3\\lib\\site-packages (from requests<3,>=2.0.0->wandb->-r requirements.txt (line 3)) (2024.2.2)\n",
      "Requirement already satisfied: smmap<6,>=3.0.1 in c:\\users\\au740615\\appdata\\local\\anaconda3\\lib\\site-packages (from gitdb<5,>=4.0.1->GitPython!=3.1.29,>=1.0.0->wandb->-r requirements.txt (line 3)) (5.0.1)\n"
     ]
    }
   ],
   "source": [
    "!pip install -r requirements.txt"
   ]
  },
  {
   "cell_type": "code",
   "execution_count": 2,
   "id": "1fc72a57",
   "metadata": {},
   "outputs": [
    {
     "name": "stderr",
     "output_type": "stream",
     "text": [
      "\u001b[34m\u001b[1mwandb\u001b[0m: Currently logged in as: \u001b[33mrladwig\u001b[0m (\u001b[33mcomputational-limnology\u001b[0m). Use \u001b[1m`wandb login --relogin`\u001b[0m to force relogin\n"
     ]
    }
   ],
   "source": [
    "import random\n",
    "import pandas as pd\n",
    "import numpy as np\n",
    "from tqdm import trange\n",
    "import os\n",
    "import datetime\n",
    "import matplotlib.pyplot as plt\n",
    "import math\n",
    "\n",
    "import torch\n",
    "import torch.nn as nn\n",
    "from torch import optim\n",
    "\n",
    "from utils import Utils\n",
    "from encoder_decoder import seq2seq\n",
    "\n",
    "import warnings\n",
    "warnings.filterwarnings('ignore')"
   ]
  },
  {
   "cell_type": "markdown",
   "id": "04422e54-1a3e-484d-8073-6f8ab1157654",
   "metadata": {},
   "source": [
    "## 0. GPU Selection\n",
    "Check if GPU is available on the machine the notebook is running. If yes, then assign a GPU, else run it on CPU"
   ]
  },
  {
   "cell_type": "code",
   "execution_count": 3,
   "id": "37545ef0-b10e-4533-8709-65455aeb879c",
   "metadata": {},
   "outputs": [
    {
     "name": "stdout",
     "output_type": "stream",
     "text": [
      "cuda\n"
     ]
    }
   ],
   "source": [
    "if torch.cuda.is_available():\n",
    "    device = torch.device('cuda')\n",
    "else:\n",
    "    device = torch.device('cpu')\n",
    "\n",
    "print(device)"
   ]
  },
  {
   "cell_type": "markdown",
   "id": "98d19519-ab89-45d4-a445-cace50675429",
   "metadata": {},
   "source": [
    "## 1. Parameter setting"
   ]
  },
  {
   "cell_type": "markdown",
   "id": "4fe55ca3-ae44-4e45-a80b-76bebb2719c7",
   "metadata": {},
   "source": [
    "#### Specify the wandb project and wandb run\n",
    "wandb refers to Weights and Biases. Integrating this tool into the notebook will allow it to access the run details and generate train and test curves, among many other information"
   ]
  },
  {
   "cell_type": "code",
   "execution_count": 4,
   "id": "87960245-ad8f-458f-8cf9-48a8302075e2",
   "metadata": {},
   "outputs": [],
   "source": [
    "# wandb project name\n",
    "wandb_project = \"mcl_lstm\"\n",
    "\n",
    "# wandb run name\n",
    "wandb_run = \"conv_run_{}_{}\".format(str(datetime.datetime.now().date()), str(datetime.datetime.now().time()))\n",
    "\n",
    "# Yes if we want wandb to save our python code, else no\n",
    "save_code = True"
   ]
  },
  {
   "cell_type": "markdown",
   "id": "1ffb0fdc-998e-4fe8-bb68-4833174db28b",
   "metadata": {},
   "source": [
    "#### Specify the input path (where the dataset is stored) and dataset name\n",
    "Note: For different dataset, the processing/handling can/will be different. In this notebook, FCR (observational) data has been considered. It also has a metadata file that stores the column names and types. \n",
    "<br>\n",
    "For the purpose of the tutorial, the notebook is kept simple, hence, going with FCR data for now"
   ]
  },
  {
   "cell_type": "code",
   "execution_count": 5,
   "id": "c9452b15",
   "metadata": {},
   "outputs": [],
   "source": [
    "# Input path\n",
    "path = './'\n",
    "\n",
    "# Name of the file\n",
    "file = '../1_trainingData/all_data_lake_modeling_in_time_perRow.csv'\n",
    "\n",
    "# Name of the metadata file\n",
    "#../metadata = 'LSTM_dataset_column_key_07OCT22.csv'"
   ]
  },
  {
   "cell_type": "markdown",
   "id": "a7d6647e-bf85-450a-bdba-11b65cf7a19f",
   "metadata": {},
   "source": [
    "#### Specify the Time-series specific parameters"
   ]
  },
  {
   "cell_type": "code",
   "execution_count": 6,
   "id": "e7676d8b",
   "metadata": {},
   "outputs": [],
   "source": [
    "# Lookback window\n",
    "input_window = 24*3\n",
    "\n",
    "# horizon window\n",
    "output_window = 24*3\n",
    "\n",
    "# stride - While creating samples (lookback window + horizon window = 1 sample) define the amount of stride the sliding window needs to take\n",
    "stride = 1\n",
    "\n",
    "# The ratio in which train and test data is split. If it is 0.8, then first 80% of data goes into train and remaining 20% into test\n",
    "split_ratio = 0.6"
   ]
  },
  {
   "cell_type": "markdown",
   "id": "c022d5d9-93ad-4ad9-9f13-dee45af13236",
   "metadata": {},
   "source": [
    "#### Specify the model specific parameters"
   ]
  },
  {
   "cell_type": "code",
   "execution_count": 7,
   "id": "f667a463",
   "metadata": {},
   "outputs": [],
   "source": [
    "# Types of Model include: LSTM, GRU, RNN\n",
    "model_type = \"LSTM\"\n",
    "\n",
    "# Number of layers in our deep learning model\n",
    "num_layers = 2\n",
    "\n",
    "# Hidden cell (RNN/LSTM/GRU) size\n",
    "hidden_feature_size = 32\n",
    "\n",
    "# Output size of our encoder_decoder model, i.e. number of target variables\n",
    "output_size = 50\n",
    "\n",
    "'''\n",
    "Model Training parameters\n",
    "'''\n",
    "# batch_size during training\n",
    "batch_size = 32\n",
    "\n",
    "# Number of epochs we want to train the model for (1 epoch = 1 pass of the complete training data through the model)\n",
    "epochs = 100\n",
    "\n",
    "# Learning rate specifies the rate at which we want to update the model parameters after every training pass\n",
    "learning_rate = 0.001\n",
    "\n",
    "# Eval freq says how frequently during training do you want to evaluate your model on the validation data (to see its performance on non-training data)\n",
    "eval_freq = 1 # logic is -> if iteration_num % eval_freq == 0 -> then perform evaluation\n",
    "\n",
    "# While generating the training batches do we want the generator to shuffle the batches?\n",
    "batch_shuffle = True\n",
    "\n",
    "# Dropout is a form of regularization\n",
    "dropout = 0.0\n",
    "\n",
    "'''\n",
    "Learning rate scheduler parameters\n",
    "'''\n",
    "max_lr=5e-3\n",
    "div_factor=100\n",
    "pct_start=0.05 \n",
    "anneal_strategy='cos'\n",
    "final_div_factor=10000.0\n",
    "\n",
    "'''\n",
    "Parameters for early stopping\n",
    "'''\n",
    "# Set to True if we want Early stopping\n",
    "early_stop = False\n",
    "\n",
    "# If there is no improvement for a 'thres' number of epocs stop the training process\n",
    "thres=5\n",
    "\n",
    "# Quantifying the improvement. If the validation loss is greater than min_val_loss_so_far + delta for thres number of iterations stop the training\n",
    "delta=0.5\n",
    "\n",
    "'''\n",
    "Other parameters\n",
    "'''\n",
    "# Specify the amount of L2 regularization to be applied.\n",
    "weight_decay=0.0\n",
    "\n",
    "# Specify the percentage of times we want to enforce teacher forcing\n",
    "teacher_forcing_ratio = 0.0\n",
    "training_prediction = 'recursive'"
   ]
  },
  {
   "cell_type": "markdown",
   "id": "7baed735-58cd-4ebe-9687-8fe7d5c256b3",
   "metadata": {},
   "source": [
    "## 2. Data Processing"
   ]
  },
  {
   "cell_type": "markdown",
   "id": "c1a8f79d-c2da-4869-b5a8-357d12527987",
   "metadata": {},
   "source": [
    "#### Read the metadata file"
   ]
  },
  {
   "cell_type": "code",
   "execution_count": 8,
   "id": "912e2327",
   "metadata": {},
   "outputs": [],
   "source": [
    "depth_steps = 25 * 2 \n",
    "\n",
    "depth_list = np.array(list(range(1, depth_steps+1))   )*0.5\n",
    "\n"
   ]
  },
  {
   "cell_type": "code",
   "execution_count": 9,
   "id": "9eeb8e8f",
   "metadata": {},
   "outputs": [],
   "source": [
    "incoming_temp = ['temp_diff03_{}'.format(x) for x in depth_list]\n",
    "outgoing_temp = ['temp_conv04_{}'.format(x) for x in depth_list]\n",
    "\n",
    "dx = pd.read_csv(os.path.join(path,file))\n",
    "\n",
    "#feature_cols = ['AirTemp_degC', 'Longwave_Wm-2', 'Latent_Wm-2', 'Sensible_Wm-2', 'Shortwave_Wm-2',\n",
    "#                'lightExtinct_m-1', 'ShearStress_Nm-2',\n",
    "#                 'day_of_year', 'time_of_day', 'ice', 'snow', 'snowice','Volume_m2','Osgood','MaxDepth_m',\n",
    "#                'MeanDepth_m','Area_m2'] + incoming_temp\n",
    "\n",
    "feature_cols = ['AirTemp_degC', 'Longwave_Wm-2', 'Latent_Wm-2', 'Sensible_Wm-2', 'Shortwave_Wm-2',\n",
    "                'lightExtinct_m-1', 'ShearStress_Nm-2',\n",
    "                 'day_of_year', 'time_of_day', 'ice', 'snow', 'snowice'] + incoming_temp\n",
    "\n",
    "date_col = ['time']\n",
    "\n",
    "target_cols = outgoing_temp"
   ]
  },
  {
   "cell_type": "code",
   "execution_count": 10,
   "id": "cd4317c1",
   "metadata": {},
   "outputs": [],
   "source": [
    "#dx = pd.read_csv(os.path.join(path, metadata))\n",
    "\n",
    "# Extract all col names from Metadata\n",
    "#feature_cols = dx[dx['column_type']=='feature']['column_names'].tolist()  # feature colums represent the input drivers\n",
    "#target_cols = dx[dx['column_type']=='target']['column_names'].tolist()   # target column represent the chlorophyll values\n",
    "#date_col = dx[dx['column_type']=='date']['column_names'].tolist()[0]    # date column stores the date timeline"
   ]
  },
  {
   "cell_type": "code",
   "execution_count": 11,
   "id": "5e6e4a1d-d8d6-4133-968b-1d26b6242610",
   "metadata": {},
   "outputs": [
    {
     "data": {
      "text/plain": [
       "['AirTemp_degC',\n",
       " 'Longwave_Wm-2',\n",
       " 'Latent_Wm-2',\n",
       " 'Sensible_Wm-2',\n",
       " 'Shortwave_Wm-2',\n",
       " 'lightExtinct_m-1',\n",
       " 'ShearStress_Nm-2',\n",
       " 'day_of_year',\n",
       " 'time_of_day',\n",
       " 'ice',\n",
       " 'snow',\n",
       " 'snowice',\n",
       " 'temp_diff03_0.5',\n",
       " 'temp_diff03_1.0',\n",
       " 'temp_diff03_1.5',\n",
       " 'temp_diff03_2.0',\n",
       " 'temp_diff03_2.5',\n",
       " 'temp_diff03_3.0',\n",
       " 'temp_diff03_3.5',\n",
       " 'temp_diff03_4.0',\n",
       " 'temp_diff03_4.5',\n",
       " 'temp_diff03_5.0',\n",
       " 'temp_diff03_5.5',\n",
       " 'temp_diff03_6.0',\n",
       " 'temp_diff03_6.5',\n",
       " 'temp_diff03_7.0',\n",
       " 'temp_diff03_7.5',\n",
       " 'temp_diff03_8.0',\n",
       " 'temp_diff03_8.5',\n",
       " 'temp_diff03_9.0',\n",
       " 'temp_diff03_9.5',\n",
       " 'temp_diff03_10.0',\n",
       " 'temp_diff03_10.5',\n",
       " 'temp_diff03_11.0',\n",
       " 'temp_diff03_11.5',\n",
       " 'temp_diff03_12.0',\n",
       " 'temp_diff03_12.5',\n",
       " 'temp_diff03_13.0',\n",
       " 'temp_diff03_13.5',\n",
       " 'temp_diff03_14.0',\n",
       " 'temp_diff03_14.5',\n",
       " 'temp_diff03_15.0',\n",
       " 'temp_diff03_15.5',\n",
       " 'temp_diff03_16.0',\n",
       " 'temp_diff03_16.5',\n",
       " 'temp_diff03_17.0',\n",
       " 'temp_diff03_17.5',\n",
       " 'temp_diff03_18.0',\n",
       " 'temp_diff03_18.5',\n",
       " 'temp_diff03_19.0',\n",
       " 'temp_diff03_19.5',\n",
       " 'temp_diff03_20.0',\n",
       " 'temp_diff03_20.5',\n",
       " 'temp_diff03_21.0',\n",
       " 'temp_diff03_21.5',\n",
       " 'temp_diff03_22.0',\n",
       " 'temp_diff03_22.5',\n",
       " 'temp_diff03_23.0',\n",
       " 'temp_diff03_23.5',\n",
       " 'temp_diff03_24.0',\n",
       " 'temp_diff03_24.5',\n",
       " 'temp_diff03_25.0']"
      ]
     },
     "execution_count": 11,
     "metadata": {},
     "output_type": "execute_result"
    }
   ],
   "source": [
    "# Specify whether we want to add chlorophyll to the input feature set\n",
    "#feature_cols += target_cols\n",
    "feature_cols"
   ]
  },
  {
   "cell_type": "code",
   "execution_count": 12,
   "id": "4514aca0",
   "metadata": {},
   "outputs": [
    {
     "data": {
      "text/plain": [
       "['temp_conv04_0.5',\n",
       " 'temp_conv04_1.0',\n",
       " 'temp_conv04_1.5',\n",
       " 'temp_conv04_2.0',\n",
       " 'temp_conv04_2.5',\n",
       " 'temp_conv04_3.0',\n",
       " 'temp_conv04_3.5',\n",
       " 'temp_conv04_4.0',\n",
       " 'temp_conv04_4.5',\n",
       " 'temp_conv04_5.0',\n",
       " 'temp_conv04_5.5',\n",
       " 'temp_conv04_6.0',\n",
       " 'temp_conv04_6.5',\n",
       " 'temp_conv04_7.0',\n",
       " 'temp_conv04_7.5',\n",
       " 'temp_conv04_8.0',\n",
       " 'temp_conv04_8.5',\n",
       " 'temp_conv04_9.0',\n",
       " 'temp_conv04_9.5',\n",
       " 'temp_conv04_10.0',\n",
       " 'temp_conv04_10.5',\n",
       " 'temp_conv04_11.0',\n",
       " 'temp_conv04_11.5',\n",
       " 'temp_conv04_12.0',\n",
       " 'temp_conv04_12.5',\n",
       " 'temp_conv04_13.0',\n",
       " 'temp_conv04_13.5',\n",
       " 'temp_conv04_14.0',\n",
       " 'temp_conv04_14.5',\n",
       " 'temp_conv04_15.0',\n",
       " 'temp_conv04_15.5',\n",
       " 'temp_conv04_16.0',\n",
       " 'temp_conv04_16.5',\n",
       " 'temp_conv04_17.0',\n",
       " 'temp_conv04_17.5',\n",
       " 'temp_conv04_18.0',\n",
       " 'temp_conv04_18.5',\n",
       " 'temp_conv04_19.0',\n",
       " 'temp_conv04_19.5',\n",
       " 'temp_conv04_20.0',\n",
       " 'temp_conv04_20.5',\n",
       " 'temp_conv04_21.0',\n",
       " 'temp_conv04_21.5',\n",
       " 'temp_conv04_22.0',\n",
       " 'temp_conv04_22.5',\n",
       " 'temp_conv04_23.0',\n",
       " 'temp_conv04_23.5',\n",
       " 'temp_conv04_24.0',\n",
       " 'temp_conv04_24.5',\n",
       " 'temp_conv04_25.0']"
      ]
     },
     "execution_count": 12,
     "metadata": {},
     "output_type": "execute_result"
    }
   ],
   "source": [
    "target_cols"
   ]
  },
  {
   "cell_type": "markdown",
   "id": "b2858317-ff60-4a47-b03b-8120eff51a9a",
   "metadata": {},
   "source": [
    "#### Create an utility object\n",
    "An object of the Utils class, it contains all the utility functions like splitting train and test data, normalizing the data, etc."
   ]
  },
  {
   "cell_type": "code",
   "execution_count": 13,
   "id": "d0fbd75f-862d-49f7-a4b8-a889da5ccb49",
   "metadata": {},
   "outputs": [],
   "source": [
    "'''\n",
    "Utility instance - to perform data processing, train test split\n",
    "'''\n",
    "utils = Utils(num_features=len(feature_cols), inp_cols=feature_cols, target_cols=target_cols, date_col=date_col,\n",
    "              input_window=input_window, output_window=output_window, num_out_features=output_size, stride=stride)"
   ]
  },
  {
   "cell_type": "markdown",
   "id": "2507a029-f831-493e-984d-bfda26b4cbc9",
   "metadata": {},
   "source": [
    "#### Read the dataset"
   ]
  },
  {
   "cell_type": "code",
   "execution_count": 14,
   "id": "71325c81",
   "metadata": {},
   "outputs": [],
   "source": [
    "'''\n",
    "Read data\n",
    "'''\n",
    "df = pd.read_csv(path+file)"
   ]
  },
  {
   "cell_type": "markdown",
   "id": "68cfdb65-0daa-48ca-866d-cf673335259b",
   "metadata": {},
   "source": [
    "#### Train Test split\n",
    "Ideally, a 3-way split is done - train, val and test. The validation split is generally used to tune the hyper-parameters during training. Once the hyper-parameters are tuned, the model\n",
    "is re-trained on the train+val data. To keep the notebook short and simple, hyper-parameter tuning is not included"
   ]
  },
  {
   "cell_type": "code",
   "execution_count": 15,
   "id": "6cad6087-a46a-469f-b221-2de1bc04e0ba",
   "metadata": {
    "tags": []
   },
   "outputs": [],
   "source": [
    "'''\n",
    "Split data into train and test\n",
    "'''\n",
    "df_train, df_test = utils.train_test_split(df, split_ratio=split_ratio)"
   ]
  },
  {
   "cell_type": "code",
   "execution_count": 16,
   "id": "0dab391e-aa6b-4f48-a3e8-627a486e4a94",
   "metadata": {},
   "outputs": [],
   "source": [
    "def cycle_encode(x, period):\n",
    "    sin = np.sin(2*math.pi*x/period)\n",
    "    cos = np.cos(2*math.pi*x/period)\n",
    "    \n",
    "    return sin, cos"
   ]
  },
  {
   "cell_type": "code",
   "execution_count": 17,
   "id": "753cc37a-7684-44ed-8c4a-a8c481b1c923",
   "metadata": {},
   "outputs": [],
   "source": [
    "train_doy_sin, train_doy_cos = cycle_encode(df_train.day_of_year.values, 365)"
   ]
  },
  {
   "cell_type": "code",
   "execution_count": 18,
   "id": "976830a2-e789-43b0-a0f7-cf6e0315bd62",
   "metadata": {},
   "outputs": [],
   "source": [
    "train_tod_sin, train_tod_cos = cycle_encode(df_train.time_of_day.values, 24)"
   ]
  },
  {
   "cell_type": "code",
   "execution_count": 19,
   "id": "06e440bc-9fb7-4fa8-8868-f42fb6aa3aad",
   "metadata": {},
   "outputs": [],
   "source": [
    "test_doy_sin, test_doy_cos = cycle_encode(df_test.day_of_year.values, 365)"
   ]
  },
  {
   "cell_type": "code",
   "execution_count": 20,
   "id": "03c1de24-ca08-46f7-9a88-cc44ad0a562c",
   "metadata": {},
   "outputs": [],
   "source": [
    "test_tod_sin, test_tod_cos = cycle_encode(df_test.time_of_day.values, 24)"
   ]
  },
  {
   "cell_type": "code",
   "execution_count": 21,
   "id": "a49deda0-e8dc-4274-b402-a393d3dab368",
   "metadata": {},
   "outputs": [
    {
     "data": {
      "text/plain": [
       "['AirTemp_degC',\n",
       " 'Longwave_Wm-2',\n",
       " 'Latent_Wm-2',\n",
       " 'Sensible_Wm-2',\n",
       " 'Shortwave_Wm-2',\n",
       " 'lightExtinct_m-1',\n",
       " 'ShearStress_Nm-2',\n",
       " 'ice',\n",
       " 'snow',\n",
       " 'snowice',\n",
       " 'temp_diff03_0.5',\n",
       " 'temp_diff03_1.0',\n",
       " 'temp_diff03_1.5',\n",
       " 'temp_diff03_2.0',\n",
       " 'temp_diff03_2.5',\n",
       " 'temp_diff03_3.0',\n",
       " 'temp_diff03_3.5',\n",
       " 'temp_diff03_4.0',\n",
       " 'temp_diff03_4.5',\n",
       " 'temp_diff03_5.0',\n",
       " 'temp_diff03_5.5',\n",
       " 'temp_diff03_6.0',\n",
       " 'temp_diff03_6.5',\n",
       " 'temp_diff03_7.0',\n",
       " 'temp_diff03_7.5',\n",
       " 'temp_diff03_8.0',\n",
       " 'temp_diff03_8.5',\n",
       " 'temp_diff03_9.0',\n",
       " 'temp_diff03_9.5',\n",
       " 'temp_diff03_10.0',\n",
       " 'temp_diff03_10.5',\n",
       " 'temp_diff03_11.0',\n",
       " 'temp_diff03_11.5',\n",
       " 'temp_diff03_12.0',\n",
       " 'temp_diff03_12.5',\n",
       " 'temp_diff03_13.0',\n",
       " 'temp_diff03_13.5',\n",
       " 'temp_diff03_14.0',\n",
       " 'temp_diff03_14.5',\n",
       " 'temp_diff03_15.0',\n",
       " 'temp_diff03_15.5',\n",
       " 'temp_diff03_16.0',\n",
       " 'temp_diff03_16.5',\n",
       " 'temp_diff03_17.0',\n",
       " 'temp_diff03_17.5',\n",
       " 'temp_diff03_18.0',\n",
       " 'temp_diff03_18.5',\n",
       " 'temp_diff03_19.0',\n",
       " 'temp_diff03_19.5',\n",
       " 'temp_diff03_20.0',\n",
       " 'temp_diff03_20.5',\n",
       " 'temp_diff03_21.0',\n",
       " 'temp_diff03_21.5',\n",
       " 'temp_diff03_22.0',\n",
       " 'temp_diff03_22.5',\n",
       " 'temp_diff03_23.0',\n",
       " 'temp_diff03_23.5',\n",
       " 'temp_diff03_24.0',\n",
       " 'temp_diff03_24.5',\n",
       " 'temp_diff03_25.0']"
      ]
     },
     "execution_count": 21,
     "metadata": {},
     "output_type": "execute_result"
    }
   ],
   "source": [
    "feature_cols.remove('day_of_year')\n",
    "feature_cols.remove('time_of_day')\n",
    "feature_cols"
   ]
  },
  {
   "cell_type": "markdown",
   "id": "102b30a0-2955-4ebb-b97b-7b2157df0713",
   "metadata": {},
   "source": [
    "#### Normalize the data\n",
    "Standard normalization - 0 mean and 1 standard deviation"
   ]
  },
  {
   "cell_type": "code",
   "execution_count": 22,
   "id": "ee4e0544-8a78-4bd5-a675-b705895f1973",
   "metadata": {},
   "outputs": [
    {
     "data": {
      "text/plain": [
       "['AirTemp_degC',\n",
       " 'Longwave_Wm-2',\n",
       " 'Latent_Wm-2',\n",
       " 'Sensible_Wm-2',\n",
       " 'Shortwave_Wm-2',\n",
       " 'lightExtinct_m-1',\n",
       " 'ShearStress_Nm-2',\n",
       " 'ice',\n",
       " 'snow',\n",
       " 'snowice',\n",
       " 'temp_diff03_0.5',\n",
       " 'temp_diff03_1.0',\n",
       " 'temp_diff03_1.5',\n",
       " 'temp_diff03_2.0',\n",
       " 'temp_diff03_2.5',\n",
       " 'temp_diff03_3.0',\n",
       " 'temp_diff03_3.5',\n",
       " 'temp_diff03_4.0',\n",
       " 'temp_diff03_4.5',\n",
       " 'temp_diff03_5.0',\n",
       " 'temp_diff03_5.5',\n",
       " 'temp_diff03_6.0',\n",
       " 'temp_diff03_6.5',\n",
       " 'temp_diff03_7.0',\n",
       " 'temp_diff03_7.5',\n",
       " 'temp_diff03_8.0',\n",
       " 'temp_diff03_8.5',\n",
       " 'temp_diff03_9.0',\n",
       " 'temp_diff03_9.5',\n",
       " 'temp_diff03_10.0',\n",
       " 'temp_diff03_10.5',\n",
       " 'temp_diff03_11.0',\n",
       " 'temp_diff03_11.5',\n",
       " 'temp_diff03_12.0',\n",
       " 'temp_diff03_12.5',\n",
       " 'temp_diff03_13.0',\n",
       " 'temp_diff03_13.5',\n",
       " 'temp_diff03_14.0',\n",
       " 'temp_diff03_14.5',\n",
       " 'temp_diff03_15.0',\n",
       " 'temp_diff03_15.5',\n",
       " 'temp_diff03_16.0',\n",
       " 'temp_diff03_16.5',\n",
       " 'temp_diff03_17.0',\n",
       " 'temp_diff03_17.5',\n",
       " 'temp_diff03_18.0',\n",
       " 'temp_diff03_18.5',\n",
       " 'temp_diff03_19.0',\n",
       " 'temp_diff03_19.5',\n",
       " 'temp_diff03_20.0',\n",
       " 'temp_diff03_20.5',\n",
       " 'temp_diff03_21.0',\n",
       " 'temp_diff03_21.5',\n",
       " 'temp_diff03_22.0',\n",
       " 'temp_diff03_22.5',\n",
       " 'temp_diff03_23.0',\n",
       " 'temp_diff03_23.5',\n",
       " 'temp_diff03_24.0',\n",
       " 'temp_diff03_24.5',\n",
       " 'temp_diff03_25.0']"
      ]
     },
     "execution_count": 22,
     "metadata": {},
     "output_type": "execute_result"
    }
   ],
   "source": [
    "utils.inp_cols"
   ]
  },
  {
   "cell_type": "code",
   "execution_count": 23,
   "id": "9b88b504",
   "metadata": {},
   "outputs": [],
   "source": [
    "'''\n",
    "Data Scaling\n",
    "'''\n",
    "df_train = utils.normalize(df_train)"
   ]
  },
  {
   "cell_type": "code",
   "execution_count": 24,
   "id": "5f626d00-eac6-419c-a95d-f40b32a2b02a",
   "metadata": {},
   "outputs": [],
   "source": [
    "df_test = utils.normalize(df_test, use_stat=True)"
   ]
  },
  {
   "cell_type": "code",
   "execution_count": 25,
   "id": "9fdc2abe-c885-457b-984a-72fb729ad293",
   "metadata": {},
   "outputs": [],
   "source": [
    "feature_cols += ['doy_sin', 'doy_cos', 'tod_sin', 'tod_cos']"
   ]
  },
  {
   "cell_type": "code",
   "execution_count": 26,
   "id": "e4babb9a-8ce6-48be-a62f-0af3bcc91030",
   "metadata": {},
   "outputs": [
    {
     "data": {
      "text/plain": [
       "['AirTemp_degC',\n",
       " 'Longwave_Wm-2',\n",
       " 'Latent_Wm-2',\n",
       " 'Sensible_Wm-2',\n",
       " 'Shortwave_Wm-2',\n",
       " 'lightExtinct_m-1',\n",
       " 'ShearStress_Nm-2',\n",
       " 'ice',\n",
       " 'snow',\n",
       " 'snowice',\n",
       " 'temp_diff03_0.5',\n",
       " 'temp_diff03_1.0',\n",
       " 'temp_diff03_1.5',\n",
       " 'temp_diff03_2.0',\n",
       " 'temp_diff03_2.5',\n",
       " 'temp_diff03_3.0',\n",
       " 'temp_diff03_3.5',\n",
       " 'temp_diff03_4.0',\n",
       " 'temp_diff03_4.5',\n",
       " 'temp_diff03_5.0',\n",
       " 'temp_diff03_5.5',\n",
       " 'temp_diff03_6.0',\n",
       " 'temp_diff03_6.5',\n",
       " 'temp_diff03_7.0',\n",
       " 'temp_diff03_7.5',\n",
       " 'temp_diff03_8.0',\n",
       " 'temp_diff03_8.5',\n",
       " 'temp_diff03_9.0',\n",
       " 'temp_diff03_9.5',\n",
       " 'temp_diff03_10.0',\n",
       " 'temp_diff03_10.5',\n",
       " 'temp_diff03_11.0',\n",
       " 'temp_diff03_11.5',\n",
       " 'temp_diff03_12.0',\n",
       " 'temp_diff03_12.5',\n",
       " 'temp_diff03_13.0',\n",
       " 'temp_diff03_13.5',\n",
       " 'temp_diff03_14.0',\n",
       " 'temp_diff03_14.5',\n",
       " 'temp_diff03_15.0',\n",
       " 'temp_diff03_15.5',\n",
       " 'temp_diff03_16.0',\n",
       " 'temp_diff03_16.5',\n",
       " 'temp_diff03_17.0',\n",
       " 'temp_diff03_17.5',\n",
       " 'temp_diff03_18.0',\n",
       " 'temp_diff03_18.5',\n",
       " 'temp_diff03_19.0',\n",
       " 'temp_diff03_19.5',\n",
       " 'temp_diff03_20.0',\n",
       " 'temp_diff03_20.5',\n",
       " 'temp_diff03_21.0',\n",
       " 'temp_diff03_21.5',\n",
       " 'temp_diff03_22.0',\n",
       " 'temp_diff03_22.5',\n",
       " 'temp_diff03_23.0',\n",
       " 'temp_diff03_23.5',\n",
       " 'temp_diff03_24.0',\n",
       " 'temp_diff03_24.5',\n",
       " 'temp_diff03_25.0',\n",
       " 'doy_sin',\n",
       " 'doy_cos',\n",
       " 'tod_sin',\n",
       " 'tod_cos']"
      ]
     },
     "execution_count": 26,
     "metadata": {},
     "output_type": "execute_result"
    }
   ],
   "source": [
    "utils.inp_cols"
   ]
  },
  {
   "cell_type": "code",
   "execution_count": 27,
   "id": "67e5eb5d-f319-4630-af29-e4a63b1cb272",
   "metadata": {},
   "outputs": [],
   "source": [
    "df_train['doy_sin'] = train_doy_sin\n",
    "df_train['doy_cos'] = train_doy_cos\n",
    "df_test['doy_sin'] = test_doy_sin\n",
    "df_test['doy_cos'] = test_doy_cos"
   ]
  },
  {
   "cell_type": "code",
   "execution_count": 28,
   "id": "b07feb4b-336a-4f6a-b24f-4426def07e28",
   "metadata": {},
   "outputs": [],
   "source": [
    "df_train['tod_sin'] = train_tod_sin\n",
    "df_train['tod_cos'] = train_tod_cos\n",
    "df_test['tod_sin'] = test_tod_sin\n",
    "df_test['tod_cos'] = test_tod_cos"
   ]
  },
  {
   "cell_type": "code",
   "execution_count": 29,
   "id": "47545b57-8fa4-4261-8c65-abed536cd857",
   "metadata": {},
   "outputs": [],
   "source": [
    "'''\n",
    "convert the mean and std to torch\n",
    "'''\n",
    "utils.y_mean = torch.tensor(utils.y_mean, device=device)\n",
    "utils.y_std = torch.tensor(utils.y_std, device=device)"
   ]
  },
  {
   "cell_type": "code",
   "execution_count": 30,
   "id": "77b072a9-dfd2-4a42-9f97-ef14c7712b3d",
   "metadata": {},
   "outputs": [
    {
     "data": {
      "text/plain": [
       "tensor([10.1005, 10.1581, 10.2029, 10.2337, 10.2534, 10.2615, 10.2585, 10.2492,\n",
       "        10.2300, 10.2000, 10.1660, 10.1176, 10.0438,  9.9460,  9.8580,  9.7349,\n",
       "         9.6189,  9.4899,  9.3367,  9.1905,  9.0190,  8.8053,  8.5458,  8.2925,\n",
       "         8.0828,  7.8673,  7.6295,  7.4294,  7.2482,  7.0237,  6.7800,  6.5822,\n",
       "         6.4095,  6.2334,  6.0480,  5.8627,  5.7069,  5.6065,  5.5390,  5.5035,\n",
       "         5.4891,  5.4737,  5.4823,  5.5070,  5.5376,  5.5717,  5.6058,  5.6386,\n",
       "         5.6477,  5.6179], device='cuda:0', dtype=torch.float64)"
      ]
     },
     "execution_count": 30,
     "metadata": {},
     "output_type": "execute_result"
    }
   ],
   "source": [
    "utils.y_mean"
   ]
  },
  {
   "cell_type": "code",
   "execution_count": 31,
   "id": "98860b77-b2e7-40ed-9436-3af6ba931359",
   "metadata": {},
   "outputs": [
    {
     "data": {
      "text/plain": [
       "tensor([9.3025, 9.2315, 9.1628, 9.1012, 9.0451, 8.9889, 8.9332, 8.8808, 8.8272,\n",
       "        8.7672, 8.7094, 8.6384, 8.5307, 8.4011, 8.2920, 8.1573, 8.0399, 7.8841,\n",
       "        7.7062, 7.5438, 7.3588, 7.1610, 6.9432, 6.7433, 6.5725, 6.3599, 6.0940,\n",
       "        5.8810, 5.6637, 5.3618, 5.0456, 4.8153, 4.6246, 4.4222, 4.1840, 3.9354,\n",
       "        3.7430, 3.6266, 3.5348, 3.4670, 3.3968, 3.2924, 3.2293, 3.1870, 3.1521,\n",
       "        3.1201, 3.0900, 3.0593, 3.0284, 2.8981], device='cuda:0',\n",
       "       dtype=torch.float64)"
      ]
     },
     "execution_count": 31,
     "metadata": {},
     "output_type": "execute_result"
    }
   ],
   "source": [
    "utils.y_std"
   ]
  },
  {
   "cell_type": "code",
   "execution_count": 32,
   "id": "b5c99eb9-4325-492c-b07e-31dc3a5c7ec6",
   "metadata": {},
   "outputs": [],
   "source": [
    "utils.num_features = len(utils.inp_cols)"
   ]
  },
  {
   "cell_type": "markdown",
   "id": "f6124fab-0adf-4afb-a5d7-888cba5f963a",
   "metadata": {},
   "source": [
    "#### Create train and test samples\n",
    "Each sample is created using a sliding window. 1 sliding window = 1 lookback window + 1 horizon window = 1 sample"
   ]
  },
  {
   "cell_type": "code",
   "execution_count": 33,
   "id": "32633512",
   "metadata": {},
   "outputs": [],
   "source": [
    "'''\n",
    "Prepare data : 1 training sample = lookback window + horizon window\n",
    "'''\n",
    "Xtrain, Ytrain = utils.windowed_dataset(df_train)\n",
    "Xtest, Ytest = utils.windowed_dataset(df_test)"
   ]
  },
  {
   "cell_type": "code",
   "execution_count": 34,
   "id": "a32f176f-cd84-456f-b30e-3882a21d319d",
   "metadata": {},
   "outputs": [
    {
     "data": {
      "text/plain": [
       "(31399, 72, 64)"
      ]
     },
     "execution_count": 34,
     "metadata": {},
     "output_type": "execute_result"
    }
   ],
   "source": [
    "Xtrain.shape"
   ]
  },
  {
   "cell_type": "code",
   "execution_count": 35,
   "id": "a178463d-7210-4651-90c5-4b41ad7727bc",
   "metadata": {},
   "outputs": [
    {
     "data": {
      "text/plain": [
       "(31399, 72, 50)"
      ]
     },
     "execution_count": 35,
     "metadata": {},
     "output_type": "execute_result"
    }
   ],
   "source": [
    "Ytrain.shape"
   ]
  },
  {
   "cell_type": "code",
   "execution_count": 36,
   "id": "a55f31ae-352c-4ec3-bbc0-803da54132b2",
   "metadata": {},
   "outputs": [
    {
     "data": {
      "text/plain": [
       "(20885, 72, 64)"
      ]
     },
     "execution_count": 36,
     "metadata": {},
     "output_type": "execute_result"
    }
   ],
   "source": [
    "Xtest.shape"
   ]
  },
  {
   "cell_type": "code",
   "execution_count": 37,
   "id": "da06e766-1b6f-4d42-920d-2ae686f2119b",
   "metadata": {},
   "outputs": [
    {
     "data": {
      "text/plain": [
       "(20885, 72, 50)"
      ]
     },
     "execution_count": 37,
     "metadata": {},
     "output_type": "execute_result"
    }
   ],
   "source": [
    "Ytest.shape"
   ]
  },
  {
   "cell_type": "markdown",
   "id": "b2669ecd-b3ea-44a7-8b0e-9ea8ba5b4d54",
   "metadata": {},
   "source": [
    "#### Datatype conversion to torch"
   ]
  },
  {
   "cell_type": "code",
   "execution_count": 38,
   "id": "8ac361b9",
   "metadata": {},
   "outputs": [],
   "source": [
    "'''\n",
    "Convert data into torch type\n",
    "'''\n",
    "X_train, Y_train, X_test, Y_test = utils.numpy_to_torch(Xtrain, Ytrain, Xtest, Ytest)"
   ]
  },
  {
   "cell_type": "markdown",
   "id": "58550039-d54d-4c7c-a3d1-d4d1705eca6e",
   "metadata": {},
   "source": [
    "## 3. Modeling"
   ]
  },
  {
   "cell_type": "markdown",
   "id": "a986f11a-3fe4-46a0-a0b4-3d2ac0173251",
   "metadata": {},
   "source": [
    "#### Define the model"
   ]
  },
  {
   "cell_type": "code",
   "execution_count": 39,
   "id": "bab68642",
   "metadata": {},
   "outputs": [],
   "source": [
    "'''\n",
    "Create the seq2seq model\n",
    "'''\n",
    "model = seq2seq(input_size = X_train.shape[2], \n",
    "                hidden_size = hidden_feature_size, \n",
    "                output_size=output_size,\n",
    "                model_type=model_type,\n",
    "                num_layers = num_layers,\n",
    "                utils=utils,\n",
    "                dropout=dropout,\n",
    "                device=device\n",
    "               )"
   ]
  },
  {
   "cell_type": "markdown",
   "id": "699fb6f4-af02-4b7a-8c02-3741d6575496",
   "metadata": {},
   "source": [
    "#### Train the model"
   ]
  },
  {
   "cell_type": "code",
   "execution_count": null,
   "id": "dc77e512",
   "metadata": {
    "scrolled": true,
    "tags": []
   },
   "outputs": [
    {
     "data": {
      "application/vnd.jupyter.widget-view+json": {
       "model_id": "b945fc23b7694ec29500c850771f5b1e",
       "version_major": 2,
       "version_minor": 0
      },
      "text/plain": [
       "VBox(children=(Label(value='Waiting for wandb.init()...\\r'), FloatProgress(value=0.011277777779226502, max=1.0…"
      ]
     },
     "metadata": {},
     "output_type": "display_data"
    },
    {
     "data": {
      "text/html": [
       "wandb version 0.16.4 is available!  To upgrade, please run:\n",
       " $ pip install wandb --upgrade"
      ],
      "text/plain": [
       "<IPython.core.display.HTML object>"
      ]
     },
     "metadata": {},
     "output_type": "display_data"
    },
    {
     "data": {
      "text/html": [
       "Tracking run with wandb version 0.16.3"
      ],
      "text/plain": [
       "<IPython.core.display.HTML object>"
      ]
     },
     "metadata": {},
     "output_type": "display_data"
    },
    {
     "data": {
      "text/html": [
       "Run data is saved locally in <code>D:\\projects\\1d_aempy\\1D-AEMpy\\mcl\\2_preTraining\\wandb\\run-20240313_130207-c07w4ryg</code>"
      ],
      "text/plain": [
       "<IPython.core.display.HTML object>"
      ]
     },
     "metadata": {},
     "output_type": "display_data"
    },
    {
     "data": {
      "text/html": [
       "Syncing run <strong><a href='https://wandb.ai/computational-limnology/mcl_lstm/runs/c07w4ryg' target=\"_blank\">conv_run_2024-03-13_13:00:33.591686</a></strong> to <a href='https://wandb.ai/computational-limnology/mcl_lstm' target=\"_blank\">Weights & Biases</a> (<a href='https://wandb.me/run' target=\"_blank\">docs</a>)<br/>"
      ],
      "text/plain": [
       "<IPython.core.display.HTML object>"
      ]
     },
     "metadata": {},
     "output_type": "display_data"
    },
    {
     "data": {
      "text/html": [
       " View project at <a href='https://wandb.ai/computational-limnology/mcl_lstm' target=\"_blank\">https://wandb.ai/computational-limnology/mcl_lstm</a>"
      ],
      "text/plain": [
       "<IPython.core.display.HTML object>"
      ]
     },
     "metadata": {},
     "output_type": "display_data"
    },
    {
     "data": {
      "text/html": [
       " View run at <a href='https://wandb.ai/computational-limnology/mcl_lstm/runs/c07w4ryg' target=\"_blank\">https://wandb.ai/computational-limnology/mcl_lstm/runs/c07w4ryg</a>"
      ],
      "text/plain": [
       "<IPython.core.display.HTML object>"
      ]
     },
     "metadata": {},
     "output_type": "display_data"
    },
    {
     "name": "stderr",
     "output_type": "stream",
     "text": [
      "  0%|                                                                                          | 0/100 [00:00<?, ?it/s]\n",
      "  0%|                                                                                          | 0/982 [00:00<?, ?it/s]\u001b[A\n",
      "  0%|                                                                                  | 1/982 [00:03<58:00,  3.55s/it]\u001b[A\n",
      "  0%|▏                                                                                 | 2/982 [00:03<26:44,  1.64s/it]\u001b[A\n",
      "  0%|▎                                                                                 | 3/982 [00:04<16:21,  1.00s/it]\u001b[A\n",
      "  0%|▎                                                                                 | 4/982 [00:05<18:04,  1.11s/it]\u001b[A\n",
      "  1%|▍                                                                                 | 5/982 [00:05<13:46,  1.18it/s]\u001b[A\n",
      "  1%|▌                                                                                 | 6/982 [00:06<10:35,  1.54it/s]\u001b[A\n",
      "  1%|▌                                                                                 | 7/982 [00:06<09:14,  1.76it/s]\u001b[A\n",
      "  1%|▋                                                                                 | 8/982 [00:06<08:40,  1.87it/s]\u001b[A\n",
      "  1%|▊                                                                                 | 9/982 [00:07<08:36,  1.88it/s]\u001b[A\n",
      "  1%|▊                                                                                | 10/982 [00:07<06:56,  2.33it/s]\u001b[A\n",
      "  1%|▉                                                                                | 11/982 [00:08<09:01,  1.79it/s]\u001b[A\n",
      "  1%|▉                                                                                | 12/982 [00:09<09:11,  1.76it/s]\u001b[A\n",
      "  1%|█                                                                                | 13/982 [00:10<12:45,  1.27it/s]\u001b[A\n",
      "  1%|█▏                                                                               | 14/982 [00:10<10:31,  1.53it/s]\u001b[A\n",
      "  2%|█▏                                                                               | 15/982 [00:12<15:43,  1.03it/s]\u001b[A\n",
      "  2%|█▎                                                                               | 16/982 [00:12<12:38,  1.27it/s]\u001b[A\n",
      "  2%|█▍                                                                               | 17/982 [00:13<10:02,  1.60it/s]\u001b[A\n",
      "  2%|█▍                                                                               | 18/982 [00:13<08:13,  1.95it/s]\u001b[A\n",
      "  2%|█▌                                                                               | 19/982 [00:13<06:58,  2.30it/s]\u001b[A\n",
      "  2%|█▋                                                                               | 20/982 [00:13<06:03,  2.65it/s]\u001b[A\n",
      "  2%|█▋                                                                               | 21/982 [00:13<05:02,  3.18it/s]\u001b[A\n",
      "  2%|█▊                                                                               | 22/982 [00:14<08:24,  1.90it/s]\u001b[A\n",
      "  2%|█▉                                                                               | 23/982 [00:16<11:32,  1.38it/s]\u001b[A\n",
      "  2%|█▉                                                                               | 24/982 [00:17<13:44,  1.16it/s]\u001b[A\n",
      "  3%|██                                                                               | 25/982 [00:18<13:07,  1.22it/s]\u001b[A\n",
      "  3%|██▏                                                                              | 26/982 [00:19<14:40,  1.09it/s]\u001b[A\n",
      "  3%|██▏                                                                            | 27/982 [00:31<1:10:06,  4.41s/it]\u001b[A\n",
      "  3%|██▎                                                                              | 28/982 [00:32<50:31,  3.18s/it]\u001b[A\n",
      "  3%|██▍                                                                              | 29/982 [00:32<39:47,  2.51s/it]\u001b[A\n",
      "  3%|██▍                                                                              | 30/982 [00:34<35:50,  2.26s/it]\u001b[A\n",
      "  3%|██▌                                                                              | 31/982 [00:34<26:30,  1.67s/it]\u001b[A\n",
      "  3%|██▋                                                                              | 32/982 [00:35<19:57,  1.26s/it]\u001b[A\n",
      "  3%|██▋                                                                              | 33/982 [00:36<21:35,  1.36s/it]\u001b[A\n",
      "  3%|██▊                                                                              | 34/982 [00:37<17:37,  1.12s/it]\u001b[A\n",
      "  4%|██▉                                                                              | 35/982 [00:38<15:20,  1.03it/s]\u001b[A\n",
      "  4%|██▉                                                                              | 36/982 [00:38<12:34,  1.25it/s]\u001b[A\n",
      "  4%|███                                                                              | 37/982 [00:38<10:46,  1.46it/s]\u001b[A\n",
      "  4%|███▏                                                                             | 38/982 [00:39<09:32,  1.65it/s]\u001b[A\n",
      "  4%|███▏                                                                             | 39/982 [00:39<08:27,  1.86it/s]\u001b[A\n",
      "  4%|███▎                                                                             | 40/982 [00:40<08:09,  1.92it/s]\u001b[A\n",
      "  4%|███▍                                                                             | 41/982 [00:40<07:40,  2.04it/s]\u001b[A\n",
      "  4%|███▍                                                                             | 42/982 [00:40<07:26,  2.11it/s]\u001b[A\n",
      "  4%|███▌                                                                             | 43/982 [00:42<12:53,  1.21it/s]\u001b[A\n",
      "  4%|███▋                                                                             | 44/982 [00:42<10:35,  1.48it/s]\u001b[A\n",
      "  5%|███▋                                                                             | 45/982 [00:43<09:19,  1.68it/s]\u001b[A\n",
      "  5%|███▊                                                                             | 46/982 [00:43<08:28,  1.84it/s]\u001b[A\n",
      "  5%|███▉                                                                             | 47/982 [00:44<07:48,  2.00it/s]\u001b[A\n",
      "  5%|███▉                                                                             | 48/982 [00:44<07:22,  2.11it/s]\u001b[A\n",
      "  5%|████                                                                             | 49/982 [00:45<07:03,  2.20it/s]\u001b[A\n",
      "  5%|████                                                                             | 50/982 [00:45<06:51,  2.27it/s]\u001b[A\n",
      "  5%|████▏                                                                            | 51/982 [00:45<06:43,  2.31it/s]\u001b[A\n",
      "  5%|████▎                                                                            | 52/982 [00:46<06:30,  2.38it/s]\u001b[A\n",
      "  5%|████▎                                                                            | 53/982 [00:46<06:21,  2.43it/s]\u001b[A\n",
      "  5%|████▍                                                                            | 54/982 [00:46<06:13,  2.49it/s]\u001b[A\n",
      "  6%|████▌                                                                            | 55/982 [00:47<05:54,  2.62it/s]\u001b[A\n",
      "  6%|████▌                                                                            | 56/982 [00:48<07:32,  2.05it/s]\u001b[A\n",
      "  6%|████▋                                                                            | 57/982 [00:48<07:05,  2.17it/s]\u001b[A\n",
      "  6%|████▊                                                                            | 58/982 [00:48<06:27,  2.39it/s]\u001b[A\n",
      "  6%|████▊                                                                            | 59/982 [00:49<06:15,  2.46it/s]\u001b[A\n",
      "  6%|████▉                                                                            | 60/982 [00:49<06:01,  2.55it/s]\u001b[A\n",
      "  6%|█████                                                                            | 61/982 [00:49<05:59,  2.56it/s]\u001b[A\n",
      "  6%|█████                                                                            | 62/982 [00:50<05:48,  2.64it/s]\u001b[A\n",
      "  6%|█████▏                                                                           | 63/982 [00:50<05:46,  2.65it/s]\u001b[A\n",
      "  7%|█████▎                                                                           | 64/982 [00:51<05:53,  2.59it/s]\u001b[A\n"
     ]
    },
    {
     "name": "stderr",
     "output_type": "stream",
     "text": [
      "  7%|█████▎                                                                           | 65/982 [00:51<05:34,  2.74it/s]\u001b[A\n",
      "  7%|█████▍                                                                           | 66/982 [00:51<05:27,  2.79it/s]\u001b[A\n",
      "  7%|█████▌                                                                           | 67/982 [00:52<05:19,  2.87it/s]\u001b[A\n",
      "  7%|█████▌                                                                           | 68/982 [00:52<05:13,  2.91it/s]\u001b[A\n",
      "  7%|█████▋                                                                           | 69/982 [00:52<05:16,  2.88it/s]\u001b[A\n",
      "  7%|█████▊                                                                           | 70/982 [00:53<05:48,  2.62it/s]\u001b[A\n",
      "  7%|█████▊                                                                           | 71/982 [00:53<06:37,  2.29it/s]\u001b[A\n",
      "  7%|█████▉                                                                           | 72/982 [00:54<09:15,  1.64it/s]\u001b[A\n",
      "  7%|██████                                                                           | 73/982 [00:55<11:01,  1.37it/s]\u001b[A\n",
      "  8%|██████                                                                           | 74/982 [00:56<12:18,  1.23it/s]\u001b[A\n",
      "  8%|██████▏                                                                          | 75/982 [00:57<13:08,  1.15it/s]\u001b[A\n",
      "  8%|█████▋                                                                   | 76/982 [1:24:30<378:35:11, 1504.32s/it]\u001b[A"
     ]
    }
   ],
   "source": [
    "'''\n",
    "Train the model\n",
    "'''\n",
    "config = {\n",
    "    \"batch_size\": batch_size,\n",
    "    \"epochs\": epochs,\n",
    "    \"learning_rate\": learning_rate,\n",
    "    \"eval_freq\": eval_freq,\n",
    "    \"batch_shuffle\": batch_shuffle,\n",
    "    \"dropout\":dropout,\n",
    "    \"num_layers\": num_layers,\n",
    "    \"hidden_feature_size\": hidden_feature_size,\n",
    "    \"model_type\": model_type,\n",
    "    \"teacher_forcing_ratio\": teacher_forcing_ratio,\n",
    "    \"max_lr\": max_lr,\n",
    "    \"div_factor\": div_factor,\n",
    "    \"pct_start\": pct_start,\n",
    "    \"anneal_strategy\": anneal_strategy,\n",
    "    \"final_div_factor\": final_div_factor,\n",
    "    \"dataset\": file,\n",
    "    \"split_ratio\":split_ratio,\n",
    "    \"input_window\":input_window,\n",
    "    \"output_window\":output_window,\n",
    "    \"early_stop_thres\":thres,\n",
    "    \"early_stop_delta\":delta,\n",
    "    \"early_stop\":early_stop,\n",
    "    \"weight_decay\":weight_decay\n",
    "}\n",
    "loss, test_rmse, train_rmse = model.train_model(X_train, \n",
    "                                                Y_train,\n",
    "                                                X_test,\n",
    "                                                Y_test,\n",
    "                                                target_len = output_window,\n",
    "                                                config = config,\n",
    "                                                training_prediction = training_prediction,  \n",
    "                                                dynamic_tf = False,\n",
    "                                                project_name = wandb_project,\n",
    "                                                run_name = wandb_run,\n",
    "                                                save_code = save_code)"
   ]
  },
  {
   "cell_type": "code",
   "execution_count": null,
   "id": "30f51d08-ea31-4639-b813-660ba2520fe3",
   "metadata": {},
   "outputs": [],
   "source": [
    "plt.figure(figsize=(5,4), dpi=150)\n",
    "plt.plot(train_rmse, lw=2.0, label='train_rmse')\n",
    "plt.plot(test_rmse, lw=2.0, label='test_rmse')\n",
    "plt.yscale(\"log\")\n",
    "plt.grid(\"on\", alpha=0.2)\n",
    "plt.legend()\n",
    "plt.show()"
   ]
  },
  {
   "cell_type": "markdown",
   "id": "ad8ee90e-bc91-4d92-8909-cbd0deeab4ee",
   "metadata": {},
   "source": [
    "#### Plot the train test curves"
   ]
  },
  {
   "cell_type": "code",
   "execution_count": null,
   "id": "ca21dec7",
   "metadata": {},
   "outputs": [],
   "source": [
    "plt.figure(figsize=(5,4), dpi=150)\n",
    "plt.plot(train_rmse, lw=2.0, label='train_rmse')\n",
    "plt.plot(test_rmse, lw=2.0, label='test_rmse')\n",
    "plt.yscale(\"log\")\n",
    "plt.grid(\"on\", alpha=0.2)\n",
    "plt.legend()\n",
    "plt.show()"
   ]
  },
  {
   "cell_type": "markdown",
   "id": "f5f78016-bd9e-4a0d-8c70-65ab6417fc18",
   "metadata": {},
   "source": [
    "#### Save the model"
   ]
  },
  {
   "cell_type": "code",
   "execution_count": null,
   "id": "cc17d582-c1e2-4d44-b7bf-5d1d94f2032c",
   "metadata": {},
   "outputs": [],
   "source": [
    "load = False\n",
    "\n",
    "# If load=True, specify the model to load in the below line\n",
    "MODEL_PATH = \"./models/model_weights_test_run_2023-03-21_22:42:45.577525\""
   ]
  },
  {
   "cell_type": "code",
   "execution_count": null,
   "id": "653b5abd-40dc-4e4f-a3d2-dc799bf38faa",
   "metadata": {
    "scrolled": true,
    "tags": []
   },
   "outputs": [],
   "source": [
    "\n",
    "if load:\n",
    "    model.load_state_dict(torch.load(MODEL_PATH))\n",
    "else:\n",
    "    MODEL_PATH='./models/model_weights_{}'.format(wandb_run[:22])\n",
    "    if not os.path.exists('./models'):\n",
    "        os.mkdir('./models')\n",
    "    torch.save(model.state_dict(), MODEL_PATH)"
   ]
  },
  {
   "cell_type": "code",
   "execution_count": null,
   "id": "f8e56b5d",
   "metadata": {},
   "outputs": [],
   "source": [
    "'''\n",
    "Perform evaluation\n",
    "'''\n",
    "train_eval_dict = model.evaluate_batch(X_train.to(device), Y_train.to(device))\n",
    "test_eval_dict = model.evaluate_batch(X_test.to(device), Y_test.to(device))"
   ]
  },
  {
   "cell_type": "code",
   "execution_count": null,
   "id": "dfc849b9-cb83-400b-b425-8db149835e8c",
   "metadata": {},
   "outputs": [],
   "source": [
    "X_test.shape"
   ]
  },
  {
   "cell_type": "code",
   "execution_count": null,
   "id": "1b4c0f42-fb8c-417d-91f8-4ac5cddfb848",
   "metadata": {},
   "outputs": [],
   "source": [
    "X_train.shape"
   ]
  },
  {
   "cell_type": "code",
   "execution_count": null,
   "id": "b48092f7-9727-4dce-a4d5-7e20fefdc660",
   "metadata": {},
   "outputs": [],
   "source": [
    "Y_train.shape"
   ]
  },
  {
   "cell_type": "code",
   "execution_count": null,
   "id": "2656e966-8e81-4fcb-aefe-f92e0131f663",
   "metadata": {},
   "outputs": [],
   "source": [
    "Y_test.shape"
   ]
  },
  {
   "cell_type": "code",
   "execution_count": null,
   "id": "6beeecd5-f0b1-44df-8cc6-046068cfe923",
   "metadata": {},
   "outputs": [],
   "source": [
    "test_eval_dict['y_true'][1001][2]"
   ]
  },
  {
   "cell_type": "code",
   "execution_count": null,
   "id": "56146695-79d5-4342-94a3-47d438ba3fa1",
   "metadata": {},
   "outputs": [],
   "source": [
    "test_eval_dict['y_pred'][1001][2]"
   ]
  },
  {
   "cell_type": "markdown",
   "id": "2f823151-8ef6-44ed-bbed-bb3ac5af5ced",
   "metadata": {},
   "source": [
    "## 4. Plotting and Evaluation"
   ]
  },
  {
   "cell_type": "code",
   "execution_count": null,
   "id": "a28c6f34-f882-4309-8104-e8555091ca00",
   "metadata": {},
   "outputs": [],
   "source": [
    "'''\n",
    "Create plot tables for T+n th predictions\n",
    "'''\n",
    "train_gt = train_eval_dict['y_true']\n",
    "train_gt_df = pd.DataFrame(train_gt.cpu().numpy()[:,:,0])\n",
    "train_gt_values = np.append(train_gt_df[0].values, train_gt_df.iloc[-1,1:]) # ground-truth values for train data\n",
    "\n",
    "test_gt = test_eval_dict['y_true']\n",
    "test_gt_df = pd.DataFrame(test_gt.cpu().numpy()[:,:,0])\n",
    "test_gt_values = np.append(test_gt_df[0].values, test_gt_df.iloc[-1,1:]) # ground-truth values for test data\n",
    "\n",
    "train_pred = train_eval_dict['y_pred'] # model predicted values for train data\n",
    "test_pred = test_eval_dict['y_pred'] # model predicted values for test data\n",
    "\n",
    "df_train_comp = df_train\n",
    "#df_train_comp=df_train_comp.rename(columns = {'time':'Date'})\n",
    "#print(df_train_comp.Date)\n",
    "\n",
    "df_test_comp = df_test\n",
    "#df_test_comp=df_test_comp.rename(columns = {'time':'Date'})\n",
    "#print(df_test_comp.Date)\n",
    "\n",
    "print(df_train_comp.shape)\n",
    "print(train_pred.shape)\n",
    "print(train_gt_values.shape)\n",
    "\n",
    "train_T_pred_table, train_plot_df, plot_train_gt_values = utils.predictionTable(df_train_comp, train_pred, train_gt_values)\n",
    "\n",
    "test_T_pred_table, test_plot_df, plot_test_gt_values = utils.predictionTable(df_test_comp, test_pred, test_gt_values)"
   ]
  },
  {
   "cell_type": "code",
   "execution_count": null,
   "id": "833f0782-40ea-4029-9b68-ecbca1fbb688",
   "metadata": {},
   "outputs": [],
   "source": [
    "'''\n",
    "Generate the plots on train data\n",
    "'''\n",
    "\n",
    "# Specify the list of T+n predictions to plot\n",
    "horizon_range = [1,7, 14] # this will plot T+1 and T+n predictions w.r.t Ground truth\n",
    "\n",
    "utils.plotTable(train_plot_df, plot_train_gt_values, horizon_range)"
   ]
  },
  {
   "cell_type": "code",
   "execution_count": null,
   "id": "d5be123d-baca-4003-b81e-3aa06df6d529",
   "metadata": {},
   "outputs": [],
   "source": [
    "'''\n",
    "Generate the plots on test data\n",
    "'''\n",
    "\n",
    "# Specify the list of T+n predictions to plot\n",
    "horizon_range = [1,7,14] # this will plot T+1 and T+n predictions w.r.t Ground truth\n",
    "\n",
    "utils.plotTable(test_plot_df, plot_test_gt_values, horizon_range)"
   ]
  },
  {
   "cell_type": "markdown",
   "id": "b5bc7047-5538-4432-acd2-96e33c88999b",
   "metadata": {},
   "source": [
    "#### Compute the RMSE values"
   ]
  },
  {
   "cell_type": "code",
   "execution_count": null,
   "id": "2b734924-9dcf-42e8-b912-c603df473767",
   "metadata": {},
   "outputs": [],
   "source": [
    "'''\n",
    "Compute train rmse\n",
    "\n",
    "- Train RMSE values for all T+n th predictions. The index represents the T+n\n",
    "\n",
    "'''\n",
    "rmse_values = []\n",
    "for i in range(output_window):\n",
    "    rmse_values.append(utils.compute_rmse(i, train_T_pred_table, train_gt_values))\n",
    "rmse_values = pd.DataFrame(rmse_values, columns=['RMSE'], index=range(1,output_window+1))\n",
    "rmse_values"
   ]
  },
  {
   "cell_type": "code",
   "execution_count": null,
   "id": "6615cc16-3e4a-45c5-a05b-3660d8ccd359",
   "metadata": {},
   "outputs": [],
   "source": [
    "'''\n",
    "Compute test rmse\n",
    "\n",
    "- Test RMSE values for all T+n th predictions. The index represents the T+n\n",
    "\n",
    "'''\n",
    "test_rmse_values = []\n",
    "for i in range(output_window):\n",
    "    test_rmse_values.append(utils.compute_rmse(i, test_T_pred_table, test_gt_values))\n",
    "test_rmse_values = pd.DataFrame(test_rmse_values, columns=['RMSE'], index=range(1,output_window+1))\n",
    "test_rmse_values"
   ]
  },
  {
   "cell_type": "code",
   "execution_count": null,
   "id": "02af4f5d-9eb0-4349-ad08-830eba4503de",
   "metadata": {},
   "outputs": [],
   "source": []
  },
  {
   "cell_type": "code",
   "execution_count": null,
   "id": "0934e75f-34ee-4c6e-ab44-f48a9df0ce52",
   "metadata": {},
   "outputs": [],
   "source": []
  }
 ],
 "metadata": {
  "kernelspec": {
   "display_name": "Python 3 (ipykernel)",
   "language": "python",
   "name": "python3"
  },
  "language_info": {
   "codemirror_mode": {
    "name": "ipython",
    "version": 3
   },
   "file_extension": ".py",
   "mimetype": "text/x-python",
   "name": "python",
   "nbconvert_exporter": "python",
   "pygments_lexer": "ipython3",
   "version": "3.11.5"
  }
 },
 "nbformat": 4,
 "nbformat_minor": 5
}
