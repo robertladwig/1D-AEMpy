{
 "cells": [
  {
   "cell_type": "markdown",
   "id": "21298510-143b-4486-826e-76daea4b5178",
   "metadata": {},
   "source": [
    "## Chlorophyll-a forecasting using LSTM Model\n",
    "\n"
   ]
  },
  {
   "cell_type": "markdown",
   "id": "149c97d2-6b77-4cb6-8da4-b235cf32f355",
   "metadata": {},
   "source": [
    "#### Getting Started:\n",
    "1. Before running the notebook, please make sure to have the following python version and libraries are installed <br>\n",
    "- python 3.9.12\n",
    "- pytorch (https://pytorch.org/get-started/locally/)\n",
    "\n",
    "2. Create an account in Weights and Biases (WANDB) (https://wandb.ai/home). While running the notebook, you maybe prompted to enter the WANDB username\n",
    "\n",
    "<br>\n",
    "The requirements.txt file lists the basic libraries require. Running the following cell should install all of them (in case they are not already installed). \n",
    "\n",
    "In case, any library is missed here, you would be prompted with an ImportError. In such case, just install it with pip (google -> pip install library_name)"
   ]
  },
  {
   "cell_type": "code",
   "execution_count": 35,
   "id": "9647d322-fa23-46b0-a057-2b5b5b8e9b91",
   "metadata": {
    "scrolled": true,
    "tags": []
   },
   "outputs": [
    {
     "name": "stdout",
     "output_type": "stream",
     "text": [
      "Requirement already satisfied: numpy in c:\\users\\au740615\\appdata\\local\\anaconda3\\lib\\site-packages (from -r requirements.txt (line 1)) (1.24.3)\n",
      "Requirement already satisfied: pandas in c:\\users\\au740615\\appdata\\local\\anaconda3\\lib\\site-packages (from -r requirements.txt (line 2)) (2.0.3)\n",
      "Requirement already satisfied: wandb in c:\\users\\au740615\\appdata\\local\\anaconda3\\lib\\site-packages (from -r requirements.txt (line 3)) (0.16.3)\n",
      "Requirement already satisfied: matplotlib in c:\\users\\au740615\\appdata\\local\\anaconda3\\lib\\site-packages (from -r requirements.txt (line 4)) (3.7.2)\n",
      "Requirement already satisfied: python-dateutil>=2.8.2 in c:\\users\\au740615\\appdata\\local\\anaconda3\\lib\\site-packages (from pandas->-r requirements.txt (line 2)) (2.8.2)\n",
      "Requirement already satisfied: pytz>=2020.1 in c:\\users\\au740615\\appdata\\local\\anaconda3\\lib\\site-packages (from pandas->-r requirements.txt (line 2)) (2023.3.post1)\n",
      "Requirement already satisfied: tzdata>=2022.1 in c:\\users\\au740615\\appdata\\local\\anaconda3\\lib\\site-packages (from pandas->-r requirements.txt (line 2)) (2023.3)\n",
      "Requirement already satisfied: Click!=8.0.0,>=7.1 in c:\\users\\au740615\\appdata\\local\\anaconda3\\lib\\site-packages (from wandb->-r requirements.txt (line 3)) (8.0.4)\n",
      "Requirement already satisfied: GitPython!=3.1.29,>=1.0.0 in c:\\users\\au740615\\appdata\\local\\anaconda3\\lib\\site-packages (from wandb->-r requirements.txt (line 3)) (3.1.42)\n",
      "Requirement already satisfied: requests<3,>=2.0.0 in c:\\users\\au740615\\appdata\\local\\anaconda3\\lib\\site-packages (from wandb->-r requirements.txt (line 3)) (2.31.0)\n",
      "Requirement already satisfied: psutil>=5.0.0 in c:\\users\\au740615\\appdata\\local\\anaconda3\\lib\\site-packages (from wandb->-r requirements.txt (line 3)) (5.9.0)\n",
      "Requirement already satisfied: sentry-sdk>=1.0.0 in c:\\users\\au740615\\appdata\\local\\anaconda3\\lib\\site-packages (from wandb->-r requirements.txt (line 3)) (1.40.5)\n",
      "Requirement already satisfied: docker-pycreds>=0.4.0 in c:\\users\\au740615\\appdata\\local\\anaconda3\\lib\\site-packages (from wandb->-r requirements.txt (line 3)) (0.4.0)\n",
      "Requirement already satisfied: PyYAML in c:\\users\\au740615\\appdata\\local\\anaconda3\\lib\\site-packages (from wandb->-r requirements.txt (line 3)) (6.0)\n",
      "Requirement already satisfied: setproctitle in c:\\users\\au740615\\appdata\\local\\anaconda3\\lib\\site-packages (from wandb->-r requirements.txt (line 3)) (1.3.3)\n",
      "Requirement already satisfied: setuptools in c:\\users\\au740615\\appdata\\local\\anaconda3\\lib\\site-packages (from wandb->-r requirements.txt (line 3)) (68.0.0)\n",
      "Requirement already satisfied: appdirs>=1.4.3 in c:\\users\\au740615\\appdata\\local\\anaconda3\\lib\\site-packages (from wandb->-r requirements.txt (line 3)) (1.4.4)\n",
      "Requirement already satisfied: protobuf!=4.21.0,<5,>=3.19.0 in c:\\users\\au740615\\appdata\\local\\anaconda3\\lib\\site-packages (from wandb->-r requirements.txt (line 3)) (4.25.3)\n",
      "Requirement already satisfied: contourpy>=1.0.1 in c:\\users\\au740615\\appdata\\local\\anaconda3\\lib\\site-packages (from matplotlib->-r requirements.txt (line 4)) (1.0.5)\n",
      "Requirement already satisfied: cycler>=0.10 in c:\\users\\au740615\\appdata\\local\\anaconda3\\lib\\site-packages (from matplotlib->-r requirements.txt (line 4)) (0.11.0)\n",
      "Requirement already satisfied: fonttools>=4.22.0 in c:\\users\\au740615\\appdata\\local\\anaconda3\\lib\\site-packages (from matplotlib->-r requirements.txt (line 4)) (4.25.0)\n",
      "Requirement already satisfied: kiwisolver>=1.0.1 in c:\\users\\au740615\\appdata\\local\\anaconda3\\lib\\site-packages (from matplotlib->-r requirements.txt (line 4)) (1.4.4)\n",
      "Requirement already satisfied: packaging>=20.0 in c:\\users\\au740615\\appdata\\local\\anaconda3\\lib\\site-packages (from matplotlib->-r requirements.txt (line 4)) (23.1)\n",
      "Requirement already satisfied: pillow>=6.2.0 in c:\\users\\au740615\\appdata\\local\\anaconda3\\lib\\site-packages (from matplotlib->-r requirements.txt (line 4)) (10.0.1)\n",
      "Requirement already satisfied: pyparsing<3.1,>=2.3.1 in c:\\users\\au740615\\appdata\\local\\anaconda3\\lib\\site-packages (from matplotlib->-r requirements.txt (line 4)) (3.0.9)\n",
      "Requirement already satisfied: colorama in c:\\users\\au740615\\appdata\\local\\anaconda3\\lib\\site-packages (from Click!=8.0.0,>=7.1->wandb->-r requirements.txt (line 3)) (0.4.6)\n",
      "Requirement already satisfied: six>=1.4.0 in c:\\users\\au740615\\appdata\\local\\anaconda3\\lib\\site-packages (from docker-pycreds>=0.4.0->wandb->-r requirements.txt (line 3)) (1.16.0)\n",
      "Requirement already satisfied: gitdb<5,>=4.0.1 in c:\\users\\au740615\\appdata\\local\\anaconda3\\lib\\site-packages (from GitPython!=3.1.29,>=1.0.0->wandb->-r requirements.txt (line 3)) (4.0.11)\n",
      "Requirement already satisfied: charset-normalizer<4,>=2 in c:\\users\\au740615\\appdata\\local\\anaconda3\\lib\\site-packages (from requests<3,>=2.0.0->wandb->-r requirements.txt (line 3)) (2.0.4)\n",
      "Requirement already satisfied: idna<4,>=2.5 in c:\\users\\au740615\\appdata\\local\\anaconda3\\lib\\site-packages (from requests<3,>=2.0.0->wandb->-r requirements.txt (line 3)) (3.4)\n",
      "Requirement already satisfied: urllib3<3,>=1.21.1 in c:\\users\\au740615\\appdata\\local\\anaconda3\\lib\\site-packages (from requests<3,>=2.0.0->wandb->-r requirements.txt (line 3)) (1.26.16)\n",
      "Requirement already satisfied: certifi>=2017.4.17 in c:\\users\\au740615\\appdata\\local\\anaconda3\\lib\\site-packages (from requests<3,>=2.0.0->wandb->-r requirements.txt (line 3)) (2024.2.2)\n",
      "Requirement already satisfied: smmap<6,>=3.0.1 in c:\\users\\au740615\\appdata\\local\\anaconda3\\lib\\site-packages (from gitdb<5,>=4.0.1->GitPython!=3.1.29,>=1.0.0->wandb->-r requirements.txt (line 3)) (5.0.1)\n"
     ]
    }
   ],
   "source": [
    "!pip install -r requirements.txt"
   ]
  },
  {
   "cell_type": "code",
   "execution_count": 36,
   "id": "1fc72a57",
   "metadata": {},
   "outputs": [],
   "source": [
    "import random\n",
    "import pandas as pd\n",
    "import numpy as np\n",
    "from tqdm import trange\n",
    "import os\n",
    "import datetime\n",
    "import matplotlib.pyplot as plt\n",
    "\n",
    "import torch\n",
    "import torch.nn as nn\n",
    "from torch import optim\n",
    "\n",
    "from utils import Utils\n",
    "from encoder_decoder import seq2seq\n",
    "\n",
    "import warnings\n",
    "warnings.filterwarnings('ignore')"
   ]
  },
  {
   "cell_type": "markdown",
   "id": "04422e54-1a3e-484d-8073-6f8ab1157654",
   "metadata": {},
   "source": [
    "## 0. GPU Selection\n",
    "Check if GPU is available on the machine the notebook is running. If yes, then assign a GPU, else run it on CPU"
   ]
  },
  {
   "cell_type": "code",
   "execution_count": 37,
   "id": "37545ef0-b10e-4533-8709-65455aeb879c",
   "metadata": {},
   "outputs": [
    {
     "name": "stdout",
     "output_type": "stream",
     "text": [
      "cuda\n"
     ]
    }
   ],
   "source": [
    "if torch.cuda.is_available():\n",
    "    device = torch.device('cuda')\n",
    "else:\n",
    "    device = torch.device('cpu')\n",
    "\n",
    "print(device)"
   ]
  },
  {
   "cell_type": "markdown",
   "id": "98d19519-ab89-45d4-a445-cace50675429",
   "metadata": {},
   "source": [
    "## 1. Parameter setting"
   ]
  },
  {
   "cell_type": "markdown",
   "id": "4fe55ca3-ae44-4e45-a80b-76bebb2719c7",
   "metadata": {},
   "source": [
    "#### Specify the wandb project and wandb run\n",
    "wandb refers to Weights and Biases. Integrating this tool into the notebook will allow it to access the run details and generate train and test curves, among many other information"
   ]
  },
  {
   "cell_type": "code",
   "execution_count": 38,
   "id": "87960245-ad8f-458f-8cf9-48a8302075e2",
   "metadata": {},
   "outputs": [],
   "source": [
    "# wandb project name\n",
    "wandb_project = \"lake_modeling\"\n",
    "\n",
    "# wandb run name\n",
    "wandb_run = \"test_run_{}_{}\".format(str(datetime.datetime.now().date()), str(datetime.datetime.now().time()))\n",
    "\n",
    "# Yes if we want wandb to save our python code, else no\n",
    "save_code = True"
   ]
  },
  {
   "cell_type": "markdown",
   "id": "1ffb0fdc-998e-4fe8-bb68-4833174db28b",
   "metadata": {},
   "source": [
    "#### Specify the input path (where the dataset is stored) and dataset name\n",
    "Note: For different dataset, the processing/handling can/will be different. In this notebook, FCR (observational) data has been considered. It also has a metadata file that stores the column names and types. \n",
    "<br>\n",
    "For the purpose of the tutorial, the notebook is kept simple, hence, going with FCR data for now"
   ]
  },
  {
   "cell_type": "code",
   "execution_count": 39,
   "id": "c9452b15",
   "metadata": {},
   "outputs": [],
   "source": [
    "# Input path\n",
    "path = './'\n",
    "\n",
    "# Name of the file\n",
    "file = '../1_trainingData/all_data_lake_modeling_in_time_perRow.csv'\n",
    "\n",
    "# Name of the metadata file\n",
    "#../metadata = 'LSTM_dataset_column_key_07OCT22.csv'"
   ]
  },
  {
   "cell_type": "markdown",
   "id": "a7d6647e-bf85-450a-bdba-11b65cf7a19f",
   "metadata": {},
   "source": [
    "#### Specify the Time-series specific parameters"
   ]
  },
  {
   "cell_type": "code",
   "execution_count": 40,
   "id": "e7676d8b",
   "metadata": {},
   "outputs": [],
   "source": [
    "# Lookback window\n",
    "input_window = 24*7\n",
    "\n",
    "# horizon window\n",
    "output_window = 24*7\n",
    "\n",
    "# stride - While creating samples (lookback window + horizon window = 1 sample) define the amount of stride the sliding window needs to take\n",
    "stride = 1\n",
    "\n",
    "# The ratio in which train and test data is split. If it is 0.8, then first 80% of data goes into train and remaining 20% into test\n",
    "split_ratio = 0.6"
   ]
  },
  {
   "cell_type": "markdown",
   "id": "c022d5d9-93ad-4ad9-9f13-dee45af13236",
   "metadata": {},
   "source": [
    "#### Specify the model specific parameters"
   ]
  },
  {
   "cell_type": "code",
   "execution_count": 41,
   "id": "f667a463",
   "metadata": {},
   "outputs": [],
   "source": [
    "# Types of Model include: LSTM, GRU, RNN\n",
    "model_type = \"LSTM\"\n",
    "\n",
    "# Number of layers in our deep learning model\n",
    "num_layers = 1\n",
    "\n",
    "# Hidden cell (RNN/LSTM/GRU) size\n",
    "hidden_feature_size = 16\n",
    "\n",
    "# Output size of our encoder_decoder model, i.e. number of target variables\n",
    "output_size = 50\n",
    "\n",
    "'''\n",
    "Model Training parameters\n",
    "'''\n",
    "# batch_size during training\n",
    "batch_size = 32\n",
    "\n",
    "# Number of epochs we want to train the model for (1 epoch = 1 pass of the complete training data through the model)\n",
    "epochs = 200\n",
    "\n",
    "# Learning rate specifies the rate at which we want to update the model parameters after every training pass\n",
    "learning_rate = 0.001\n",
    "\n",
    "# Eval freq says how frequently during training do you want to evaluate your model on the validation data (to see its performance on non-training data)\n",
    "eval_freq = 10 # logic is -> if iteration_num % eval_freq == 0 -> then perform evaluation\n",
    "\n",
    "# While generating the training batches do we want the generator to shuffle the batches?\n",
    "batch_shuffle = True\n",
    "\n",
    "# Dropout is a form of regularization\n",
    "dropout = 0.02\n",
    "\n",
    "'''\n",
    "Learning rate scheduler parameters\n",
    "'''\n",
    "max_lr=5e-4\n",
    "div_factor=100\n",
    "pct_start=0.05 \n",
    "anneal_strategy='cos'\n",
    "final_div_factor=10000.0\n",
    "\n",
    "'''\n",
    "Parameters for early stopping\n",
    "'''\n",
    "# Set to True if we want Early stopping\n",
    "early_stop = False\n",
    "\n",
    "# If there is no improvement for a 'thres' number of epocs stop the training process\n",
    "thres=5\n",
    "\n",
    "# Quantifying the improvement. If the validation loss is greater than min_val_loss_so_far + delta for thres number of iterations stop the training\n",
    "delta=0.5\n",
    "\n",
    "'''\n",
    "Other parameters\n",
    "'''\n",
    "# Specify the amount of L2 regularization to be applied.\n",
    "weight_decay=0.05\n",
    "\n",
    "# Specify the percentage of times we want to enforce teacher forcing\n",
    "teacher_forcing_ratio = 0.0\n",
    "training_prediction = 'recursive'"
   ]
  },
  {
   "cell_type": "markdown",
   "id": "7baed735-58cd-4ebe-9687-8fe7d5c256b3",
   "metadata": {},
   "source": [
    "## 2. Data Processing"
   ]
  },
  {
   "cell_type": "markdown",
   "id": "c1a8f79d-c2da-4869-b5a8-357d12527987",
   "metadata": {},
   "source": [
    "#### Read the metadata file"
   ]
  },
  {
   "cell_type": "code",
   "execution_count": 42,
   "id": "912e2327",
   "metadata": {},
   "outputs": [],
   "source": [
    "depth_steps = 25 * 2 \n",
    "\n",
    "depth_list = np.array(list(range(1, depth_steps+1))   )*0.5\n",
    "\n"
   ]
  },
  {
   "cell_type": "code",
   "execution_count": 43,
   "id": "9eeb8e8f",
   "metadata": {},
   "outputs": [],
   "source": [
    "incoming_temp = ['temp_initial00_{}'.format(x) for x in depth_list]\n",
    "outgoing_temp = ['temp_heat01_{}'.format(x) for x in depth_list]\n",
    "\n",
    "dx = pd.read_csv(os.path.join(path,file))\n",
    "\n",
    "#feature_cols = ['AirTemp_degC', 'Longwave_Wm-2', 'Latent_Wm-2', 'Sensible_Wm-2', 'Shortwave_Wm-2',\n",
    "#                'lightExtinct_m-1', 'ShearStress_Nm-2',\n",
    "#                 'day_of_year', 'time_of_day', 'ice', 'snow', 'snowice','Volume_m2','Osgood','MaxDepth_m',\n",
    "#                'MeanDepth_m','Area_m2'] + incoming_temp\n",
    "\n",
    "feature_cols = ['AirTemp_degC', 'Longwave_Wm-2', 'Latent_Wm-2', 'Sensible_Wm-2', 'Shortwave_Wm-2',\n",
    "                'lightExtinct_m-1', 'ShearStress_Nm-2',\n",
    "                 'day_of_year', 'time_of_day', 'ice', 'snow', 'snowice'] + incoming_temp\n",
    "\n",
    "date_col = ['time']\n",
    "\n",
    "target_cols = outgoing_temp"
   ]
  },
  {
   "cell_type": "code",
   "execution_count": 44,
   "id": "cd4317c1",
   "metadata": {},
   "outputs": [],
   "source": [
    "#dx = pd.read_csv(os.path.join(path, metadata))\n",
    "\n",
    "# Extract all col names from Metadata\n",
    "#feature_cols = dx[dx['column_type']=='feature']['column_names'].tolist()  # feature colums represent the input drivers\n",
    "#target_cols = dx[dx['column_type']=='target']['column_names'].tolist()   # target column represent the chlorophyll values\n",
    "#date_col = dx[dx['column_type']=='date']['column_names'].tolist()[0]    # date column stores the date timeline"
   ]
  },
  {
   "cell_type": "code",
   "execution_count": 45,
   "id": "5e6e4a1d-d8d6-4133-968b-1d26b6242610",
   "metadata": {},
   "outputs": [
    {
     "data": {
      "text/plain": [
       "['AirTemp_degC',\n",
       " 'Longwave_Wm-2',\n",
       " 'Latent_Wm-2',\n",
       " 'Sensible_Wm-2',\n",
       " 'Shortwave_Wm-2',\n",
       " 'lightExtinct_m-1',\n",
       " 'ShearStress_Nm-2',\n",
       " 'day_of_year',\n",
       " 'time_of_day',\n",
       " 'ice',\n",
       " 'snow',\n",
       " 'snowice',\n",
       " 'temp_initial00_0.5',\n",
       " 'temp_initial00_1.0',\n",
       " 'temp_initial00_1.5',\n",
       " 'temp_initial00_2.0',\n",
       " 'temp_initial00_2.5',\n",
       " 'temp_initial00_3.0',\n",
       " 'temp_initial00_3.5',\n",
       " 'temp_initial00_4.0',\n",
       " 'temp_initial00_4.5',\n",
       " 'temp_initial00_5.0',\n",
       " 'temp_initial00_5.5',\n",
       " 'temp_initial00_6.0',\n",
       " 'temp_initial00_6.5',\n",
       " 'temp_initial00_7.0',\n",
       " 'temp_initial00_7.5',\n",
       " 'temp_initial00_8.0',\n",
       " 'temp_initial00_8.5',\n",
       " 'temp_initial00_9.0',\n",
       " 'temp_initial00_9.5',\n",
       " 'temp_initial00_10.0',\n",
       " 'temp_initial00_10.5',\n",
       " 'temp_initial00_11.0',\n",
       " 'temp_initial00_11.5',\n",
       " 'temp_initial00_12.0',\n",
       " 'temp_initial00_12.5',\n",
       " 'temp_initial00_13.0',\n",
       " 'temp_initial00_13.5',\n",
       " 'temp_initial00_14.0',\n",
       " 'temp_initial00_14.5',\n",
       " 'temp_initial00_15.0',\n",
       " 'temp_initial00_15.5',\n",
       " 'temp_initial00_16.0',\n",
       " 'temp_initial00_16.5',\n",
       " 'temp_initial00_17.0',\n",
       " 'temp_initial00_17.5',\n",
       " 'temp_initial00_18.0',\n",
       " 'temp_initial00_18.5',\n",
       " 'temp_initial00_19.0',\n",
       " 'temp_initial00_19.5',\n",
       " 'temp_initial00_20.0',\n",
       " 'temp_initial00_20.5',\n",
       " 'temp_initial00_21.0',\n",
       " 'temp_initial00_21.5',\n",
       " 'temp_initial00_22.0',\n",
       " 'temp_initial00_22.5',\n",
       " 'temp_initial00_23.0',\n",
       " 'temp_initial00_23.5',\n",
       " 'temp_initial00_24.0',\n",
       " 'temp_initial00_24.5',\n",
       " 'temp_initial00_25.0']"
      ]
     },
     "execution_count": 45,
     "metadata": {},
     "output_type": "execute_result"
    }
   ],
   "source": [
    "# Specify whether we want to add chlorophyll to the input feature set\n",
    "#feature_cols += target_cols\n",
    "feature_cols"
   ]
  },
  {
   "cell_type": "code",
   "execution_count": 46,
   "id": "4514aca0",
   "metadata": {},
   "outputs": [
    {
     "data": {
      "text/plain": [
       "['temp_heat01_0.5',\n",
       " 'temp_heat01_1.0',\n",
       " 'temp_heat01_1.5',\n",
       " 'temp_heat01_2.0',\n",
       " 'temp_heat01_2.5',\n",
       " 'temp_heat01_3.0',\n",
       " 'temp_heat01_3.5',\n",
       " 'temp_heat01_4.0',\n",
       " 'temp_heat01_4.5',\n",
       " 'temp_heat01_5.0',\n",
       " 'temp_heat01_5.5',\n",
       " 'temp_heat01_6.0',\n",
       " 'temp_heat01_6.5',\n",
       " 'temp_heat01_7.0',\n",
       " 'temp_heat01_7.5',\n",
       " 'temp_heat01_8.0',\n",
       " 'temp_heat01_8.5',\n",
       " 'temp_heat01_9.0',\n",
       " 'temp_heat01_9.5',\n",
       " 'temp_heat01_10.0',\n",
       " 'temp_heat01_10.5',\n",
       " 'temp_heat01_11.0',\n",
       " 'temp_heat01_11.5',\n",
       " 'temp_heat01_12.0',\n",
       " 'temp_heat01_12.5',\n",
       " 'temp_heat01_13.0',\n",
       " 'temp_heat01_13.5',\n",
       " 'temp_heat01_14.0',\n",
       " 'temp_heat01_14.5',\n",
       " 'temp_heat01_15.0',\n",
       " 'temp_heat01_15.5',\n",
       " 'temp_heat01_16.0',\n",
       " 'temp_heat01_16.5',\n",
       " 'temp_heat01_17.0',\n",
       " 'temp_heat01_17.5',\n",
       " 'temp_heat01_18.0',\n",
       " 'temp_heat01_18.5',\n",
       " 'temp_heat01_19.0',\n",
       " 'temp_heat01_19.5',\n",
       " 'temp_heat01_20.0',\n",
       " 'temp_heat01_20.5',\n",
       " 'temp_heat01_21.0',\n",
       " 'temp_heat01_21.5',\n",
       " 'temp_heat01_22.0',\n",
       " 'temp_heat01_22.5',\n",
       " 'temp_heat01_23.0',\n",
       " 'temp_heat01_23.5',\n",
       " 'temp_heat01_24.0',\n",
       " 'temp_heat01_24.5',\n",
       " 'temp_heat01_25.0']"
      ]
     },
     "execution_count": 46,
     "metadata": {},
     "output_type": "execute_result"
    }
   ],
   "source": [
    "target_cols"
   ]
  },
  {
   "cell_type": "markdown",
   "id": "b2858317-ff60-4a47-b03b-8120eff51a9a",
   "metadata": {},
   "source": [
    "#### Create an utility object\n",
    "An object of the Utils class, it contains all the utility functions like splitting train and test data, normalizing the data, etc."
   ]
  },
  {
   "cell_type": "code",
   "execution_count": 47,
   "id": "d0fbd75f-862d-49f7-a4b8-a889da5ccb49",
   "metadata": {},
   "outputs": [],
   "source": [
    "'''\n",
    "Utility instance - to perform data processing, train test split\n",
    "'''\n",
    "utils = Utils(num_features=len(feature_cols), inp_cols=feature_cols, target_cols=target_cols, date_col=date_col,\n",
    "              input_window=input_window, output_window=output_window, num_out_features=output_size, stride=stride)"
   ]
  },
  {
   "cell_type": "markdown",
   "id": "2507a029-f831-493e-984d-bfda26b4cbc9",
   "metadata": {},
   "source": [
    "#### Read the dataset"
   ]
  },
  {
   "cell_type": "code",
   "execution_count": 48,
   "id": "71325c81",
   "metadata": {},
   "outputs": [],
   "source": [
    "'''\n",
    "Read data\n",
    "'''\n",
    "df = pd.read_csv(path+file)"
   ]
  },
  {
   "cell_type": "markdown",
   "id": "68cfdb65-0daa-48ca-866d-cf673335259b",
   "metadata": {},
   "source": [
    "#### Train Test split\n",
    "Ideally, a 3-way split is done - train, val and test. The validation split is generally used to tune the hyper-parameters during training. Once the hyper-parameters are tuned, the model\n",
    "is re-trained on the train+val data. To keep the notebook short and simple, hyper-parameter tuning is not included"
   ]
  },
  {
   "cell_type": "code",
   "execution_count": 49,
   "id": "6cad6087-a46a-469f-b221-2de1bc04e0ba",
   "metadata": {
    "tags": []
   },
   "outputs": [],
   "source": [
    "'''\n",
    "Split data into train and test\n",
    "'''\n",
    "df_train, df_test = utils.train_test_split(df, split_ratio=split_ratio)"
   ]
  },
  {
   "cell_type": "code",
   "execution_count": 50,
   "id": "51c33cb1",
   "metadata": {},
   "outputs": [
    {
     "data": {
      "text/html": [
       "<div>\n",
       "<style scoped>\n",
       "    .dataframe tbody tr th:only-of-type {\n",
       "        vertical-align: middle;\n",
       "    }\n",
       "\n",
       "    .dataframe tbody tr th {\n",
       "        vertical-align: top;\n",
       "    }\n",
       "\n",
       "    .dataframe thead th {\n",
       "        text-align: right;\n",
       "    }\n",
       "</style>\n",
       "<table border=\"1\" class=\"dataframe\">\n",
       "  <thead>\n",
       "    <tr style=\"text-align: right;\">\n",
       "      <th></th>\n",
       "      <th>time</th>\n",
       "      <th>AirTemp_degC</th>\n",
       "      <th>Longwave_Wm-2</th>\n",
       "      <th>Latent_Wm-2</th>\n",
       "      <th>Sensible_Wm-2</th>\n",
       "      <th>Shortwave_Wm-2</th>\n",
       "      <th>lightExtinct_m-1</th>\n",
       "      <th>TKE_Jm-1</th>\n",
       "      <th>ShearStress_Nm-2</th>\n",
       "      <th>Area_m2</th>\n",
       "      <th>...</th>\n",
       "      <th>input_obs_temp22.0</th>\n",
       "      <th>input_obs_temp22.5</th>\n",
       "      <th>input_obs_temp23.0</th>\n",
       "      <th>input_obs_temp23.5</th>\n",
       "      <th>input_obs_temp24.0</th>\n",
       "      <th>input_obs_temp24.5</th>\n",
       "      <th>input_obs_temp25.0</th>\n",
       "      <th>ice</th>\n",
       "      <th>snow</th>\n",
       "      <th>snowice</th>\n",
       "    </tr>\n",
       "  </thead>\n",
       "  <tbody>\n",
       "    <tr>\n",
       "      <th>0</th>\n",
       "      <td>2012-05-19 01:00:00</td>\n",
       "      <td>12.800326</td>\n",
       "      <td>-59.975532</td>\n",
       "      <td>-72.115828</td>\n",
       "      <td>-16.270492</td>\n",
       "      <td>0.000000</td>\n",
       "      <td>0.6</td>\n",
       "      <td>1.903681e+07</td>\n",
       "      <td>0.026008</td>\n",
       "      <td>39850000.0</td>\n",
       "      <td>...</td>\n",
       "      <td>10.581667</td>\n",
       "      <td>10.581667</td>\n",
       "      <td>10.581667</td>\n",
       "      <td>10.581667</td>\n",
       "      <td>10.581667</td>\n",
       "      <td>10.513542</td>\n",
       "      <td>10.594643</td>\n",
       "      <td>0.000000</td>\n",
       "      <td>0.0</td>\n",
       "      <td>0.0</td>\n",
       "    </tr>\n",
       "    <tr>\n",
       "      <th>1</th>\n",
       "      <td>2012-05-19 02:00:00</td>\n",
       "      <td>12.140192</td>\n",
       "      <td>-56.638577</td>\n",
       "      <td>-70.510837</td>\n",
       "      <td>-18.766448</td>\n",
       "      <td>0.000000</td>\n",
       "      <td>0.6</td>\n",
       "      <td>1.770408e+07</td>\n",
       "      <td>0.024780</td>\n",
       "      <td>39850000.0</td>\n",
       "      <td>...</td>\n",
       "      <td>10.583333</td>\n",
       "      <td>10.583333</td>\n",
       "      <td>10.583333</td>\n",
       "      <td>10.583333</td>\n",
       "      <td>10.583333</td>\n",
       "      <td>10.514583</td>\n",
       "      <td>10.596429</td>\n",
       "      <td>0.000000</td>\n",
       "      <td>0.0</td>\n",
       "      <td>0.0</td>\n",
       "    </tr>\n",
       "    <tr>\n",
       "      <th>2</th>\n",
       "      <td>2012-05-19 03:00:00</td>\n",
       "      <td>11.480188</td>\n",
       "      <td>-53.244302</td>\n",
       "      <td>-70.044739</td>\n",
       "      <td>-21.813652</td>\n",
       "      <td>0.000000</td>\n",
       "      <td>0.6</td>\n",
       "      <td>1.649237e+07</td>\n",
       "      <td>0.023636</td>\n",
       "      <td>39850000.0</td>\n",
       "      <td>...</td>\n",
       "      <td>10.585000</td>\n",
       "      <td>10.585000</td>\n",
       "      <td>10.585000</td>\n",
       "      <td>10.585000</td>\n",
       "      <td>10.585000</td>\n",
       "      <td>10.515625</td>\n",
       "      <td>10.598214</td>\n",
       "      <td>0.000000</td>\n",
       "      <td>0.0</td>\n",
       "      <td>0.0</td>\n",
       "    </tr>\n",
       "    <tr>\n",
       "      <th>3</th>\n",
       "      <td>2012-05-19 04:00:00</td>\n",
       "      <td>10.820185</td>\n",
       "      <td>-49.665116</td>\n",
       "      <td>-70.307884</td>\n",
       "      <td>-25.217532</td>\n",
       "      <td>0.000000</td>\n",
       "      <td>0.6</td>\n",
       "      <td>1.540771e+07</td>\n",
       "      <td>0.022588</td>\n",
       "      <td>39850000.0</td>\n",
       "      <td>...</td>\n",
       "      <td>10.586667</td>\n",
       "      <td>10.586667</td>\n",
       "      <td>10.586667</td>\n",
       "      <td>10.586667</td>\n",
       "      <td>10.586667</td>\n",
       "      <td>10.516667</td>\n",
       "      <td>10.600000</td>\n",
       "      <td>0.000000</td>\n",
       "      <td>0.0</td>\n",
       "      <td>0.0</td>\n",
       "    </tr>\n",
       "    <tr>\n",
       "      <th>4</th>\n",
       "      <td>2012-05-19 05:00:00</td>\n",
       "      <td>11.689755</td>\n",
       "      <td>-35.756041</td>\n",
       "      <td>-63.667974</td>\n",
       "      <td>-18.685219</td>\n",
       "      <td>0.000000</td>\n",
       "      <td>0.6</td>\n",
       "      <td>1.631201e+07</td>\n",
       "      <td>0.023464</td>\n",
       "      <td>39850000.0</td>\n",
       "      <td>...</td>\n",
       "      <td>10.588333</td>\n",
       "      <td>10.588333</td>\n",
       "      <td>10.588333</td>\n",
       "      <td>10.588333</td>\n",
       "      <td>10.588333</td>\n",
       "      <td>10.517708</td>\n",
       "      <td>10.601786</td>\n",
       "      <td>0.000000</td>\n",
       "      <td>0.0</td>\n",
       "      <td>0.0</td>\n",
       "    </tr>\n",
       "    <tr>\n",
       "      <th>...</th>\n",
       "      <td>...</td>\n",
       "      <td>...</td>\n",
       "      <td>...</td>\n",
       "      <td>...</td>\n",
       "      <td>...</td>\n",
       "      <td>...</td>\n",
       "      <td>...</td>\n",
       "      <td>...</td>\n",
       "      <td>...</td>\n",
       "      <td>...</td>\n",
       "      <td>...</td>\n",
       "      <td>...</td>\n",
       "      <td>...</td>\n",
       "      <td>...</td>\n",
       "      <td>...</td>\n",
       "      <td>...</td>\n",
       "      <td>...</td>\n",
       "      <td>...</td>\n",
       "      <td>...</td>\n",
       "      <td>...</td>\n",
       "      <td>...</td>\n",
       "    </tr>\n",
       "    <tr>\n",
       "      <th>31537</th>\n",
       "      <td>2015-12-23 17:00:00</td>\n",
       "      <td>12.390125</td>\n",
       "      <td>40.856598</td>\n",
       "      <td>104.914893</td>\n",
       "      <td>119.311101</td>\n",
       "      <td>30.364047</td>\n",
       "      <td>0.6</td>\n",
       "      <td>0.000000e+00</td>\n",
       "      <td>0.098478</td>\n",
       "      <td>39850000.0</td>\n",
       "      <td>...</td>\n",
       "      <td>6.066909</td>\n",
       "      <td>6.026453</td>\n",
       "      <td>6.126453</td>\n",
       "      <td>6.105087</td>\n",
       "      <td>6.033721</td>\n",
       "      <td>6.083721</td>\n",
       "      <td>9.625890</td>\n",
       "      <td>0.144374</td>\n",
       "      <td>0.0</td>\n",
       "      <td>0.0</td>\n",
       "    </tr>\n",
       "    <tr>\n",
       "      <th>31538</th>\n",
       "      <td>2015-12-23 18:00:00</td>\n",
       "      <td>11.980149</td>\n",
       "      <td>38.626374</td>\n",
       "      <td>96.194488</td>\n",
       "      <td>109.318901</td>\n",
       "      <td>0.008449</td>\n",
       "      <td>0.6</td>\n",
       "      <td>0.000000e+00</td>\n",
       "      <td>0.090045</td>\n",
       "      <td>39850000.0</td>\n",
       "      <td>...</td>\n",
       "      <td>6.061919</td>\n",
       "      <td>6.021512</td>\n",
       "      <td>6.121512</td>\n",
       "      <td>6.100291</td>\n",
       "      <td>6.029070</td>\n",
       "      <td>6.079070</td>\n",
       "      <td>9.625959</td>\n",
       "      <td>0.141313</td>\n",
       "      <td>0.0</td>\n",
       "      <td>0.0</td>\n",
       "    </tr>\n",
       "    <tr>\n",
       "      <th>31539</th>\n",
       "      <td>2015-12-23 19:00:00</td>\n",
       "      <td>11.560108</td>\n",
       "      <td>36.264525</td>\n",
       "      <td>88.203586</td>\n",
       "      <td>100.056888</td>\n",
       "      <td>0.000000</td>\n",
       "      <td>0.6</td>\n",
       "      <td>0.000000e+00</td>\n",
       "      <td>0.082538</td>\n",
       "      <td>39850000.0</td>\n",
       "      <td>...</td>\n",
       "      <td>6.056928</td>\n",
       "      <td>6.016570</td>\n",
       "      <td>6.116570</td>\n",
       "      <td>6.095494</td>\n",
       "      <td>6.024419</td>\n",
       "      <td>6.074419</td>\n",
       "      <td>9.626027</td>\n",
       "      <td>0.138503</td>\n",
       "      <td>0.0</td>\n",
       "      <td>0.0</td>\n",
       "    </tr>\n",
       "    <tr>\n",
       "      <th>31540</th>\n",
       "      <td>2015-12-23 20:00:00</td>\n",
       "      <td>11.010156</td>\n",
       "      <td>32.104582</td>\n",
       "      <td>78.434475</td>\n",
       "      <td>92.457032</td>\n",
       "      <td>0.000000</td>\n",
       "      <td>0.6</td>\n",
       "      <td>0.000000e+00</td>\n",
       "      <td>0.077731</td>\n",
       "      <td>39850000.0</td>\n",
       "      <td>...</td>\n",
       "      <td>6.051938</td>\n",
       "      <td>6.011628</td>\n",
       "      <td>6.111628</td>\n",
       "      <td>6.090698</td>\n",
       "      <td>6.019767</td>\n",
       "      <td>6.069767</td>\n",
       "      <td>9.626096</td>\n",
       "      <td>0.135963</td>\n",
       "      <td>0.0</td>\n",
       "      <td>0.0</td>\n",
       "    </tr>\n",
       "    <tr>\n",
       "      <th>31541</th>\n",
       "      <td>2015-12-23 21:00:00</td>\n",
       "      <td>10.460138</td>\n",
       "      <td>27.727663</td>\n",
       "      <td>78.212876</td>\n",
       "      <td>96.328805</td>\n",
       "      <td>0.000000</td>\n",
       "      <td>0.6</td>\n",
       "      <td>0.000000e+00</td>\n",
       "      <td>0.087668</td>\n",
       "      <td>39850000.0</td>\n",
       "      <td>...</td>\n",
       "      <td>6.046948</td>\n",
       "      <td>6.006686</td>\n",
       "      <td>6.106686</td>\n",
       "      <td>6.085901</td>\n",
       "      <td>6.015116</td>\n",
       "      <td>6.065116</td>\n",
       "      <td>9.626164</td>\n",
       "      <td>0.133425</td>\n",
       "      <td>0.0</td>\n",
       "      <td>0.0</td>\n",
       "    </tr>\n",
       "  </tbody>\n",
       "</table>\n",
       "<p>31542 rows × 588 columns</p>\n",
       "</div>"
      ],
      "text/plain": [
       "                      time  AirTemp_degC  Longwave_Wm-2  Latent_Wm-2  \\\n",
       "0      2012-05-19 01:00:00     12.800326     -59.975532   -72.115828   \n",
       "1      2012-05-19 02:00:00     12.140192     -56.638577   -70.510837   \n",
       "2      2012-05-19 03:00:00     11.480188     -53.244302   -70.044739   \n",
       "3      2012-05-19 04:00:00     10.820185     -49.665116   -70.307884   \n",
       "4      2012-05-19 05:00:00     11.689755     -35.756041   -63.667974   \n",
       "...                    ...           ...            ...          ...   \n",
       "31537  2015-12-23 17:00:00     12.390125      40.856598   104.914893   \n",
       "31538  2015-12-23 18:00:00     11.980149      38.626374    96.194488   \n",
       "31539  2015-12-23 19:00:00     11.560108      36.264525    88.203586   \n",
       "31540  2015-12-23 20:00:00     11.010156      32.104582    78.434475   \n",
       "31541  2015-12-23 21:00:00     10.460138      27.727663    78.212876   \n",
       "\n",
       "       Sensible_Wm-2  Shortwave_Wm-2  lightExtinct_m-1      TKE_Jm-1  \\\n",
       "0         -16.270492        0.000000               0.6  1.903681e+07   \n",
       "1         -18.766448        0.000000               0.6  1.770408e+07   \n",
       "2         -21.813652        0.000000               0.6  1.649237e+07   \n",
       "3         -25.217532        0.000000               0.6  1.540771e+07   \n",
       "4         -18.685219        0.000000               0.6  1.631201e+07   \n",
       "...              ...             ...               ...           ...   \n",
       "31537     119.311101       30.364047               0.6  0.000000e+00   \n",
       "31538     109.318901        0.008449               0.6  0.000000e+00   \n",
       "31539     100.056888        0.000000               0.6  0.000000e+00   \n",
       "31540      92.457032        0.000000               0.6  0.000000e+00   \n",
       "31541      96.328805        0.000000               0.6  0.000000e+00   \n",
       "\n",
       "       ShearStress_Nm-2     Area_m2  ...  input_obs_temp22.0  \\\n",
       "0              0.026008  39850000.0  ...           10.581667   \n",
       "1              0.024780  39850000.0  ...           10.583333   \n",
       "2              0.023636  39850000.0  ...           10.585000   \n",
       "3              0.022588  39850000.0  ...           10.586667   \n",
       "4              0.023464  39850000.0  ...           10.588333   \n",
       "...                 ...         ...  ...                 ...   \n",
       "31537          0.098478  39850000.0  ...            6.066909   \n",
       "31538          0.090045  39850000.0  ...            6.061919   \n",
       "31539          0.082538  39850000.0  ...            6.056928   \n",
       "31540          0.077731  39850000.0  ...            6.051938   \n",
       "31541          0.087668  39850000.0  ...            6.046948   \n",
       "\n",
       "       input_obs_temp22.5  input_obs_temp23.0  input_obs_temp23.5  \\\n",
       "0               10.581667           10.581667           10.581667   \n",
       "1               10.583333           10.583333           10.583333   \n",
       "2               10.585000           10.585000           10.585000   \n",
       "3               10.586667           10.586667           10.586667   \n",
       "4               10.588333           10.588333           10.588333   \n",
       "...                   ...                 ...                 ...   \n",
       "31537            6.026453            6.126453            6.105087   \n",
       "31538            6.021512            6.121512            6.100291   \n",
       "31539            6.016570            6.116570            6.095494   \n",
       "31540            6.011628            6.111628            6.090698   \n",
       "31541            6.006686            6.106686            6.085901   \n",
       "\n",
       "       input_obs_temp24.0  input_obs_temp24.5  input_obs_temp25.0       ice  \\\n",
       "0               10.581667           10.513542           10.594643  0.000000   \n",
       "1               10.583333           10.514583           10.596429  0.000000   \n",
       "2               10.585000           10.515625           10.598214  0.000000   \n",
       "3               10.586667           10.516667           10.600000  0.000000   \n",
       "4               10.588333           10.517708           10.601786  0.000000   \n",
       "...                   ...                 ...                 ...       ...   \n",
       "31537            6.033721            6.083721            9.625890  0.144374   \n",
       "31538            6.029070            6.079070            9.625959  0.141313   \n",
       "31539            6.024419            6.074419            9.626027  0.138503   \n",
       "31540            6.019767            6.069767            9.626096  0.135963   \n",
       "31541            6.015116            6.065116            9.626164  0.133425   \n",
       "\n",
       "       snow  snowice  \n",
       "0       0.0      0.0  \n",
       "1       0.0      0.0  \n",
       "2       0.0      0.0  \n",
       "3       0.0      0.0  \n",
       "4       0.0      0.0  \n",
       "...     ...      ...  \n",
       "31537   0.0      0.0  \n",
       "31538   0.0      0.0  \n",
       "31539   0.0      0.0  \n",
       "31540   0.0      0.0  \n",
       "31541   0.0      0.0  \n",
       "\n",
       "[31542 rows x 588 columns]"
      ]
     },
     "execution_count": 50,
     "metadata": {},
     "output_type": "execute_result"
    }
   ],
   "source": [
    "df_train"
   ]
  },
  {
   "cell_type": "markdown",
   "id": "102b30a0-2955-4ebb-b97b-7b2157df0713",
   "metadata": {},
   "source": [
    "#### Normalize the data\n",
    "Standard normalization - 0 mean and 1 standard deviation"
   ]
  },
  {
   "cell_type": "code",
   "execution_count": 51,
   "id": "9b88b504",
   "metadata": {},
   "outputs": [],
   "source": [
    "'''\n",
    "Data Scaling\n",
    "'''\n",
    "df_train = utils.normalize(df_train)"
   ]
  },
  {
   "cell_type": "code",
   "execution_count": null,
   "id": "ced9494b",
   "metadata": {},
   "outputs": [],
   "source": [
    "df_train.head"
   ]
  },
  {
   "cell_type": "code",
   "execution_count": 52,
   "id": "5f626d00-eac6-419c-a95d-f40b32a2b02a",
   "metadata": {},
   "outputs": [],
   "source": [
    "df_test = utils.normalize(df_test, use_stat=True)"
   ]
  },
  {
   "cell_type": "code",
   "execution_count": 53,
   "id": "0b720517",
   "metadata": {},
   "outputs": [
    {
     "data": {
      "text/plain": [
       "<bound method NDFrame.head of                       time  AirTemp_degC  Longwave_Wm-2  Latent_Wm-2  \\\n",
       "0      2015-12-23 22:00:00      0.041303       1.631190     2.624505   \n",
       "1      2015-12-23 23:00:00     -0.121956       1.282957     2.167548   \n",
       "2      2015-12-24 00:00:00     -0.285991       0.923642     1.694477   \n",
       "3      2015-12-24 01:00:00     -0.450033       0.550149     1.034302   \n",
       "4      2015-12-24 02:00:00     -0.531329       0.407681     0.822045   \n",
       "...                    ...           ...            ...          ...   \n",
       "21023  2018-05-17 18:00:00      0.888353       0.578021     0.722357   \n",
       "21024  2018-05-17 19:00:00      0.799623       0.500690     0.694285   \n",
       "21025  2018-05-17 20:00:00      0.640823       0.294908     0.509183   \n",
       "21026  2018-05-17 21:00:00      0.482004       0.098219     0.327400   \n",
       "21027  2018-05-17 22:00:00      0.323184      -0.088448     0.146148   \n",
       "\n",
       "       Sensible_Wm-2  Shortwave_Wm-2  lightExtinct_m-1      TKE_Jm-1  \\\n",
       "0           1.980200       -0.706126          0.004132  0.000000e+00   \n",
       "1           1.690570       -0.706126          0.004132  0.000000e+00   \n",
       "2           1.450090       -0.706126          0.004132  0.000000e+00   \n",
       "3           1.128518       -0.706126          0.004132  0.000000e+00   \n",
       "4           0.785918       -0.706126          0.004132  0.000000e+00   \n",
       "...              ...             ...               ...           ...   \n",
       "21023       1.013658        0.638531          0.004132  6.958788e+07   \n",
       "21024       0.848984       -0.173375          0.004132  6.022339e+07   \n",
       "21025       0.575286       -0.628335          0.004132  4.665847e+07   \n",
       "21026       0.322896       -0.706104          0.004132  3.536746e+07   \n",
       "21027       0.085517       -0.706126          0.004132  2.606367e+07   \n",
       "\n",
       "       ShearStress_Nm-2     Area_m2  ...  input_obs_temp22.0  \\\n",
       "0              2.198669  39850000.0  ...            6.041957   \n",
       "1              2.382608  39850000.0  ...            6.036967   \n",
       "2              3.146683  39850000.0  ...            6.031977   \n",
       "3              4.498148  39850000.0  ...            6.026986   \n",
       "4              3.666638  39850000.0  ...            6.021996   \n",
       "...                 ...         ...  ...                 ...   \n",
       "21023          0.728005  39850000.0  ...            7.136667   \n",
       "21024          0.561465  39850000.0  ...            7.137778   \n",
       "21025          0.303859  39850000.0  ...            7.138889   \n",
       "21026          0.069603  39850000.0  ...            7.140000   \n",
       "21027         -0.143019  39850000.0  ...            7.141111   \n",
       "\n",
       "       input_obs_temp22.5  input_obs_temp23.0  input_obs_temp23.5  \\\n",
       "0                6.001744            6.101744            6.081105   \n",
       "1                5.996802            6.096802            6.076308   \n",
       "2                5.991860            6.091860            6.071512   \n",
       "3                5.986919            6.086919            6.066715   \n",
       "4                5.981977            6.081977            6.061919   \n",
       "...                   ...                 ...                 ...   \n",
       "21023            7.086667            7.086667            7.065000   \n",
       "21024            7.087778            7.087778            7.065833   \n",
       "21025            7.088889            7.088889            7.066667   \n",
       "21026            7.090000            7.090000            7.067500   \n",
       "21027            7.091111            7.091111            7.068333   \n",
       "\n",
       "       input_obs_temp24.0  input_obs_temp24.5  input_obs_temp25.0       ice  \\\n",
       "0                6.010465            6.060465            9.626233 -0.012887   \n",
       "1                6.005814            6.055814            9.626301 -0.022801   \n",
       "2                6.001163            6.051163            9.626370 -0.029363   \n",
       "3                5.996512            6.046512            9.626438 -0.031583   \n",
       "4                5.991860            6.041860            9.626507 -0.031583   \n",
       "...                   ...                 ...                 ...       ...   \n",
       "21023            7.065000            7.065000            7.069643 -0.658121   \n",
       "21024            7.065833            7.065833            7.070536 -0.658121   \n",
       "21025            7.066667            7.066667            7.071429 -0.658121   \n",
       "21026            7.067500            7.067500            7.072321 -0.658121   \n",
       "21027            7.068333            7.068333            7.073214 -0.658121   \n",
       "\n",
       "           snow   snowice  \n",
       "0     -0.565318 -0.403258  \n",
       "1     -0.565318 -0.403258  \n",
       "2     -0.565318 -0.403258  \n",
       "3     -0.565318 -0.403258  \n",
       "4     -0.565318 -0.403258  \n",
       "...         ...       ...  \n",
       "21023 -0.565318 -0.403258  \n",
       "21024 -0.565318 -0.403258  \n",
       "21025 -0.565318 -0.403258  \n",
       "21026 -0.565318 -0.403258  \n",
       "21027 -0.565318 -0.403258  \n",
       "\n",
       "[21028 rows x 588 columns]>"
      ]
     },
     "execution_count": 53,
     "metadata": {},
     "output_type": "execute_result"
    }
   ],
   "source": [
    "df_test.head"
   ]
  },
  {
   "cell_type": "markdown",
   "id": "f6124fab-0adf-4afb-a5d7-888cba5f963a",
   "metadata": {},
   "source": [
    "#### Create train and test samples\n",
    "Each sample is created using a sliding window. 1 sliding window = 1 lookback window + 1 horizon window = 1 sample"
   ]
  },
  {
   "cell_type": "code",
   "execution_count": 54,
   "id": "32633512",
   "metadata": {},
   "outputs": [],
   "source": [
    "'''\n",
    "Prepare data : 1 training sample = lookback window + horizon window\n",
    "'''\n",
    "Xtrain, Ytrain = utils.windowed_dataset(df_train)\n",
    "Xtest, Ytest = utils.windowed_dataset(df_test)"
   ]
  },
  {
   "cell_type": "markdown",
   "id": "b2669ecd-b3ea-44a7-8b0e-9ea8ba5b4d54",
   "metadata": {},
   "source": [
    "#### Datatype conversion to torch"
   ]
  },
  {
   "cell_type": "code",
   "execution_count": 55,
   "id": "8ac361b9",
   "metadata": {},
   "outputs": [],
   "source": [
    "'''\n",
    "Convert data into torch type\n",
    "'''\n",
    "X_train, Y_train, X_test, Y_test = utils.numpy_to_torch(Xtrain, Ytrain, Xtest, Ytest)"
   ]
  },
  {
   "cell_type": "code",
   "execution_count": 56,
   "id": "66e65283-3aec-4770-a22a-13236fc0fa0a",
   "metadata": {},
   "outputs": [
    {
     "data": {
      "text/plain": [
       "torch.Size([31207, 168, 62])"
      ]
     },
     "execution_count": 56,
     "metadata": {},
     "output_type": "execute_result"
    }
   ],
   "source": [
    "X_train.shape"
   ]
  },
  {
   "cell_type": "markdown",
   "id": "58550039-d54d-4c7c-a3d1-d4d1705eca6e",
   "metadata": {},
   "source": [
    "## 3. Modeling"
   ]
  },
  {
   "cell_type": "markdown",
   "id": "a986f11a-3fe4-46a0-a0b4-3d2ac0173251",
   "metadata": {},
   "source": [
    "#### Define the model"
   ]
  },
  {
   "cell_type": "code",
   "execution_count": 57,
   "id": "bab68642",
   "metadata": {},
   "outputs": [],
   "source": [
    "'''\n",
    "Create the seq2seq model\n",
    "'''\n",
    "model = seq2seq(input_size = X_train.shape[2], \n",
    "                hidden_size = hidden_feature_size, \n",
    "                output_size=output_size,\n",
    "                model_type=model_type,\n",
    "                num_layers = num_layers,\n",
    "                utils=utils,\n",
    "                dropout=dropout,\n",
    "                device=device\n",
    "               )"
   ]
  },
  {
   "cell_type": "markdown",
   "id": "699fb6f4-af02-4b7a-8c02-3741d6575496",
   "metadata": {},
   "source": [
    "#### Train the model"
   ]
  },
  {
   "cell_type": "code",
   "execution_count": null,
   "id": "dc77e512",
   "metadata": {},
   "outputs": [
    {
     "data": {
      "text/html": [
       "Tracking run with wandb version 0.16.3"
      ],
      "text/plain": [
       "<IPython.core.display.HTML object>"
      ]
     },
     "metadata": {},
     "output_type": "display_data"
    },
    {
     "data": {
      "text/html": [
       "Run data is saved locally in <code>D:\\projects\\1d_aempy\\1D-AEMpy\\mcl\\2_preTraining\\wandb\\run-20240226_084032-ucui6ruw</code>"
      ],
      "text/plain": [
       "<IPython.core.display.HTML object>"
      ]
     },
     "metadata": {},
     "output_type": "display_data"
    },
    {
     "data": {
      "text/html": [
       "Syncing run <strong><a href='https://wandb.ai/computational-limnology/lake_modeling/runs/ucui6ruw' target=\"_blank\">test_run_2024-02-26_08:39:46.519448</a></strong> to <a href='https://wandb.ai/computational-limnology/lake_modeling' target=\"_blank\">Weights & Biases</a> (<a href='https://wandb.me/run' target=\"_blank\">docs</a>)<br/>"
      ],
      "text/plain": [
       "<IPython.core.display.HTML object>"
      ]
     },
     "metadata": {},
     "output_type": "display_data"
    },
    {
     "data": {
      "text/html": [
       " View project at <a href='https://wandb.ai/computational-limnology/lake_modeling' target=\"_blank\">https://wandb.ai/computational-limnology/lake_modeling</a>"
      ],
      "text/plain": [
       "<IPython.core.display.HTML object>"
      ]
     },
     "metadata": {},
     "output_type": "display_data"
    },
    {
     "data": {
      "text/html": [
       " View run at <a href='https://wandb.ai/computational-limnology/lake_modeling/runs/ucui6ruw' target=\"_blank\">https://wandb.ai/computational-limnology/lake_modeling/runs/ucui6ruw</a>"
      ],
      "text/plain": [
       "<IPython.core.display.HTML object>"
      ]
     },
     "metadata": {},
     "output_type": "display_data"
    },
    {
     "name": "stderr",
     "output_type": "stream",
     "text": [
      " 61%|██████████████████▎           | 122/200 [5:10:18<3:18:58, 153.06s/it, loss=0.527, test_rmse=7.13, train_rmse=6.79]"
     ]
    }
   ],
   "source": [
    "'''\n",
    "Train the model\n",
    "'''\n",
    "config = {\n",
    "    \"batch_size\": batch_size,\n",
    "    \"epochs\": epochs,\n",
    "    \"learning_rate\": learning_rate,\n",
    "    \"eval_freq\": eval_freq,\n",
    "    \"batch_shuffle\": batch_shuffle,\n",
    "    \"dropout\":dropout,\n",
    "    \"num_layers\": num_layers,\n",
    "    \"hidden_feature_size\": hidden_feature_size,\n",
    "    \"model_type\": model_type,\n",
    "    \"teacher_forcing_ratio\": teacher_forcing_ratio,\n",
    "    \"max_lr\": max_lr,\n",
    "    \"div_factor\": div_factor,\n",
    "    \"pct_start\": pct_start,\n",
    "    \"anneal_strategy\": anneal_strategy,\n",
    "    \"final_div_factor\": final_div_factor,\n",
    "    \"dataset\": file,\n",
    "    \"split_ratio\":split_ratio,\n",
    "    \"input_window\":input_window,\n",
    "    \"output_window\":output_window,\n",
    "    \"early_stop_thres\":thres,\n",
    "    \"early_stop_delta\":delta,\n",
    "    \"early_stop\":early_stop,\n",
    "    \"weight_decay\":weight_decay\n",
    "}\n",
    "loss, test_rmse, train_rmse = model.train_model(X_train, \n",
    "                                                Y_train,\n",
    "                                                X_test,\n",
    "                                                Y_test,\n",
    "                                                target_len = output_window,\n",
    "                                                config = config,\n",
    "                                                training_prediction = training_prediction,  \n",
    "                                                dynamic_tf = False,\n",
    "                                                project_name = wandb_project,\n",
    "                                                run_name = wandb_run,\n",
    "                                                save_code = save_code)"
   ]
  },
  {
   "cell_type": "markdown",
   "id": "ad8ee90e-bc91-4d92-8909-cbd0deeab4ee",
   "metadata": {},
   "source": [
    "#### Plot the train test curves"
   ]
  },
  {
   "cell_type": "code",
   "execution_count": null,
   "id": "ca21dec7",
   "metadata": {},
   "outputs": [],
   "source": [
    "plt.figure(figsize=(5,4), dpi=150)\n",
    "plt.plot(train_rmse, lw=2.0, label='train_rmse')\n",
    "plt.plot(test_rmse, lw=2.0, label='test_rmse')\n",
    "plt.yscale(\"log\")\n",
    "plt.grid(\"on\", alpha=0.2)\n",
    "plt.legend()\n",
    "plt.show()"
   ]
  },
  {
   "cell_type": "markdown",
   "id": "f5f78016-bd9e-4a0d-8c70-65ab6417fc18",
   "metadata": {},
   "source": [
    "#### Save the model"
   ]
  },
  {
   "cell_type": "code",
   "execution_count": null,
   "id": "cc17d582-c1e2-4d44-b7bf-5d1d94f2032c",
   "metadata": {},
   "outputs": [],
   "source": [
    "load = False\n",
    "\n",
    "# If load=True, specify the model to load in the below line\n",
    "MODEL_PATH = \"./models/model_weights_test_run_2023-03-21_22:42:45.577525\""
   ]
  },
  {
   "cell_type": "code",
   "execution_count": null,
   "id": "653b5abd-40dc-4e4f-a3d2-dc799bf38faa",
   "metadata": {},
   "outputs": [],
   "source": [
    "if load:\n",
    "    model.load_state_dict(torch.load(MODEL_PATH))\n",
    "else:\n",
    "    MODEL_PATH='./models/model_weights_{}'.format(wandb_run)\n",
    "    if not os.path.exists('./models'):\n",
    "        os.mkdir('./models')\n",
    "    torch.save(model.state_dict(), MODEL_PATH)"
   ]
  },
  {
   "cell_type": "code",
   "execution_count": null,
   "id": "f8e56b5d",
   "metadata": {},
   "outputs": [],
   "source": [
    "'''\n",
    "Perform evaluation\n",
    "'''\n",
    "train_eval_dict = model.evaluate_batch(X_train.to(device), Y_train.to(device))\n",
    "test_eval_dict = model.evaluate_batch(X_test.to(device), Y_test.to(device))"
   ]
  },
  {
   "cell_type": "code",
   "execution_count": null,
   "id": "dfc849b9-cb83-400b-b425-8db149835e8c",
   "metadata": {},
   "outputs": [],
   "source": [
    "X_test.shape"
   ]
  },
  {
   "cell_type": "code",
   "execution_count": null,
   "id": "1b4c0f42-fb8c-417d-91f8-4ac5cddfb848",
   "metadata": {},
   "outputs": [],
   "source": [
    "X_train.shape"
   ]
  },
  {
   "cell_type": "code",
   "execution_count": null,
   "id": "b48092f7-9727-4dce-a4d5-7e20fefdc660",
   "metadata": {},
   "outputs": [],
   "source": [
    "Y_train.shape"
   ]
  },
  {
   "cell_type": "code",
   "execution_count": null,
   "id": "2656e966-8e81-4fcb-aefe-f92e0131f663",
   "metadata": {},
   "outputs": [],
   "source": [
    "Y_test.shape"
   ]
  },
  {
   "cell_type": "markdown",
   "id": "2f823151-8ef6-44ed-bbed-bb3ac5af5ced",
   "metadata": {},
   "source": [
    "## 4. Plotting and Evaluation"
   ]
  },
  {
   "cell_type": "code",
   "execution_count": null,
   "id": "a28c6f34-f882-4309-8104-e8555091ca00",
   "metadata": {},
   "outputs": [],
   "source": [
    "'''\n",
    "Create plot tables for T+n th predictions\n",
    "'''\n",
    "train_gt = train_eval_dict['y_true']\n",
    "train_gt_df = pd.DataFrame(train_gt.cpu().numpy()[:,:,0])\n",
    "train_gt_values = np.append(train_gt_df[0].values, train_gt_df.iloc[-1,1:]) # ground-truth values for train data\n",
    "\n",
    "test_gt = test_eval_dict['y_true']\n",
    "test_gt_df = pd.DataFrame(test_gt.cpu().numpy()[:,:,0])\n",
    "test_gt_values = np.append(test_gt_df[0].values, test_gt_df.iloc[-1,1:]) # ground-truth values for test data\n",
    "\n",
    "train_pred = train_eval_dict['y_pred'] # model predicted values for train data\n",
    "test_pred = test_eval_dict['y_pred'] # model predicted values for test data\n",
    "\n",
    "train_T_pred_table, train_plot_df, plot_train_gt_values = utils.predictionTable(df_train, train_pred, train_gt_values)\n",
    "\n",
    "test_T_pred_table, test_plot_df, plot_test_gt_values = utils.predictionTable(df_test, test_pred, test_gt_values)"
   ]
  },
  {
   "cell_type": "code",
   "execution_count": null,
   "id": "833f0782-40ea-4029-9b68-ecbca1fbb688",
   "metadata": {},
   "outputs": [],
   "source": [
    "'''\n",
    "Generate the plots on train data\n",
    "'''\n",
    "\n",
    "# Specify the list of T+n predictions to plot\n",
    "horizon_range = [1,7, 14] # this will plot T+1 and T+n predictions w.r.t Ground truth\n",
    "\n",
    "utils.plotTable(train_plot_df, plot_train_gt_values, horizon_range)"
   ]
  },
  {
   "cell_type": "code",
   "execution_count": null,
   "id": "d5be123d-baca-4003-b81e-3aa06df6d529",
   "metadata": {},
   "outputs": [],
   "source": [
    "'''\n",
    "Generate the plots on test data\n",
    "'''\n",
    "\n",
    "# Specify the list of T+n predictions to plot\n",
    "horizon_range = [1,7,14] # this will plot T+1 and T+n predictions w.r.t Ground truth\n",
    "\n",
    "utils.plotTable(test_plot_df, plot_test_gt_values, horizon_range)"
   ]
  },
  {
   "cell_type": "markdown",
   "id": "b5bc7047-5538-4432-acd2-96e33c88999b",
   "metadata": {},
   "source": [
    "#### Compute the RMSE values"
   ]
  },
  {
   "cell_type": "code",
   "execution_count": null,
   "id": "2b734924-9dcf-42e8-b912-c603df473767",
   "metadata": {},
   "outputs": [],
   "source": [
    "'''\n",
    "Compute train rmse\n",
    "\n",
    "- Train RMSE values for all T+n th predictions. The index represents the T+n\n",
    "\n",
    "'''\n",
    "rmse_values = []\n",
    "for i in range(output_window):\n",
    "    rmse_values.append(utils.compute_rmse(i, train_T_pred_table, train_gt_values))\n",
    "rmse_values = pd.DataFrame(rmse_values, columns=['RMSE'], index=range(1,output_window+1))\n",
    "rmse_values"
   ]
  },
  {
   "cell_type": "code",
   "execution_count": null,
   "id": "6615cc16-3e4a-45c5-a05b-3660d8ccd359",
   "metadata": {},
   "outputs": [],
   "source": [
    "'''\n",
    "Compute test rmse\n",
    "\n",
    "- Test RMSE values for all T+n th predictions. The index represents the T+n\n",
    "\n",
    "'''\n",
    "test_rmse_values = []\n",
    "for i in range(output_window):\n",
    "    test_rmse_values.append(utils.compute_rmse(i, test_T_pred_table, test_gt_values))\n",
    "test_rmse_values = pd.DataFrame(test_rmse_values, columns=['RMSE'], index=range(1,output_window+1))\n",
    "test_rmse_values"
   ]
  },
  {
   "cell_type": "code",
   "execution_count": null,
   "id": "02af4f5d-9eb0-4349-ad08-830eba4503de",
   "metadata": {},
   "outputs": [],
   "source": []
  },
  {
   "cell_type": "code",
   "execution_count": null,
   "id": "0934e75f-34ee-4c6e-ab44-f48a9df0ce52",
   "metadata": {},
   "outputs": [],
   "source": []
  }
 ],
 "metadata": {
  "kernelspec": {
   "display_name": "Python 3 (ipykernel)",
   "language": "python",
   "name": "python3"
  },
  "language_info": {
   "codemirror_mode": {
    "name": "ipython",
    "version": 3
   },
   "file_extension": ".py",
   "mimetype": "text/x-python",
   "name": "python",
   "nbconvert_exporter": "python",
   "pygments_lexer": "ipython3",
   "version": "3.11.5"
  }
 },
 "nbformat": 4,
 "nbformat_minor": 5
}
